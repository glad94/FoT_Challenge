{
 "cells": [
  {
   "cell_type": "markdown",
   "metadata": {},
   "source": [
    "# Liverpoo Analytics Challenge EDA + Screwing Ard "
   ]
  },
  {
   "cell_type": "code",
   "execution_count": 1,
   "metadata": {},
   "outputs": [],
   "source": [
    "%matplotlib inline"
   ]
  },
  {
   "cell_type": "code",
   "execution_count": 2,
   "metadata": {},
   "outputs": [],
   "source": [
    "import os\n",
    "import sys\n",
    "\n",
    "# Arithmetic\n",
    "import numpy as np\n",
    "import scipy as sp\n",
    "import pandas as pd"
   ]
  },
  {
   "cell_type": "code",
   "execution_count": 3,
   "metadata": {},
   "outputs": [],
   "source": [
    "# Plotting\n",
    "from matplotlib import pyplot as plt\n",
    "from matplotlib.patches import Ellipse\n",
    "from matplotlib.collections import PatchCollection\n",
    "import matplotlib.patheffects as path_effects\n",
    "\n",
    "#Statistical fitting of models\n",
    "import statsmodels.api as sm\n",
    "import statsmodels.formula.api as smf\n",
    "\n",
    "from scipy.spatial import Voronoi\n",
    "from shapely.geometry import Polygon\n"
   ]
  },
  {
   "cell_type": "markdown",
   "metadata": {},
   "source": [
    "From: https://www.youtube.com/watch?v=CQr7qFw6LfY\n",
    "\n",
    "Code used in this video is available here: Prepare an analytics-driven opposition analysis of how Liverpool score goals. \n",
    "\n",
    "https://github.com/Friends-of-Trackin...\n",
    "\n",
    "### The challenge:\n",
    "\n",
    "1, Use one or more of the tools we have learnt so far (pitch control, speed and acceleration, passing networks, pass maps etc.) to analyse the data.\n",
    "\n",
    "2, Feel free to combine with other data available from other sources on Liverpool.\n",
    "\n",
    "3, Produce an output (short report/video) that can be communicated either to a coach, a video analyst or players.\n",
    "\n",
    "4, Write technical details in a separate appendix.\n",
    "\n",
    "5, Post a link in comments below and/or to Twitter using #FoT if you would like to enter  the competition to come on Friends of Tracking and talk about your analysis."
   ]
  },
  {
   "cell_type": "markdown",
   "metadata": {},
   "source": [
    "## Introduction"
   ]
  },
  {
   "cell_type": "markdown",
   "metadata": {},
   "source": [
    "Liverpool's shite. This notebook will analyse goals scored by Liverpool from the provided datasets along with some extra by eye, followed by the exploration of several ideas of how the bin dippers generate recurring patterns of play in order to create their goal scoring opportunities. "
   ]
  },
  {
   "cell_type": "markdown",
   "metadata": {},
   "source": [
    "## The Raw Picture"
   ]
  },
  {
   "cell_type": "markdown",
   "metadata": {},
   "source": [
    "### Who scores and assists the goals for the bin dippers? "
   ]
  },
  {
   "cell_type": "markdown",
   "metadata": {},
   "source": [
    "Source: Transfermarkt <br>\n",
    "\n",
    "For all competitions\n",
    "#### Season: 19/20 (as of 4/5/2020)\n",
    "Goals\n",
    "1. Salah: 20\n",
    "2. Mane: 18\n",
    "3. Firmino: 11\n",
    "4. Oxlade-Chamberlain: 7\n",
    "5. Origi: 5\n",
    "\n",
    "Assists\n",
    "1. Alexander-Arnold: 14\n",
    "2. Firmino: 12\n",
    "3. Mane: 12\n",
    "4. Salah: 9\n",
    "5. Robertson: 7\n",
    "\n",
    "**Total goals scored:** 93 <br>\n",
    "**% scored by forwards:** 55/93 = 59.1% <br>\n",
    "**Total assists given:** 82 <br>\n",
    "**% assisted by forwards:** 37/82 = 45% <br>\n",
    "**% assisted by full-backs:** 24/82 = 29.2%\n",
    "\n",
    "#### Season: 18/19 \n",
    "1. Salah: 27\n",
    "2. Mane: 26\n",
    "3. Firmino: 16\n",
    "4. Origi: 7\n",
    "5. Milner: 7\n",
    "\n",
    "Assists\n",
    "1. Alexander-Arnold: 16\n",
    "2. Robertson: 13\n",
    "3. Salah: 12\n",
    "4. Firmino: 8\n",
    "5. Milner: 7\n",
    "\n",
    "**Total goals scored:** 112 <br>\n",
    "**% scored by forwards:** 86/112 = 76.8% <br>\n",
    "**Total assists given:** 84 <br>\n",
    "**% assisted by forwards:** 33/84 = 39.2% <br>\n",
    "**% assisted by full-backs:** 29/84 = 34.5%"
   ]
  },
  {
   "cell_type": "markdown",
   "metadata": {},
   "source": [
    "#### Some characteristics that can be inferred from the above"
   ]
  },
  {
   "cell_type": "markdown",
   "metadata": {},
   "source": [
    "- Liverpool's goal scorers are very top-heavy and are more or less dominated by the 'big three' of Salah Mane and Firmino. The goals have been more well spread out this current season with the forwards accounting for \"only\" 59.1% of Liverpool's goals compared to 6.8% last season.\n",
    "\n",
    "- Goal stats alone suggest Firmino plays more of a support striker role behind Mane and Salah, however this doesn't necessary mean that he bags more assists (see how he plays in the positional data). \n",
    "\n",
    "- Attacking full-backs. As we already expected, a big facet of Liverpool's game plan relies on their bombarding full-back duo, who have assisted on average over 30% of Liverpool's goals across the 2 seasons. \n",
    "\n",
    "- They've nearly matched their assist count from 18/19 with almost 20 fewer goals scored. This may hint that they are scoring a greater percentage of goals through deliberated crafted chances through team play as opposed to individual brilliance/ lucky bounces or deflections.  \n",
    "\n",
    "- Only midfielders to feature in any of the G/A top 5 are borin' old James Milner (note however that 8 of his 11 goals from the last 2 seasons have come from penalties) and Alex Oxlade-Chamberlain who hasn't been much of a starter since returning from long term injury. Goals don't come too often from their midfield, although when they do...fml"
   ]
  },
  {
   "cell_type": "markdown",
   "metadata": {},
   "source": [
    "## Data Exploration"
   ]
  },
  {
   "cell_type": "markdown",
   "metadata": {},
   "source": [
    "Description from: https://github.com/Friends-of-Tracking-Data-FoTD/Last-Row\n",
    "\n",
    "This repository was created to share new tracking data for educational (and recreational) purposes as part of the Friends of Tracking initiative.\n",
    "\n",
    "The data was collected mainly to make the animations posted on twitter account @lastrowview, and it lacks the accuracy needed for research. Most notably, not all players are included in each play (although every player near the ball at any time is).\n",
    "\n",
    "The main sample file is liverpool_2019.csv, which contains 19 goals scored by Livepool FC in 2019.\n",
    "\n",
    "Columns included:\n",
    "\n",
    "play: the scoreline after the goal. The team who scored the goal is the one next to the brackets. <br>\n",
    "frame: the frame number for the current location. Data provided has 20 frames per second. <br>\n",
    "player: the id of the player. The id is consistent within a play but not between plays. <br>\n",
    "player_num: the player jersey number. This number is the official one, and did not change for Liverpool in 2019. You can check the corresponding names at this wikipedia link. <br>\n",
    "x, y: coordinates for the player/ball. Pitch coordinates go from 0 to 100 on each axis. <br>\n",
    "dx, dx: change in (x,y) coordinates from last frame to current frame <br>\n",
    "z: height, from 0 to 1.5 (only filled for the ball) <br>\n",
    "bgcolor: the main color for the team (used as background color) <br>\n",
    "edgecolor the secondary color (used as edge color) <br>"
   ]
  },
  {
   "cell_type": "markdown",
   "metadata": {},
   "source": [
    "Additionally, a pass dataset was created from liverpool_2019.csv in the demo notebook: liverpool_2019_passes.csv"
   ]
  },
  {
   "cell_type": "markdown",
   "metadata": {},
   "source": [
    "Let's attempt a simple task which is plot the game frame (using the footyviz package) and the shot trajectory at the time which a goal is scored. "
   ]
  },
  {
   "cell_type": "code",
   "execution_count": 7,
   "metadata": {},
   "outputs": [
    {
     "data": {
      "text/html": [
       "<div>\n",
       "<style scoped>\n",
       "    .dataframe tbody tr th:only-of-type {\n",
       "        vertical-align: middle;\n",
       "    }\n",
       "\n",
       "    .dataframe tbody tr th {\n",
       "        vertical-align: top;\n",
       "    }\n",
       "\n",
       "    .dataframe thead th {\n",
       "        text-align: right;\n",
       "    }\n",
       "</style>\n",
       "<table border=\"1\" class=\"dataframe\">\n",
       "  <thead>\n",
       "    <tr style=\"text-align: right;\">\n",
       "      <th></th>\n",
       "      <th></th>\n",
       "      <th>Unnamed: 0</th>\n",
       "      <th>bgcolor</th>\n",
       "      <th>dx</th>\n",
       "      <th>dy</th>\n",
       "      <th>edgecolor</th>\n",
       "      <th>player</th>\n",
       "      <th>player_num</th>\n",
       "      <th>team</th>\n",
       "      <th>x</th>\n",
       "      <th>y</th>\n",
       "      <th>z</th>\n",
       "    </tr>\n",
       "    <tr>\n",
       "      <th>play</th>\n",
       "      <th>frame</th>\n",
       "      <th></th>\n",
       "      <th></th>\n",
       "      <th></th>\n",
       "      <th></th>\n",
       "      <th></th>\n",
       "      <th></th>\n",
       "      <th></th>\n",
       "      <th></th>\n",
       "      <th></th>\n",
       "      <th></th>\n",
       "      <th></th>\n",
       "    </tr>\n",
       "  </thead>\n",
       "  <tbody>\n",
       "    <tr>\n",
       "      <th rowspan=\"5\" valign=\"top\">Liverpool [3] - 0 Bournemouth</th>\n",
       "      <th>0</th>\n",
       "      <td>0</td>\n",
       "      <td>NaN</td>\n",
       "      <td>0.000000</td>\n",
       "      <td>0.000000</td>\n",
       "      <td>NaN</td>\n",
       "      <td>0</td>\n",
       "      <td>NaN</td>\n",
       "      <td>NaN</td>\n",
       "      <td>46.394558</td>\n",
       "      <td>11.134454</td>\n",
       "      <td>0.0</td>\n",
       "    </tr>\n",
       "    <tr>\n",
       "      <th>1</th>\n",
       "      <td>1</td>\n",
       "      <td>NaN</td>\n",
       "      <td>0.185745</td>\n",
       "      <td>1.217580</td>\n",
       "      <td>NaN</td>\n",
       "      <td>0</td>\n",
       "      <td>NaN</td>\n",
       "      <td>NaN</td>\n",
       "      <td>46.580302</td>\n",
       "      <td>12.352034</td>\n",
       "      <td>0.0</td>\n",
       "    </tr>\n",
       "    <tr>\n",
       "      <th>2</th>\n",
       "      <td>2</td>\n",
       "      <td>NaN</td>\n",
       "      <td>0.178659</td>\n",
       "      <td>1.171133</td>\n",
       "      <td>NaN</td>\n",
       "      <td>0</td>\n",
       "      <td>NaN</td>\n",
       "      <td>NaN</td>\n",
       "      <td>46.758961</td>\n",
       "      <td>13.523166</td>\n",
       "      <td>0.0</td>\n",
       "    </tr>\n",
       "    <tr>\n",
       "      <th>3</th>\n",
       "      <td>3</td>\n",
       "      <td>NaN</td>\n",
       "      <td>0.171573</td>\n",
       "      <td>1.124685</td>\n",
       "      <td>NaN</td>\n",
       "      <td>0</td>\n",
       "      <td>NaN</td>\n",
       "      <td>NaN</td>\n",
       "      <td>46.930535</td>\n",
       "      <td>14.647852</td>\n",
       "      <td>0.0</td>\n",
       "    </tr>\n",
       "    <tr>\n",
       "      <th>4</th>\n",
       "      <td>4</td>\n",
       "      <td>NaN</td>\n",
       "      <td>0.164488</td>\n",
       "      <td>1.078238</td>\n",
       "      <td>NaN</td>\n",
       "      <td>0</td>\n",
       "      <td>NaN</td>\n",
       "      <td>NaN</td>\n",
       "      <td>47.095022</td>\n",
       "      <td>15.726090</td>\n",
       "      <td>0.0</td>\n",
       "    </tr>\n",
       "  </tbody>\n",
       "</table>\n",
       "</div>"
      ],
      "text/plain": [
       "                                     Unnamed: 0 bgcolor        dx        dy  \\\n",
       "play                          frame                                           \n",
       "Liverpool [3] - 0 Bournemouth 0               0     NaN  0.000000  0.000000   \n",
       "                              1               1     NaN  0.185745  1.217580   \n",
       "                              2               2     NaN  0.178659  1.171133   \n",
       "                              3               3     NaN  0.171573  1.124685   \n",
       "                              4               4     NaN  0.164488  1.078238   \n",
       "\n",
       "                                    edgecolor  player  player_num team  \\\n",
       "play                          frame                                      \n",
       "Liverpool [3] - 0 Bournemouth 0           NaN       0         NaN  NaN   \n",
       "                              1           NaN       0         NaN  NaN   \n",
       "                              2           NaN       0         NaN  NaN   \n",
       "                              3           NaN       0         NaN  NaN   \n",
       "                              4           NaN       0         NaN  NaN   \n",
       "\n",
       "                                             x          y    z  \n",
       "play                          frame                             \n",
       "Liverpool [3] - 0 Bournemouth 0      46.394558  11.134454  0.0  \n",
       "                              1      46.580302  12.352034  0.0  \n",
       "                              2      46.758961  13.523166  0.0  \n",
       "                              3      46.930535  14.647852  0.0  \n",
       "                              4      47.095022  15.726090  0.0  "
      ]
     },
     "execution_count": 7,
     "metadata": {},
     "output_type": "execute_result"
    }
   ],
   "source": [
    "# Load Data\n",
    "data = pd.read_csv('../datasets/positional_data/liverpool_2019.csv', index_col=('play', 'frame'))\n",
    "\n",
    "data.head()"
   ]
  },
  {
   "cell_type": "code",
   "execution_count": 9,
   "metadata": {},
   "outputs": [
    {
     "data": {
      "text/plain": [
       "Index(['Liverpool [3] - 0 Bournemouth', 'Bayern 0 - [1] Liverpool',\n",
       "       'Fulham 0 - [1] Liverpool', 'Southampton 1 - [2] Liverpool',\n",
       "       'Liverpool [2] - 0 Porto', 'Porto 0 - [2] Liverpool',\n",
       "       'Liverpool [4] - 0 Barcelona', 'Liverpool [1] - 0 Wolves',\n",
       "       'Liverpool [3] - 0 Norwich', 'Liverpool [2] - 1 Chelsea',\n",
       "       'Liverpool [2] - 1 Newcastle', 'Liverpool [2] - 0 Salzburg',\n",
       "       'Genk 0 - [3] Liverpool', 'Liverpool [2] - 0 Man City',\n",
       "       'Liverpool [1] - 0 Everton', 'Liverpool [2] - 0 Everton',\n",
       "       'Bournemouth 0 - 3 Liverpool', 'Liverpool [1] - 0 Watford',\n",
       "       'Leicester 0 - [3] Liverpool'],\n",
       "      dtype='object', name='play')"
      ]
     },
     "execution_count": 9,
     "metadata": {},
     "output_type": "execute_result"
    }
   ],
   "source": [
    "#list of goals included in the dataset\n",
    "data.index.get_level_values('play').unique()"
   ]
  },
  {
   "cell_type": "code",
   "execution_count": 42,
   "metadata": {},
   "outputs": [
    {
     "data": {
      "text/html": [
       "<div>\n",
       "<style scoped>\n",
       "    .dataframe tbody tr th:only-of-type {\n",
       "        vertical-align: middle;\n",
       "    }\n",
       "\n",
       "    .dataframe tbody tr th {\n",
       "        vertical-align: top;\n",
       "    }\n",
       "\n",
       "    .dataframe thead th {\n",
       "        text-align: right;\n",
       "    }\n",
       "</style>\n",
       "<table border=\"1\" class=\"dataframe\">\n",
       "  <thead>\n",
       "    <tr style=\"text-align: right;\">\n",
       "      <th></th>\n",
       "      <th>frame</th>\n",
       "      <th>Unnamed: 0</th>\n",
       "      <th>bgcolor</th>\n",
       "      <th>dx</th>\n",
       "      <th>dy</th>\n",
       "      <th>edgecolor</th>\n",
       "      <th>player</th>\n",
       "      <th>player_num</th>\n",
       "      <th>team</th>\n",
       "      <th>x</th>\n",
       "      <th>y</th>\n",
       "      <th>z</th>\n",
       "    </tr>\n",
       "  </thead>\n",
       "  <tbody>\n",
       "    <tr>\n",
       "      <th>0</th>\n",
       "      <td>0</td>\n",
       "      <td>0</td>\n",
       "      <td>NaN</td>\n",
       "      <td>0.0</td>\n",
       "      <td>0.0</td>\n",
       "      <td>NaN</td>\n",
       "      <td>0</td>\n",
       "      <td>NaN</td>\n",
       "      <td>NaN</td>\n",
       "      <td>80.255236</td>\n",
       "      <td>39.047528</td>\n",
       "      <td>0.0</td>\n",
       "    </tr>\n",
       "    <tr>\n",
       "      <th>1</th>\n",
       "      <td>1</td>\n",
       "      <td>1</td>\n",
       "      <td>NaN</td>\n",
       "      <td>0.0</td>\n",
       "      <td>0.0</td>\n",
       "      <td>NaN</td>\n",
       "      <td>0</td>\n",
       "      <td>NaN</td>\n",
       "      <td>NaN</td>\n",
       "      <td>80.255236</td>\n",
       "      <td>39.047528</td>\n",
       "      <td>0.0</td>\n",
       "    </tr>\n",
       "    <tr>\n",
       "      <th>2</th>\n",
       "      <td>2</td>\n",
       "      <td>2</td>\n",
       "      <td>NaN</td>\n",
       "      <td>0.0</td>\n",
       "      <td>0.0</td>\n",
       "      <td>NaN</td>\n",
       "      <td>0</td>\n",
       "      <td>NaN</td>\n",
       "      <td>NaN</td>\n",
       "      <td>80.255236</td>\n",
       "      <td>39.047528</td>\n",
       "      <td>0.0</td>\n",
       "    </tr>\n",
       "    <tr>\n",
       "      <th>3</th>\n",
       "      <td>3</td>\n",
       "      <td>3</td>\n",
       "      <td>NaN</td>\n",
       "      <td>0.0</td>\n",
       "      <td>0.0</td>\n",
       "      <td>NaN</td>\n",
       "      <td>0</td>\n",
       "      <td>NaN</td>\n",
       "      <td>NaN</td>\n",
       "      <td>80.255236</td>\n",
       "      <td>39.047528</td>\n",
       "      <td>0.0</td>\n",
       "    </tr>\n",
       "    <tr>\n",
       "      <th>4</th>\n",
       "      <td>4</td>\n",
       "      <td>4</td>\n",
       "      <td>NaN</td>\n",
       "      <td>0.0</td>\n",
       "      <td>0.0</td>\n",
       "      <td>NaN</td>\n",
       "      <td>0</td>\n",
       "      <td>NaN</td>\n",
       "      <td>NaN</td>\n",
       "      <td>80.255236</td>\n",
       "      <td>39.047528</td>\n",
       "      <td>0.0</td>\n",
       "    </tr>\n",
       "  </tbody>\n",
       "</table>\n",
       "</div>"
      ],
      "text/plain": [
       "   frame  Unnamed: 0 bgcolor   dx   dy edgecolor  player  player_num team  \\\n",
       "0      0           0     NaN  0.0  0.0       NaN       0         NaN  NaN   \n",
       "1      1           1     NaN  0.0  0.0       NaN       0         NaN  NaN   \n",
       "2      2           2     NaN  0.0  0.0       NaN       0         NaN  NaN   \n",
       "3      3           3     NaN  0.0  0.0       NaN       0         NaN  NaN   \n",
       "4      4           4     NaN  0.0  0.0       NaN       0         NaN  NaN   \n",
       "\n",
       "           x          y    z  \n",
       "0  80.255236  39.047528  0.0  \n",
       "1  80.255236  39.047528  0.0  \n",
       "2  80.255236  39.047528  0.0  \n",
       "3  80.255236  39.047528  0.0  \n",
       "4  80.255236  39.047528  0.0  "
      ]
     },
     "execution_count": 42,
     "metadata": {},
     "output_type": "execute_result"
    }
   ],
   "source": [
    "#select a goal that I'm familiar with \n",
    "play = 'Leicester 0 - [3] Liverpool' \n",
    "\n",
    "# https://www.youtube.com/watch?v=TQjqT17gO9A (highlights)\n",
    "\n",
    "df = data.loc[play]\n",
    "df.reset_index().head()"
   ]
  },
  {
   "cell_type": "code",
   "execution_count": 40,
   "metadata": {},
   "outputs": [
    {
     "data": {
      "text/plain": [
       "Text(93.13464967260599, 54.246566628716145, '')"
      ]
     },
     "execution_count": 40,
     "metadata": {},
     "output_type": "execute_result"
    },
    {
     "data": {
      "image/png": "[encoded data removed]",
      "text/plain": [
       "<Figure size 1280x720 with 1 Axes>"
      ]
     },
     "metadata": {},
     "output_type": "display_data"
    }
   ],
   "source": [
    "### import sys, os\n",
    "sys.path.insert(0, os.path.abspath('../scripts/'))\n",
    "import footyviz\n",
    "from matplotlib import pyplot as plt\n",
    "\n",
    "# Approximately when the shot is taken\n",
    "fig, ax, dfFrame = footyviz.draw_frame(df, 96/20)\n",
    "\n",
    "# Using final frame 124 for end ball location \n",
    "plt.annotate('', df.iloc[124][['x','y']], df.iloc[96][['x','y']] , arrowprops={'arrowstyle':'->'}, annotation_clip=False)"
   ]
  },
  {
   "cell_type": "markdown",
   "metadata": {},
   "source": [
    "## Analysing the goals (shots)"
   ]
  },
  {
   "cell_type": "markdown",
   "metadata": {},
   "source": [
    "Given that we only have a raw positional dataframe, we need to create our own \"shots from which the goal was scored\" dataframe. Luckily we already have a function that returns all frames which involve a ball possession from the starter notebook. This will allow us to easily identify the frame where the shot is taken as the last frame of ball possession. "
   ]
  },
  {
   "cell_type": "code",
   "execution_count": 185,
   "metadata": {},
   "outputs": [],
   "source": [
    "# Copied form defining possession notebook\n",
    "\n",
    "def get_possession_df(df):\n",
    "    #get a DataFrame for Ball position\n",
    "    dfBall = df.reset_index()[df.reset_index().player==0].set_index('frame')[['x', 'y']]\n",
    "\n",
    "    #temporary DataFrame with all player's position relative to the ball \n",
    "    dfTemp = df.reset_index().set_index('frame').join(dfBall, rsuffix='_ball')\n",
    "    dfTemp = dfTemp[dfTemp.player!=0]\n",
    "    dfTemp['dif_x'] = dfTemp['x'].sub(dfTemp['x_ball'])\n",
    "    dfTemp['dif_y'] = (dfTemp['y'] - dfTemp['y_ball'])\n",
    "\n",
    "    #DataFrame with all the frames where a player touches or has close control of the ball.\n",
    "    dfPossession = dfTemp[((dfTemp[['dif_x', 'dif_y']]==0).sum(axis=1))==2].reset_index()\n",
    "    dfPossession.player_num = dfPossession.player_num.astype('Int64')\n",
    "    return dfPossession\n",
    "\n"
   ]
  },
  {
   "cell_type": "markdown",
   "metadata": {},
   "source": [
    "Let's test this on a known scenario where a dribble preceded the shot taken (Mane 1-0 vs Bayern) "
   ]
  },
  {
   "cell_type": "code",
   "execution_count": 43,
   "metadata": {},
   "outputs": [
    {
     "data": {
      "text/html": [
       "<div>\n",
       "<style scoped>\n",
       "    .dataframe tbody tr th:only-of-type {\n",
       "        vertical-align: middle;\n",
       "    }\n",
       "\n",
       "    .dataframe tbody tr th {\n",
       "        vertical-align: top;\n",
       "    }\n",
       "\n",
       "    .dataframe thead th {\n",
       "        text-align: right;\n",
       "    }\n",
       "</style>\n",
       "<table border=\"1\" class=\"dataframe\">\n",
       "  <thead>\n",
       "    <tr style=\"text-align: right;\">\n",
       "      <th></th>\n",
       "      <th>frame</th>\n",
       "      <th>Unnamed: 0</th>\n",
       "      <th>bgcolor</th>\n",
       "      <th>dx</th>\n",
       "      <th>dy</th>\n",
       "      <th>edgecolor</th>\n",
       "      <th>player</th>\n",
       "      <th>player_num</th>\n",
       "      <th>team</th>\n",
       "      <th>x</th>\n",
       "      <th>y</th>\n",
       "      <th>z</th>\n",
       "      <th>x_ball</th>\n",
       "      <th>y_ball</th>\n",
       "      <th>dif_x</th>\n",
       "      <th>dif_y</th>\n",
       "    </tr>\n",
       "  </thead>\n",
       "  <tbody>\n",
       "    <tr>\n",
       "      <th>0</th>\n",
       "      <td>0</td>\n",
       "      <td>330</td>\n",
       "      <td>lightgray</td>\n",
       "      <td>0.000000</td>\n",
       "      <td>0.000000</td>\n",
       "      <td>red</td>\n",
       "      <td>670</td>\n",
       "      <td>4</td>\n",
       "      <td>attack</td>\n",
       "      <td>32.517007</td>\n",
       "      <td>69.327731</td>\n",
       "      <td>0.0</td>\n",
       "      <td>32.517007</td>\n",
       "      <td>69.327731</td>\n",
       "      <td>0.0</td>\n",
       "      <td>0.0</td>\n",
       "    </tr>\n",
       "    <tr>\n",
       "      <th>1</th>\n",
       "      <td>16</td>\n",
       "      <td>346</td>\n",
       "      <td>lightgray</td>\n",
       "      <td>0.332925</td>\n",
       "      <td>-0.091326</td>\n",
       "      <td>red</td>\n",
       "      <td>670</td>\n",
       "      <td>4</td>\n",
       "      <td>attack</td>\n",
       "      <td>36.054422</td>\n",
       "      <td>68.277311</td>\n",
       "      <td>0.0</td>\n",
       "      <td>36.054422</td>\n",
       "      <td>68.277311</td>\n",
       "      <td>0.0</td>\n",
       "      <td>0.0</td>\n",
       "    </tr>\n",
       "    <tr>\n",
       "      <th>2</th>\n",
       "      <td>78</td>\n",
       "      <td>243</td>\n",
       "      <td>lightgray</td>\n",
       "      <td>0.393842</td>\n",
       "      <td>-0.251106</td>\n",
       "      <td>red</td>\n",
       "      <td>13</td>\n",
       "      <td>10</td>\n",
       "      <td>attack</td>\n",
       "      <td>82.955888</td>\n",
       "      <td>73.003584</td>\n",
       "      <td>0.0</td>\n",
       "      <td>82.955888</td>\n",
       "      <td>73.003584</td>\n",
       "      <td>0.0</td>\n",
       "      <td>0.0</td>\n",
       "    </tr>\n",
       "    <tr>\n",
       "      <th>3</th>\n",
       "      <td>108</td>\n",
       "      <td>273</td>\n",
       "      <td>lightgray</td>\n",
       "      <td>0.007707</td>\n",
       "      <td>-0.048472</td>\n",
       "      <td>red</td>\n",
       "      <td>13</td>\n",
       "      <td>10</td>\n",
       "      <td>attack</td>\n",
       "      <td>84.403953</td>\n",
       "      <td>64.871324</td>\n",
       "      <td>0.0</td>\n",
       "      <td>84.403953</td>\n",
       "      <td>64.871324</td>\n",
       "      <td>0.0</td>\n",
       "      <td>0.0</td>\n",
       "    </tr>\n",
       "    <tr>\n",
       "      <th>4</th>\n",
       "      <td>130</td>\n",
       "      <td>295</td>\n",
       "      <td>lightgray</td>\n",
       "      <td>0.068278</td>\n",
       "      <td>0.201862</td>\n",
       "      <td>red</td>\n",
       "      <td>13</td>\n",
       "      <td>10</td>\n",
       "      <td>attack</td>\n",
       "      <td>87.053896</td>\n",
       "      <td>68.421886</td>\n",
       "      <td>0.0</td>\n",
       "      <td>87.053896</td>\n",
       "      <td>68.421886</td>\n",
       "      <td>0.0</td>\n",
       "      <td>0.0</td>\n",
       "    </tr>\n",
       "  </tbody>\n",
       "</table>\n",
       "</div>"
      ],
      "text/plain": [
       "   frame  Unnamed: 0    bgcolor        dx        dy edgecolor  player  \\\n",
       "0      0         330  lightgray  0.000000  0.000000       red     670   \n",
       "1     16         346  lightgray  0.332925 -0.091326       red     670   \n",
       "2     78         243  lightgray  0.393842 -0.251106       red      13   \n",
       "3    108         273  lightgray  0.007707 -0.048472       red      13   \n",
       "4    130         295  lightgray  0.068278  0.201862       red      13   \n",
       "\n",
       "   player_num    team          x          y    z     x_ball     y_ball  dif_x  \\\n",
       "0           4  attack  32.517007  69.327731  0.0  32.517007  69.327731    0.0   \n",
       "1           4  attack  36.054422  68.277311  0.0  36.054422  68.277311    0.0   \n",
       "2          10  attack  82.955888  73.003584  0.0  82.955888  73.003584    0.0   \n",
       "3          10  attack  84.403953  64.871324  0.0  84.403953  64.871324    0.0   \n",
       "4          10  attack  87.053896  68.421886  0.0  87.053896  68.421886    0.0   \n",
       "\n",
       "   dif_y  \n",
       "0    0.0  \n",
       "1    0.0  \n",
       "2    0.0  \n",
       "3    0.0  \n",
       "4    0.0  "
      ]
     },
     "execution_count": 43,
     "metadata": {},
     "output_type": "execute_result"
    }
   ],
   "source": [
    "play2 = 'Bayern 0 - [1] Liverpool' \n",
    "\n",
    "df2 = data.loc[play2]\n",
    "df2.head()\n",
    "\n",
    "dfPossession = get_possession_df(df2)\n",
    "\n",
    "dfPossession.head()"
   ]
  },
  {
   "cell_type": "markdown",
   "metadata": {},
   "source": [
    "Frame 130 is the last frame in which the ball is possessed by any player and hence the shot position."
   ]
  },
  {
   "cell_type": "code",
   "execution_count": 55,
   "metadata": {},
   "outputs": [
    {
     "data": {
      "text/plain": [
       "Text(87.05389612760632, 68.42188644517644, '')"
      ]
     },
     "execution_count": 55,
     "metadata": {},
     "output_type": "execute_result"
    },
    {
     "data": {
      "image/png": "[encoded data removed]",
      "text/plain": [
       "<Figure size 1280x720 with 1 Axes>"
      ]
     },
     "metadata": {},
     "output_type": "display_data"
    }
   ],
   "source": [
    "# Approximately when the shot is taken\n",
    "fig, ax, dfFrame = footyviz.draw_frame(df2, 130/20)\n",
    "\n",
    "# Using final frame 124 for end ball location \n",
    "plt.annotate('', df2.iloc[164][['x','y']], df2.iloc[130][['x','y']] , arrowprops={'arrowstyle':'->'}, annotation_clip=False)"
   ]
  },
  {
   "cell_type": "markdown",
   "metadata": {},
   "source": [
    "Looks legitimate enough! Now compile a dataframe of all the shot locations for the goals."
   ]
  },
  {
   "cell_type": "markdown",
   "metadata": {},
   "source": [
    "### Defining Passes (From starter notebook, credit FoT)"
   ]
  },
  {
   "cell_type": "code",
   "execution_count": 202,
   "metadata": {},
   "outputs": [],
   "source": [
    "def get_passes_df(dfPossession):\n",
    "    #determining the start end enf of each possession block\n",
    "    poss_start = dfPossession[dfPossession['player']!=dfPossession.shift(1)['player']]\n",
    "    poss_end = dfPossession[dfPossession['player']!=dfPossession.shift(-1)['player']]\n",
    "\n",
    "    #relevant columns to keep in the final DataFrame\n",
    "    columns = ['team', 'x', 'y', 'frame', 'player', 'player_num']\n",
    "    \n",
    "    #list of all changes in possession\n",
    "    dfPasses = pd.concat([poss_end.reset_index()[columns].rename(lambda x: 'from_{}'.format(x), axis='columns'),\n",
    "                          poss_start.iloc[1:].reset_index()[columns].rename(lambda x: 'to_{}'.format(x), axis='columns')\n",
    "                         ], axis='columns')\n",
    "\n",
    "    #keep all changes in possession from players of the same team\n",
    "    dfPasses = dfPasses[dfPasses['from_team']==dfPasses['to_team']]\n",
    "    return dfPasses"
   ]
  },
  {
   "cell_type": "markdown",
   "metadata": {},
   "source": [
    "### Defining Shots"
   ]
  },
  {
   "cell_type": "code",
   "execution_count": 212,
   "metadata": {},
   "outputs": [],
   "source": [
    "def get_shots(plays, invert=True):\n",
    "    shots = pd.DataFrame()\n",
    "    for play in plays:\n",
    "        \n",
    "        df = data.loc[play]\n",
    "        dfPossession = get_possession_df(df)\n",
    "        \n",
    "        shot_frame = dfPossession.iloc[-1]\n",
    "        \n",
    "        # We might as well also get the end shot location which is simply the last frame of the movement.\n",
    "        \n",
    "        # Number of frames in the play\n",
    "        frames = len(set(df.index))\n",
    "        # Last frame of the ball\n",
    "        end_frame = df.iloc[frames-1]\n",
    "        x_e,y_e = end_frame.x, end_frame.y\n",
    "        \n",
    "        # New columns to the shots df row \n",
    "        shot_frame['x_end'] = x_e\n",
    "        shot_frame['y_end'] = y_e\n",
    "        \n",
    "        shot_frame['frame_end'] = int(frames)-1\n",
    "        \n",
    "        # Need to invert all shots from one end so we only keep one side of the pitch. Let's keep the right half \n",
    "        \n",
    "        if invert == True:\n",
    "            if x_e < 50:\n",
    "                shot_frame['x_end'] = 100.680272 #Defaults to this boundary value for x \n",
    "                shot_frame['x_ball'] = 100 - shot_frame['x_ball']\n",
    "                shot_frame['y_end'] = 100 - shot_frame['y_end']\n",
    "                shot_frame['y_ball'] = 100 - shot_frame['y_ball']\n",
    "        \n",
    "        shots = shots.append(shot_frame)\n",
    "        \n",
    "    shots['Goal'] = plays\n",
    "        \n",
    "    return shots"
   ]
  },
  {
   "cell_type": "code",
   "execution_count": 233,
   "metadata": {},
   "outputs": [
    {
     "name": "stderr",
     "output_type": "stream",
     "text": [
      "C:\\Users\\Gerald Lim\\Anaconda3\\envs\\mlpy\\lib\\site-packages\\ipykernel_launcher.py:19: SettingWithCopyWarning: \n",
      "A value is trying to be set on a copy of a slice from a DataFrame\n",
      "\n",
      "See the caveats in the documentation: https://pandas.pydata.org/pandas-docs/stable/user_guide/indexing.html#returning-a-view-versus-a-copy\n",
      "C:\\Users\\Gerald Lim\\Anaconda3\\envs\\mlpy\\lib\\site-packages\\pandas\\core\\indexing.py:671: SettingWithCopyWarning: \n",
      "A value is trying to be set on a copy of a slice from a DataFrame\n",
      "\n",
      "See the caveats in the documentation: https://pandas.pydata.org/pandas-docs/stable/user_guide/indexing.html#returning-a-view-versus-a-copy\n",
      "  self._setitem_with_indexer(indexer, value)\n",
      "C:\\Users\\Gerald Lim\\Anaconda3\\envs\\mlpy\\lib\\site-packages\\ipykernel_launcher.py:20: SettingWithCopyWarning: \n",
      "A value is trying to be set on a copy of a slice from a DataFrame\n",
      "\n",
      "See the caveats in the documentation: https://pandas.pydata.org/pandas-docs/stable/user_guide/indexing.html#returning-a-view-versus-a-copy\n",
      "C:\\Users\\Gerald Lim\\Anaconda3\\envs\\mlpy\\lib\\site-packages\\ipykernel_launcher.py:25: SettingWithCopyWarning: \n",
      "A value is trying to be set on a copy of a slice from a DataFrame\n",
      "\n",
      "See the caveats in the documentation: https://pandas.pydata.org/pandas-docs/stable/user_guide/indexing.html#returning-a-view-versus-a-copy\n",
      "C:\\Users\\Gerald Lim\\Anaconda3\\envs\\mlpy\\lib\\site-packages\\ipykernel_launcher.py:26: SettingWithCopyWarning: \n",
      "A value is trying to be set on a copy of a slice from a DataFrame\n",
      "\n",
      "See the caveats in the documentation: https://pandas.pydata.org/pandas-docs/stable/user_guide/indexing.html#returning-a-view-versus-a-copy\n",
      "C:\\Users\\Gerald Lim\\Anaconda3\\envs\\mlpy\\lib\\site-packages\\ipykernel_launcher.py:27: SettingWithCopyWarning: \n",
      "A value is trying to be set on a copy of a slice from a DataFrame\n",
      "\n",
      "See the caveats in the documentation: https://pandas.pydata.org/pandas-docs/stable/user_guide/indexing.html#returning-a-view-versus-a-copy\n",
      "C:\\Users\\Gerald Lim\\Anaconda3\\envs\\mlpy\\lib\\site-packages\\ipykernel_launcher.py:28: SettingWithCopyWarning: \n",
      "A value is trying to be set on a copy of a slice from a DataFrame\n",
      "\n",
      "See the caveats in the documentation: https://pandas.pydata.org/pandas-docs/stable/user_guide/indexing.html#returning-a-view-versus-a-copy\n"
     ]
    }
   ],
   "source": [
    "goals = data.index.get_level_values('play').unique()\n",
    "\n",
    "df_shots = get_shots(goals)"
   ]
  },
  {
   "cell_type": "code",
   "execution_count": 234,
   "metadata": {},
   "outputs": [
    {
     "data": {
      "text/html": [
       "<div>\n",
       "<style scoped>\n",
       "    .dataframe tbody tr th:only-of-type {\n",
       "        vertical-align: middle;\n",
       "    }\n",
       "\n",
       "    .dataframe tbody tr th {\n",
       "        vertical-align: top;\n",
       "    }\n",
       "\n",
       "    .dataframe thead th {\n",
       "        text-align: right;\n",
       "    }\n",
       "</style>\n",
       "<table border=\"1\" class=\"dataframe\">\n",
       "  <thead>\n",
       "    <tr style=\"text-align: right;\">\n",
       "      <th></th>\n",
       "      <th>Unnamed: 0</th>\n",
       "      <th>bgcolor</th>\n",
       "      <th>dif_x</th>\n",
       "      <th>dif_y</th>\n",
       "      <th>dx</th>\n",
       "      <th>dy</th>\n",
       "      <th>edgecolor</th>\n",
       "      <th>frame</th>\n",
       "      <th>player</th>\n",
       "      <th>player_num</th>\n",
       "      <th>team</th>\n",
       "      <th>x</th>\n",
       "      <th>x_ball</th>\n",
       "      <th>x_end</th>\n",
       "      <th>y</th>\n",
       "      <th>y_ball</th>\n",
       "      <th>y_end</th>\n",
       "      <th>z</th>\n",
       "      <th>Goal</th>\n",
       "    </tr>\n",
       "  </thead>\n",
       "  <tbody>\n",
       "    <tr>\n",
       "      <th>37</th>\n",
       "      <td>442.0</td>\n",
       "      <td>red</td>\n",
       "      <td>0.0</td>\n",
       "      <td>0.0</td>\n",
       "      <td>0.158824</td>\n",
       "      <td>0.376619</td>\n",
       "      <td>white</td>\n",
       "      <td>132.0</td>\n",
       "      <td>331.0</td>\n",
       "      <td>11.0</td>\n",
       "      <td>attack</td>\n",
       "      <td>88.980532</td>\n",
       "      <td>88.980532</td>\n",
       "      <td>100.680272</td>\n",
       "      <td>39.541178</td>\n",
       "      <td>39.541178</td>\n",
       "      <td>54.831933</td>\n",
       "      <td>0.0</td>\n",
       "      <td>Liverpool [3] - 0 Bournemouth</td>\n",
       "    </tr>\n",
       "    <tr>\n",
       "      <th>4</th>\n",
       "      <td>295.0</td>\n",
       "      <td>lightgray</td>\n",
       "      <td>0.0</td>\n",
       "      <td>0.0</td>\n",
       "      <td>0.068278</td>\n",
       "      <td>0.201862</td>\n",
       "      <td>red</td>\n",
       "      <td>130.0</td>\n",
       "      <td>13.0</td>\n",
       "      <td>10.0</td>\n",
       "      <td>attack</td>\n",
       "      <td>87.053896</td>\n",
       "      <td>87.053896</td>\n",
       "      <td>100.680272</td>\n",
       "      <td>68.421886</td>\n",
       "      <td>68.421886</td>\n",
       "      <td>45.378151</td>\n",
       "      <td>0.0</td>\n",
       "      <td>Bayern 0 - [1] Liverpool</td>\n",
       "    </tr>\n",
       "    <tr>\n",
       "      <th>93</th>\n",
       "      <td>351.0</td>\n",
       "      <td>red</td>\n",
       "      <td>0.0</td>\n",
       "      <td>0.0</td>\n",
       "      <td>-0.053411</td>\n",
       "      <td>0.398039</td>\n",
       "      <td>white</td>\n",
       "      <td>168.0</td>\n",
       "      <td>15.0</td>\n",
       "      <td>10.0</td>\n",
       "      <td>attack</td>\n",
       "      <td>6.826108</td>\n",
       "      <td>93.173892</td>\n",
       "      <td>100.680272</td>\n",
       "      <td>44.926209</td>\n",
       "      <td>55.073791</td>\n",
       "      <td>51.680672</td>\n",
       "      <td>0.0</td>\n",
       "      <td>Fulham 0 - [1] Liverpool</td>\n",
       "    </tr>\n",
       "    <tr>\n",
       "      <th>147</th>\n",
       "      <td>489.0</td>\n",
       "      <td>purple</td>\n",
       "      <td>0.0</td>\n",
       "      <td>0.0</td>\n",
       "      <td>-0.216084</td>\n",
       "      <td>-0.099221</td>\n",
       "      <td>red</td>\n",
       "      <td>232.0</td>\n",
       "      <td>15.0</td>\n",
       "      <td>11.0</td>\n",
       "      <td>attack</td>\n",
       "      <td>15.939313</td>\n",
       "      <td>84.060687</td>\n",
       "      <td>100.680272</td>\n",
       "      <td>46.821593</td>\n",
       "      <td>53.178407</td>\n",
       "      <td>45.588235</td>\n",
       "      <td>0.0</td>\n",
       "      <td>Southampton 1 - [2] Liverpool</td>\n",
       "    </tr>\n",
       "    <tr>\n",
       "      <th>107</th>\n",
       "      <td>373.0</td>\n",
       "      <td>red</td>\n",
       "      <td>0.0</td>\n",
       "      <td>0.0</td>\n",
       "      <td>-0.198303</td>\n",
       "      <td>-0.131959</td>\n",
       "      <td>white</td>\n",
       "      <td>178.0</td>\n",
       "      <td>13.0</td>\n",
       "      <td>9.0</td>\n",
       "      <td>attack</td>\n",
       "      <td>2.735684</td>\n",
       "      <td>97.264316</td>\n",
       "      <td>100.680272</td>\n",
       "      <td>47.570775</td>\n",
       "      <td>52.429225</td>\n",
       "      <td>51.890756</td>\n",
       "      <td>0.0</td>\n",
       "      <td>Liverpool [2] - 0 Porto</td>\n",
       "    </tr>\n",
       "  </tbody>\n",
       "</table>\n",
       "</div>"
      ],
      "text/plain": [
       "     Unnamed: 0    bgcolor  dif_x  dif_y        dx        dy edgecolor  frame  \\\n",
       "37        442.0        red    0.0    0.0  0.158824  0.376619     white  132.0   \n",
       "4         295.0  lightgray    0.0    0.0  0.068278  0.201862       red  130.0   \n",
       "93        351.0        red    0.0    0.0 -0.053411  0.398039     white  168.0   \n",
       "147       489.0     purple    0.0    0.0 -0.216084 -0.099221       red  232.0   \n",
       "107       373.0        red    0.0    0.0 -0.198303 -0.131959     white  178.0   \n",
       "\n",
       "     player  player_num    team          x     x_ball       x_end          y  \\\n",
       "37    331.0        11.0  attack  88.980532  88.980532  100.680272  39.541178   \n",
       "4      13.0        10.0  attack  87.053896  87.053896  100.680272  68.421886   \n",
       "93     15.0        10.0  attack   6.826108  93.173892  100.680272  44.926209   \n",
       "147    15.0        11.0  attack  15.939313  84.060687  100.680272  46.821593   \n",
       "107    13.0         9.0  attack   2.735684  97.264316  100.680272  47.570775   \n",
       "\n",
       "        y_ball      y_end    z                           Goal  \n",
       "37   39.541178  54.831933  0.0  Liverpool [3] - 0 Bournemouth  \n",
       "4    68.421886  45.378151  0.0       Bayern 0 - [1] Liverpool  \n",
       "93   55.073791  51.680672  0.0       Fulham 0 - [1] Liverpool  \n",
       "147  53.178407  45.588235  0.0  Southampton 1 - [2] Liverpool  \n",
       "107  52.429225  51.890756  0.0        Liverpool [2] - 0 Porto  "
      ]
     },
     "execution_count": 234,
     "metadata": {},
     "output_type": "execute_result"
    }
   ],
   "source": [
    "df_shots.head()"
   ]
  },
  {
   "cell_type": "markdown",
   "metadata": {},
   "source": [
    "#### Visualise the shots taken\n",
    "Probably need to draw my own pitch for this. We'd also only want a half pitch for this and also a flipped view for this. "
   ]
  },
  {
   "cell_type": "code",
   "execution_count": 370,
   "metadata": {},
   "outputs": [],
   "source": [
    "X_SIZE = 105\n",
    "Y_SIZE = 68\n",
    "\n",
    "BOX_HEIGHT = (16.5*2 + 7.32)/Y_SIZE*100\n",
    "BOX_WIDTH = 16.5/X_SIZE*100\n",
    "\n",
    "GOAL = 7.32/Y_SIZE*100\n",
    "\n",
    "GOAL_AREA_HEIGHT = 5.4864*2/Y_SIZE*100 + GOAL\n",
    "GOAL_AREA_WIDTH = 5.4864/X_SIZE*100\n",
    "\n",
    "SCALERS = np.array([X_SIZE/100, Y_SIZE/100])\n",
    "pitch_polygon = Polygon(((0,0), (0,100), (100,100), (100,0)))\n",
    "\n",
    "\n",
    "def draw_hpitch(dpi=100, pitch_color='#a8bc95'):\n",
    "    \"\"\"Sets up field\n",
    "    Returns matplotlib fig and axes objects.\n",
    "    \"\"\"\n",
    "    fig = plt.figure(figsize=(6.4, 7.2), dpi=dpi)\n",
    "    fig.patch.set_facecolor(pitch_color)\n",
    "\n",
    "    axes = fig.add_subplot(1, 1, 1)\n",
    "    axes.set_axis_off()\n",
    "    axes.set_facecolor(pitch_color)\n",
    "    axes.xaxis.set_visible(False)\n",
    "    axes.yaxis.set_visible(False)\n",
    "\n",
    "    axes.set_xlim(50,100)\n",
    "    axes.set_ylim(0,100)\n",
    "\n",
    "    plt.xlim([50, 105])\n",
    "    plt.ylim([-5, 105])\n",
    "\n",
    "    fig.tight_layout(pad=3)\n",
    "\n",
    "    draw_hpatches(axes)\n",
    "\n",
    "    return fig, axes\n",
    "\n",
    "def draw_hpatches(axes):\n",
    "    \"\"\"\n",
    "    Draws basic field shapes on an axes\n",
    "    \"\"\"\n",
    "    #pitch\n",
    "    axes.add_patch(plt.Rectangle((0, 0), 100, 100,\n",
    "                       edgecolor=\"white\", facecolor=\"none\"))\n",
    "\n",
    "    #half-way line\n",
    "    axes.add_line(plt.Line2D([50, 50], [100, 0],\n",
    "                    c='w'))\n",
    "\n",
    "    #penalty areas\n",
    "    axes.add_patch(plt.Rectangle((100-BOX_WIDTH, (100-BOX_HEIGHT)/2),  BOX_WIDTH, BOX_HEIGHT,\n",
    "                       ec='w', fc='none'))\n",
    "    axes.add_patch(plt.Rectangle((0, (100-BOX_HEIGHT)/2),  BOX_WIDTH, BOX_HEIGHT,\n",
    "                               ec='w', fc='none'))\n",
    "\n",
    "    #goal areas\n",
    "    axes.add_patch(plt.Rectangle((100-GOAL_AREA_WIDTH, (100-GOAL_AREA_HEIGHT)/2),  GOAL_AREA_WIDTH, GOAL_AREA_HEIGHT,\n",
    "                       ec='w', fc='none'))\n",
    "    axes.add_patch(plt.Rectangle((0, (100-GOAL_AREA_HEIGHT)/2),  GOAL_AREA_WIDTH, GOAL_AREA_HEIGHT,\n",
    "                               ec='w', fc='none'))\n",
    "\n",
    "    #goals\n",
    "    axes.add_patch(plt.Rectangle((100, (100-GOAL)/2),  1, GOAL,\n",
    "                       ec='w', fc='none'))\n",
    "    axes.add_patch(plt.Rectangle((0, (100-GOAL)/2),  -1, GOAL,\n",
    "                               ec='w', fc='none'))\n",
    "\n",
    "\n",
    "    #halfway circle\n",
    "    axes.add_patch(Ellipse((50, 50), 2*9.15/X_SIZE*100, 2*9.15/Y_SIZE*100,\n",
    "                                    ec='w', fc='none'))\n",
    "\n",
    "    return axes"
   ]
  },
  {
   "cell_type": "code",
   "execution_count": 368,
   "metadata": {},
   "outputs": [],
   "source": [
    "# Modify the Last Row's function for drawing frame... \n",
    "\n",
    "def draw_shots(data, dpi=100):\n",
    "    fig, ax = draw_hpitch(dpi=dpi)\n",
    "    \n",
    "    for ind in range(len(data)):\n",
    "        ax.annotate('', data.iloc[ind][['x_end','y_end']], data.iloc[ind][['x_ball','y_ball']] , arrowprops={'arrowstyle':'->'}, annotation_clip=False)"
   ]
  },
  {
   "cell_type": "code",
   "execution_count": 170,
   "metadata": {},
   "outputs": [
    {
     "data": {
      "image/png": "[encoded data removed]",
      "text/plain": [
       "<Figure size 640x720 with 1 Axes>"
      ]
     },
     "metadata": {},
     "output_type": "display_data"
    }
   ],
   "source": [
    "# Half pitch shot map \n",
    "draw_shots(df_shots)"
   ]
  },
  {
   "cell_type": "code",
   "execution_count": 194,
   "metadata": {},
   "outputs": [
    {
     "data": {
      "text/plain": [
       "Text(0.5, 1.0, 'Where do goal-scoring shots come from?')"
      ]
     },
     "execution_count": 194,
     "metadata": {},
     "output_type": "execute_result"
    },
    {
     "data": {
      "image/png": "[encoded data removed]",
      "text/plain": [
       "<Figure size 432x432 with 1 Axes>"
      ]
     },
     "metadata": {
      "needs_background": "light"
     },
     "output_type": "display_data"
    }
   ],
   "source": [
    "# Plotting shot distribution\n",
    "\n",
    "fig,ax = plt.subplots(figsize=(6, 6))\n",
    "\n",
    "ax.hist(50 - np.array(df_shots.y_ball))\n",
    "ax.set_xlabel('Distance from goal centre')\n",
    "ax.set_ylabel('No. of shots that led to goals')\n",
    "ax.plot([-25,-25], [0,10], '--', color='k', alpha=0.7)\n",
    "ax.plot([0,0], [0,10], '--', color='k', alpha=0.7)\n",
    "ax.plot([25,25], [0,10], '--', color='k', alpha=0.7)\n",
    "ax.set_ylim(0,6)\n",
    "ax.set_title('Where do goal-scoring shots come from?')"
   ]
  },
  {
   "cell_type": "code",
   "execution_count": 202,
   "metadata": {},
   "outputs": [
    {
     "data": {
      "text/plain": [
       "(0, 6)"
      ]
     },
     "execution_count": 202,
     "metadata": {},
     "output_type": "execute_result"
    },
    {
     "data": {
      "image/png": "[encoded data removed]",
      "text/plain": [
       "<Figure size 432x432 with 1 Axes>"
      ]
     },
     "metadata": {
      "needs_background": "light"
     },
     "output_type": "display_data"
    }
   ],
   "source": [
    "fig,ax = plt.subplots(figsize=(6, 6))\n",
    "\n",
    "ax.hist((100-np.array(df_shots.x_ball))*.68)\n",
    "ax.set_xlabel('Distance from goal (m)')\n",
    "ax.set_ylabel('No. of shots that led to goals')\n",
    "ax.plot([16.5,16.5], [0,10], '--', color='k', alpha=0.7)\n",
    "ax.plot([5.5,5.5], [0,10], '--', color='k', alpha=0.7)\n",
    "#ax.plot([75,75], [0,10], '--', color='k', alpha=0.7)\n",
    "ax.set_ylim(0,6)"
   ]
  },
  {
   "cell_type": "code",
   "execution_count": null,
   "metadata": {},
   "outputs": [],
   "source": [
    "# How are the shots placed? Cross goal? Center? Near post? Can define cross if y-dist traversed > (some gap btn start-end position?)"
   ]
  },
  {
   "cell_type": "code",
   "execution_count": null,
   "metadata": {},
   "outputs": [],
   "source": [
    "# Where are they from? By who? Team effort/individual/pure luck? Any patterns emerge? Reference older goals # xG? Conversion? "
   ]
  },
  {
   "cell_type": "markdown",
   "metadata": {},
   "source": [
    "### Looking at xG"
   ]
  },
  {
   "cell_type": "markdown",
   "metadata": {},
   "source": [
    "Taken from FCPython.py"
   ]
  },
  {
   "cell_type": "code",
   "execution_count": 9,
   "metadata": {},
   "outputs": [],
   "source": [
    "from matplotlib.patches import Arc\n",
    "\n",
    "def createGoalMouth(linecolor='black'):\n",
    "    #Adopted from FC Python\n",
    "    #Create figure\n",
    "    fig=plt.figure()\n",
    "    ax=fig.add_subplot(1,1,1)\n",
    "\n",
    "    #linecolor='k'\n",
    "\n",
    "    #Pitch Outline & Centre Line\n",
    "    plt.plot([0,65],[0,0], color=linecolor)\n",
    "    plt.plot([65,65],[50,0], color=linecolor)\n",
    "    plt.plot([0,0],[50,0], color=linecolor)\n",
    "    \n",
    "    #Left Penalty Area\n",
    "    plt.plot([12.5,52.5],[16.5,16.5],color=linecolor)\n",
    "    plt.plot([52.5,52.5],[16.5,0],color=linecolor)\n",
    "    plt.plot([12.5,12.5],[0,16.5],color=linecolor)\n",
    "    \n",
    "    #Left 6-yard Box\n",
    "    plt.plot([41.5,41.5],[5.5,0],color=linecolor)\n",
    "    plt.plot([23.5,41.5],[5.5,5.5],color=linecolor)\n",
    "    plt.plot([23.5,23.5],[0,5.5],color=linecolor)\n",
    "    \n",
    "    #Prepare Circles\n",
    "    leftPenSpot = plt.Circle((65/2,11),0.8,color=linecolor)\n",
    "    \n",
    "    #Draw Circles\n",
    "    ax.add_patch(leftPenSpot)\n",
    "    \n",
    "    #Prepare Arcs\n",
    "    leftArc = Arc((32.5,11),height=18.3,width=18.3,angle=0,theta1=38,theta2=142,color=linecolor)\n",
    "    \n",
    "    #Draw Arcs\n",
    "    ax.add_patch(leftArc)\n",
    "    \n",
    "    #Tidy Axes\n",
    "    plt.axis('off')\n",
    "    \n",
    "    return fig,ax"
   ]
  },
  {
   "cell_type": "code",
   "execution_count": 418,
   "metadata": {},
   "outputs": [],
   "source": [
    "with open('F:/SoccermaticsForPython/Wyscout/events_France.json') as f:\n",
    "    data1 = json.load(f)\n",
    "    \n",
    "#Create a data set of shots.\n",
    "train1= pd.DataFrame(data1)"
   ]
  },
  {
   "cell_type": "code",
   "execution_count": 420,
   "metadata": {},
   "outputs": [
    {
     "data": {
      "text/html": [
       "<div>\n",
       "<style scoped>\n",
       "    .dataframe tbody tr th:only-of-type {\n",
       "        vertical-align: middle;\n",
       "    }\n",
       "\n",
       "    .dataframe tbody tr th {\n",
       "        vertical-align: top;\n",
       "    }\n",
       "\n",
       "    .dataframe thead th {\n",
       "        text-align: right;\n",
       "    }\n",
       "</style>\n",
       "<table border=\"1\" class=\"dataframe\">\n",
       "  <thead>\n",
       "    <tr style=\"text-align: right;\">\n",
       "      <th></th>\n",
       "      <th>eventId</th>\n",
       "      <th>subEventName</th>\n",
       "      <th>tags</th>\n",
       "      <th>playerId</th>\n",
       "      <th>positions</th>\n",
       "      <th>matchId</th>\n",
       "      <th>eventName</th>\n",
       "      <th>teamId</th>\n",
       "      <th>matchPeriod</th>\n",
       "      <th>eventSec</th>\n",
       "      <th>subEventId</th>\n",
       "      <th>id</th>\n",
       "    </tr>\n",
       "  </thead>\n",
       "  <tbody>\n",
       "    <tr>\n",
       "      <th>0</th>\n",
       "      <td>8</td>\n",
       "      <td>Simple pass</td>\n",
       "      <td>[{'id': 1801}]</td>\n",
       "      <td>253784</td>\n",
       "      <td>[{'y': 51, 'x': 50}, {'y': 46, 'x': 31}]</td>\n",
       "      <td>2500686</td>\n",
       "      <td>Pass</td>\n",
       "      <td>3799</td>\n",
       "      <td>1H</td>\n",
       "      <td>1.935181</td>\n",
       "      <td>85</td>\n",
       "      <td>176505119</td>\n",
       "    </tr>\n",
       "    <tr>\n",
       "      <th>1</th>\n",
       "      <td>8</td>\n",
       "      <td>High pass</td>\n",
       "      <td>[{'id': 1801}]</td>\n",
       "      <td>29474</td>\n",
       "      <td>[{'y': 46, 'x': 31}, {'y': 74, 'x': 68}]</td>\n",
       "      <td>2500686</td>\n",
       "      <td>Pass</td>\n",
       "      <td>3799</td>\n",
       "      <td>1H</td>\n",
       "      <td>3.599295</td>\n",
       "      <td>83</td>\n",
       "      <td>176505121</td>\n",
       "    </tr>\n",
       "    <tr>\n",
       "      <th>2</th>\n",
       "      <td>1</td>\n",
       "      <td>Air duel</td>\n",
       "      <td>[{'id': 703}, {'id': 1801}]</td>\n",
       "      <td>253784</td>\n",
       "      <td>[{'y': 74, 'x': 68}, {'y': 54, 'x': 72}]</td>\n",
       "      <td>2500686</td>\n",
       "      <td>Duel</td>\n",
       "      <td>3799</td>\n",
       "      <td>1H</td>\n",
       "      <td>6.827043</td>\n",
       "      <td>10</td>\n",
       "      <td>176505122</td>\n",
       "    </tr>\n",
       "    <tr>\n",
       "      <th>3</th>\n",
       "      <td>1</td>\n",
       "      <td>Air duel</td>\n",
       "      <td>[{'id': 701}, {'id': 1802}]</td>\n",
       "      <td>56441</td>\n",
       "      <td>[{'y': 26, 'x': 32}, {'y': 46, 'x': 28}]</td>\n",
       "      <td>2500686</td>\n",
       "      <td>Duel</td>\n",
       "      <td>3772</td>\n",
       "      <td>1H</td>\n",
       "      <td>6.985577</td>\n",
       "      <td>10</td>\n",
       "      <td>176505017</td>\n",
       "    </tr>\n",
       "    <tr>\n",
       "      <th>4</th>\n",
       "      <td>1</td>\n",
       "      <td>Ground attacking duel</td>\n",
       "      <td>[{'id': 702}, {'id': 1801}]</td>\n",
       "      <td>366760</td>\n",
       "      <td>[{'y': 54, 'x': 72}, {'y': 55, 'x': 73}]</td>\n",
       "      <td>2500686</td>\n",
       "      <td>Duel</td>\n",
       "      <td>3799</td>\n",
       "      <td>1H</td>\n",
       "      <td>9.511272</td>\n",
       "      <td>11</td>\n",
       "      <td>176505124</td>\n",
       "    </tr>\n",
       "    <tr>\n",
       "      <th>...</th>\n",
       "      <td>...</td>\n",
       "      <td>...</td>\n",
       "      <td>...</td>\n",
       "      <td>...</td>\n",
       "      <td>...</td>\n",
       "      <td>...</td>\n",
       "      <td>...</td>\n",
       "      <td>...</td>\n",
       "      <td>...</td>\n",
       "      <td>...</td>\n",
       "      <td>...</td>\n",
       "      <td>...</td>\n",
       "    </tr>\n",
       "    <tr>\n",
       "      <th>632802</th>\n",
       "      <td>10</td>\n",
       "      <td>Shot</td>\n",
       "      <td>[{'id': 101}, {'id': 401}, {'id': 201}, {'id':...</td>\n",
       "      <td>405977</td>\n",
       "      <td>[{'y': 65, 'x': 87}, {'y': 100, 'x': 100}]</td>\n",
       "      <td>2501065</td>\n",
       "      <td>Shot</td>\n",
       "      <td>19830</td>\n",
       "      <td>2H</td>\n",
       "      <td>2821.203869</td>\n",
       "      <td>100</td>\n",
       "      <td>253316980</td>\n",
       "    </tr>\n",
       "    <tr>\n",
       "      <th>632803</th>\n",
       "      <td>9</td>\n",
       "      <td>Save attempt</td>\n",
       "      <td>[{'id': 101}, {'id': 1208}, {'id': 1802}]</td>\n",
       "      <td>25521</td>\n",
       "      <td>[{'y': 0, 'x': 0}, {'y': 35, 'x': 13}]</td>\n",
       "      <td>2501065</td>\n",
       "      <td>Save attempt</td>\n",
       "      <td>3795</td>\n",
       "      <td>2H</td>\n",
       "      <td>2824.817116</td>\n",
       "      <td>91</td>\n",
       "      <td>253316978</td>\n",
       "    </tr>\n",
       "    <tr>\n",
       "      <th>632804</th>\n",
       "      <td>8</td>\n",
       "      <td>Simple pass</td>\n",
       "      <td>[{'id': 1801}]</td>\n",
       "      <td>295761</td>\n",
       "      <td>[{'y': 52, 'x': 50}, {'y': 47, 'x': 44}]</td>\n",
       "      <td>2501065</td>\n",
       "      <td>Pass</td>\n",
       "      <td>3795</td>\n",
       "      <td>2H</td>\n",
       "      <td>2888.383858</td>\n",
       "      <td>85</td>\n",
       "      <td>253316981</td>\n",
       "    </tr>\n",
       "    <tr>\n",
       "      <th>632805</th>\n",
       "      <td>8</td>\n",
       "      <td>Simple pass</td>\n",
       "      <td>[{'id': 1801}]</td>\n",
       "      <td>249926</td>\n",
       "      <td>[{'y': 47, 'x': 44}, {'y': 8, 'x': 41}]</td>\n",
       "      <td>2501065</td>\n",
       "      <td>Pass</td>\n",
       "      <td>3795</td>\n",
       "      <td>2H</td>\n",
       "      <td>2889.654402</td>\n",
       "      <td>85</td>\n",
       "      <td>253316982</td>\n",
       "    </tr>\n",
       "    <tr>\n",
       "      <th>632806</th>\n",
       "      <td>8</td>\n",
       "      <td>Simple pass</td>\n",
       "      <td>[{'id': 1802}]</td>\n",
       "      <td>393284</td>\n",
       "      <td>[{'y': 8, 'x': 41}, {'y': 0, 'x': 0}]</td>\n",
       "      <td>2501065</td>\n",
       "      <td>Pass</td>\n",
       "      <td>3795</td>\n",
       "      <td>2H</td>\n",
       "      <td>2891.153313</td>\n",
       "      <td>85</td>\n",
       "      <td>253316983</td>\n",
       "    </tr>\n",
       "  </tbody>\n",
       "</table>\n",
       "<p>632807 rows × 12 columns</p>\n",
       "</div>"
      ],
      "text/plain": [
       "        eventId           subEventName  \\\n",
       "0             8            Simple pass   \n",
       "1             8              High pass   \n",
       "2             1               Air duel   \n",
       "3             1               Air duel   \n",
       "4             1  Ground attacking duel   \n",
       "...         ...                    ...   \n",
       "632802       10                   Shot   \n",
       "632803        9           Save attempt   \n",
       "632804        8            Simple pass   \n",
       "632805        8            Simple pass   \n",
       "632806        8            Simple pass   \n",
       "\n",
       "                                                     tags  playerId  \\\n",
       "0                                          [{'id': 1801}]    253784   \n",
       "1                                          [{'id': 1801}]     29474   \n",
       "2                             [{'id': 703}, {'id': 1801}]    253784   \n",
       "3                             [{'id': 701}, {'id': 1802}]     56441   \n",
       "4                             [{'id': 702}, {'id': 1801}]    366760   \n",
       "...                                                   ...       ...   \n",
       "632802  [{'id': 101}, {'id': 401}, {'id': 201}, {'id':...    405977   \n",
       "632803          [{'id': 101}, {'id': 1208}, {'id': 1802}]     25521   \n",
       "632804                                     [{'id': 1801}]    295761   \n",
       "632805                                     [{'id': 1801}]    249926   \n",
       "632806                                     [{'id': 1802}]    393284   \n",
       "\n",
       "                                         positions  matchId     eventName  \\\n",
       "0         [{'y': 51, 'x': 50}, {'y': 46, 'x': 31}]  2500686          Pass   \n",
       "1         [{'y': 46, 'x': 31}, {'y': 74, 'x': 68}]  2500686          Pass   \n",
       "2         [{'y': 74, 'x': 68}, {'y': 54, 'x': 72}]  2500686          Duel   \n",
       "3         [{'y': 26, 'x': 32}, {'y': 46, 'x': 28}]  2500686          Duel   \n",
       "4         [{'y': 54, 'x': 72}, {'y': 55, 'x': 73}]  2500686          Duel   \n",
       "...                                            ...      ...           ...   \n",
       "632802  [{'y': 65, 'x': 87}, {'y': 100, 'x': 100}]  2501065          Shot   \n",
       "632803      [{'y': 0, 'x': 0}, {'y': 35, 'x': 13}]  2501065  Save attempt   \n",
       "632804    [{'y': 52, 'x': 50}, {'y': 47, 'x': 44}]  2501065          Pass   \n",
       "632805     [{'y': 47, 'x': 44}, {'y': 8, 'x': 41}]  2501065          Pass   \n",
       "632806       [{'y': 8, 'x': 41}, {'y': 0, 'x': 0}]  2501065          Pass   \n",
       "\n",
       "        teamId matchPeriod     eventSec subEventId         id  \n",
       "0         3799          1H     1.935181         85  176505119  \n",
       "1         3799          1H     3.599295         83  176505121  \n",
       "2         3799          1H     6.827043         10  176505122  \n",
       "3         3772          1H     6.985577         10  176505017  \n",
       "4         3799          1H     9.511272         11  176505124  \n",
       "...        ...         ...          ...        ...        ...  \n",
       "632802   19830          2H  2821.203869        100  253316980  \n",
       "632803    3795          2H  2824.817116         91  253316978  \n",
       "632804    3795          2H  2888.383858         85  253316981  \n",
       "632805    3795          2H  2889.654402         85  253316982  \n",
       "632806    3795          2H  2891.153313         85  253316983  \n",
       "\n",
       "[632807 rows x 12 columns]"
      ]
     },
     "execution_count": 420,
     "metadata": {},
     "output_type": "execute_result"
    }
   ],
   "source": [
    "train1"
   ]
  },
  {
   "cell_type": "code",
   "execution_count": 421,
   "metadata": {},
   "outputs": [],
   "source": [
    "f.close()"
   ]
  },
  {
   "cell_type": "code",
   "execution_count": 4,
   "metadata": {},
   "outputs": [],
   "source": [
    "#Plotting\n",
    "import matplotlib.pyplot as plt\n",
    "#import FCPython \n",
    "import json\n",
    "\n",
    "#Statistical fitting of models\n",
    "import statsmodels.api as sm\n",
    "import statsmodels.formula.api as smf\n",
    "\n",
    "all_data=[]\n",
    "\n",
    "#Decide which league to load\n",
    "\n",
    "#Wyscout data from https://figshare.com/collections/Soccer_match_event_dataset/4415000/2\n",
    "for lg in ['England', 'Spain', 'Italy']:\n",
    "    with open(f'F:/SoccermaticsForPython/Wyscout/events_{lg}.json') as f:\n",
    "        data = json.load(f)\n",
    "        all_data = all_data+data\n",
    "    f.close()\n",
    "    \n",
    "#Create a data set of shots.\n",
    "train = pd.DataFrame(all_data)\n",
    "\n",
    "\n",
    "\n",
    "pd.unique(train['subEventName'])\n",
    "shots=train[train['subEventName']=='Shot']\n",
    "shots_model=pd.DataFrame(columns=['Goal','X','Y'])"
   ]
  },
  {
   "cell_type": "code",
   "execution_count": 7,
   "metadata": {},
   "outputs": [],
   "source": [
    "#Go through the dataframe and calculate X, Y co-ordinates.\n",
    "#Distance from a line in the centre\n",
    "#Shot angle.\n",
    "#Details of tags can be found here: https://apidocs.wyscout.com/matches-wyid-events\n",
    "for i,shot in shots.iterrows():\n",
    "    \n",
    "    header=0\n",
    "    for shottags in shot['tags']:\n",
    "        if shottags['id']==403:\n",
    "            header=1\n",
    "    #Only include non-headers        \n",
    "    if not(header):        \n",
    "        shots_model.at[i,'X']=100-shot['positions'][0]['x']\n",
    "        shots_model.at[i,'Y']=shot['positions'][0]['y']\n",
    "        shots_model.at[i,'C']=abs(shot['positions'][0]['y']-50)\n",
    "    \n",
    "        #Distance in metres and shot angle in radians.\n",
    "        x=shots_model.at[i,'X']*105/100\n",
    "        y=shots_model.at[i,'C']*65/100\n",
    "        shots_model.at[i,'Distance']=np.sqrt(x**2 + y**2)\n",
    "        a = np.arctan(7.32 *x /(x**2 + y**2 - (7.32/2)**2))\n",
    "        if a<0:\n",
    "            a=np.pi+a\n",
    "        shots_model.at[i,'Angle'] =a\n",
    "    \n",
    "        #Was it a goal\n",
    "        shots_model.at[i,'Goal']=0\n",
    "        for shottags in shot['tags']:\n",
    "                #Tags contain that its a goal\n",
    "                if shottags['id']==101:\n",
    "                    shots_model.at[i,'Goal']=1\n",
    "\n",
    "#Two dimensional histogram\n",
    "H_Shot=np.histogram2d(shots_model['X'], shots_model['Y'],bins=50,range=[[0, 100],[0, 100]])\n",
    "goals_only=shots_model[shots_model['Goal']==1]\n",
    "H_Goal=np.histogram2d(goals_only['X'], goals_only['Y'],bins=50,range=[[0, 100],[0, 100]])"
   ]
  },
  {
   "cell_type": "code",
   "execution_count": 562,
   "metadata": {},
   "outputs": [
    {
     "ename": "MemoryError",
     "evalue": "",
     "output_type": "error",
     "traceback": [
      "\u001b[1;31m---------------------------------------------------------------------------\u001b[0m",
      "\u001b[1;31mMemoryError\u001b[0m                               Traceback (most recent call last)",
      "\u001b[1;32m<ipython-input-562-737549e4478d>\u001b[0m in \u001b[0;36m<module>\u001b[1;34m\u001b[0m\n\u001b[0;32m      1\u001b[0m \u001b[1;31m# Save all the WyScout events DF to a pickle (easy access)\u001b[0m\u001b[1;33m\u001b[0m\u001b[1;33m\u001b[0m\u001b[1;33m\u001b[0m\u001b[0m\n\u001b[1;32m----> 2\u001b[1;33m \u001b[0mtrain\u001b[0m \u001b[1;33m=\u001b[0m \u001b[0mpd\u001b[0m\u001b[1;33m.\u001b[0m\u001b[0mread_pickle\u001b[0m\u001b[1;33m(\u001b[0m\u001b[1;34m'xG_df'\u001b[0m\u001b[1;33m)\u001b[0m\u001b[1;33m\u001b[0m\u001b[1;33m\u001b[0m\u001b[0m\n\u001b[0m",
      "\u001b[1;32m~\\Anaconda3\\envs\\mlpy\\lib\\site-packages\\pandas\\io\\pickle.py\u001b[0m in \u001b[0;36mread_pickle\u001b[1;34m(filepath_or_buffer, compression)\u001b[0m\n\u001b[0;32m    180\u001b[0m                 \u001b[1;31m# We want to silence any warnings about, e.g. moved modules.\u001b[0m\u001b[1;33m\u001b[0m\u001b[1;33m\u001b[0m\u001b[1;33m\u001b[0m\u001b[0m\n\u001b[0;32m    181\u001b[0m                 \u001b[0mwarnings\u001b[0m\u001b[1;33m.\u001b[0m\u001b[0msimplefilter\u001b[0m\u001b[1;33m(\u001b[0m\u001b[1;34m\"ignore\"\u001b[0m\u001b[1;33m,\u001b[0m \u001b[0mWarning\u001b[0m\u001b[1;33m)\u001b[0m\u001b[1;33m\u001b[0m\u001b[1;33m\u001b[0m\u001b[0m\n\u001b[1;32m--> 182\u001b[1;33m                 \u001b[1;32mreturn\u001b[0m \u001b[0mpickle\u001b[0m\u001b[1;33m.\u001b[0m\u001b[0mload\u001b[0m\u001b[1;33m(\u001b[0m\u001b[0mf\u001b[0m\u001b[1;33m)\u001b[0m\u001b[1;33m\u001b[0m\u001b[1;33m\u001b[0m\u001b[0m\n\u001b[0m\u001b[0;32m    183\u001b[0m         \u001b[1;32mexcept\u001b[0m \u001b[0mexcs_to_catch\u001b[0m\u001b[1;33m:\u001b[0m\u001b[1;33m\u001b[0m\u001b[1;33m\u001b[0m\u001b[0m\n\u001b[0;32m    184\u001b[0m             \u001b[1;31m# e.g.\u001b[0m\u001b[1;33m\u001b[0m\u001b[1;33m\u001b[0m\u001b[1;33m\u001b[0m\u001b[0m\n",
      "\u001b[1;31mMemoryError\u001b[0m: "
     ]
    }
   ],
   "source": [
    "# Save all the WyScout events DF to a pickle (easy access)\n",
    "train = pd.read_pickle('xG_df')"
   ]
  },
  {
   "cell_type": "code",
   "execution_count": 11,
   "metadata": {},
   "outputs": [
    {
     "data": {
      "image/png": "[encoded data removed]",
      "text/plain": [
       "<Figure size 432x288 with 2 Axes>"
      ]
     },
     "metadata": {
      "needs_background": "light"
     },
     "output_type": "display_data"
    }
   ],
   "source": [
    "#Plot the number of shots from different points\n",
    "fig,ax = createGoalMouth()\n",
    "pos=ax.imshow(H_Shot[0], extent=[-1,66,104,-1], aspect='auto',cmap=plt.cm.Reds)\n",
    "fig.colorbar(pos, ax=ax)\n",
    "ax.set_title('Number of shots')\n",
    "plt.xlim((-1,66))\n",
    "plt.ylim((-3,35))\n",
    "plt.tight_layout()\n",
    "plt.gca().set_aspect('equal', adjustable='box')\n",
    "plt.show()\n",
    "fig.savefig('Output/NumberOfShots.pdf', dpi=None, bbox_inches=\"tight\")   "
   ]
  },
  {
   "cell_type": "code",
   "execution_count": 12,
   "metadata": {},
   "outputs": [
    {
     "name": "stderr",
     "output_type": "stream",
     "text": [
      "C:\\Users\\Gerald Lim\\Anaconda3\\envs\\mlpy\\lib\\site-packages\\ipykernel_launcher.py:3: RuntimeWarning: invalid value encountered in true_divide\n",
      "  This is separate from the ipykernel package so we can avoid doing imports until\n"
     ]
    },
    {
     "data": {
      "image/png": "[encoded data removed]",
      "text/plain": [
       "<Figure size 432x288 with 2 Axes>"
      ]
     },
     "metadata": {
      "needs_background": "light"
     },
     "output_type": "display_data"
    }
   ],
   "source": [
    "#Plot the probability of scoring from different points\n",
    "(fig,ax) = createGoalMouth()\n",
    "pos=ax.imshow(H_Goal[0]/H_Shot[0], extent=[-1,66,104,-1], aspect='auto',cmap=plt.cm.Reds,vmin=0, vmax=0.5)\n",
    "fig.colorbar(pos, ax=ax)\n",
    "ax.set_title('Proportion of shots resulting in a goal')\n",
    "plt.xlim((-1,66))\n",
    "plt.ylim((-3,35))\n",
    "plt.tight_layout()\n",
    "plt.gca().set_aspect('equal', adjustable='box')\n",
    "plt.show()\n",
    "fig.savefig('Output/ProbabilityOfScoring.pdf', dpi=None, bbox_inches=\"tight\")   "
   ]
  },
  {
   "cell_type": "code",
   "execution_count": 248,
   "metadata": {},
   "outputs": [],
   "source": [
    "# Do Liverpoo tend to score off high quality chances? Can see the max,min of a 3D xG fitted plot...\n",
    "# C0mpare w stats from understat? Do Liverpool create many"
   ]
  },
  {
   "cell_type": "markdown",
   "metadata": {},
   "source": [
    "### Build the xG model by fitting PDFS for goal probability against distance and angle"
   ]
  },
  {
   "cell_type": "code",
   "execution_count": 269,
   "metadata": {},
   "outputs": [],
   "source": [
    "shots_dist = np.round(np.array(shots_model['Distance']))\n",
    "goals_dist = np.round(np.array(goals_only['Distance']))"
   ]
  },
  {
   "cell_type": "code",
   "execution_count": 270,
   "metadata": {},
   "outputs": [],
   "source": [
    "# Create Histograms\n",
    "H_Goal_Dist = np.histogram(goals_dist, bins=int(np.max(goals_dist)-1))\n",
    "H_Shot_Dist = np.histogram(shots_dist, bins=int(np.max(shots_dist)-1))"
   ]
  },
  {
   "cell_type": "code",
   "execution_count": 48,
   "metadata": {},
   "outputs": [
    {
     "name": "stderr",
     "output_type": "stream",
     "text": [
      "C:\\Users\\Gerald Lim\\Anaconda3\\envs\\mlpy\\lib\\site-packages\\ipykernel_launcher.py:1: RuntimeWarning: invalid value encountered in true_divide\n",
      "  \"\"\"Entry point for launching an IPython kernel.\n"
     ]
    },
    {
     "data": {
      "text/plain": [
       "Text(0.5, 0, 'Distance from goal (m)')"
      ]
     },
     "execution_count": 48,
     "metadata": {},
     "output_type": "execute_result"
    },
    {
     "data": {
      "image/png": "[encoded data removed]",
      "text/plain": [
       "<Figure size 432x288 with 1 Axes>"
      ]
     },
     "metadata": {
      "needs_background": "light"
     },
     "output_type": "display_data"
    }
   ],
   "source": [
    "plt.scatter(H_Shot_Dist[1][:-1], H_Goal_Dist[0]/H_Shot_Dist[0], s=5)\n",
    "plt.ylabel('Probability shot converted')\n",
    "plt.xlabel('Distance from goal (m)')"
   ]
  },
  {
   "cell_type": "code",
   "execution_count": 271,
   "metadata": {},
   "outputs": [
    {
     "name": "stderr",
     "output_type": "stream",
     "text": [
      "C:\\Users\\Gerald Lim\\Anaconda3\\envs\\mlpy\\lib\\site-packages\\ipykernel_launcher.py:3: RuntimeWarning: invalid value encountered in true_divide\n",
      "  This is separate from the ipykernel package so we can avoid doing imports until\n",
      "C:\\Users\\Gerald Lim\\Anaconda3\\envs\\mlpy\\lib\\site-packages\\ipykernel_launcher.py:9: RuntimeWarning: divide by zero encountered in log\n",
      "  if __name__ == '__main__':\n"
     ]
    }
   ],
   "source": [
    "from scipy import stats\n",
    "x = H_Shot_Dist[1][:-1]\n",
    "y = H_Goal_Dist[0]/H_Shot_Dist[0]\n",
    "\n",
    "# Set all nan that arise from 0/0 to 0\n",
    "y_new = [i if np.isnan(i) == False else 0. for i in y]\n",
    "\n",
    "# Need to filter out the -np.inf that arise from doing log(0)\n",
    "slope, intercept, r_value, p_value, std_err = stats.linregress(x[np.log(y_new) != -np.inf],np.log(y_new)[np.log(y_new) != -np.inf])"
   ]
  },
  {
   "cell_type": "code",
   "execution_count": 50,
   "metadata": {},
   "outputs": [
    {
     "name": "stderr",
     "output_type": "stream",
     "text": [
      "C:\\Users\\Gerald Lim\\Anaconda3\\envs\\mlpy\\lib\\site-packages\\ipykernel_launcher.py:3: RuntimeWarning: divide by zero encountered in log\n",
      "  This is separate from the ipykernel package so we can avoid doing imports until\n"
     ]
    }
   ],
   "source": [
    "# Try Theil-sen regression to minimise outlier effect\n",
    "\n",
    "res = stats.theilslopes(np.log(y_new)[np.log(y_new) != -np.inf], x[np.log(y_new) != -np.inf], 0.95)"
   ]
  },
  {
   "cell_type": "code",
   "execution_count": 54,
   "metadata": {},
   "outputs": [
    {
     "name": "stderr",
     "output_type": "stream",
     "text": [
      "C:\\Users\\Gerald Lim\\Anaconda3\\envs\\mlpy\\lib\\site-packages\\ipykernel_launcher.py:1: RuntimeWarning: invalid value encountered in true_divide\n",
      "  \"\"\"Entry point for launching an IPython kernel.\n"
     ]
    },
    {
     "data": {
      "text/plain": [
       "<matplotlib.legend.Legend at 0x1965cc0c898>"
      ]
     },
     "execution_count": 54,
     "metadata": {},
     "output_type": "execute_result"
    },
    {
     "data": {
      "image/png": "[encoded data removed]",
      "text/plain": [
       "<Figure size 432x288 with 1 Axes>"
      ]
     },
     "metadata": {
      "needs_background": "light"
     },
     "output_type": "display_data"
    }
   ],
   "source": [
    "plt.scatter(H_Shot_Dist[1][:-1], H_Goal_Dist[0]/H_Shot_Dist[0], s=5)\n",
    "plt.ylabel('Probability shot converted')\n",
    "plt.xlabel('Distance from goal (m)')\n",
    "plt.plot(np.arange(100), [np.exp(-0.15*x) for x in np.arange(100)], 'k', label = 'Random guess coeff=-0.15')\n",
    "plt.plot(np.arange(100), [np.exp(-0.1327*x) for x in np.arange(100)], 'r', label = 'Theil-Sen fit')\n",
    "plt.legend()"
   ]
  },
  {
   "cell_type": "markdown",
   "metadata": {},
   "source": [
    "#### Shot Angle"
   ]
  },
  {
   "cell_type": "code",
   "execution_count": 272,
   "metadata": {},
   "outputs": [],
   "source": [
    "shots_a = np.round(np.array(shots_model['Angle'])*180/np.pi)\n",
    "goals_a = np.round(np.array(goals_only['Angle'])*180/np.pi)"
   ]
  },
  {
   "cell_type": "code",
   "execution_count": 273,
   "metadata": {},
   "outputs": [],
   "source": [
    "# Create Histograms\n",
    "H_Goal_A = np.histogram(goals_a, bins=147)\n",
    "H_Shot_A = np.histogram(shots_a, bins=147)"
   ]
  },
  {
   "cell_type": "code",
   "execution_count": 274,
   "metadata": {},
   "outputs": [
    {
     "name": "stderr",
     "output_type": "stream",
     "text": [
      "C:\\Users\\Gerald Lim\\Anaconda3\\envs\\mlpy\\lib\\site-packages\\ipykernel_launcher.py:1: RuntimeWarning: invalid value encountered in true_divide\n",
      "  \"\"\"Entry point for launching an IPython kernel.\n"
     ]
    },
    {
     "data": {
      "text/plain": [
       "Text(0.5, 0, 'Shot Angle (deg)')"
      ]
     },
     "execution_count": 274,
     "metadata": {},
     "output_type": "execute_result"
    },
    {
     "data": {
      "image/png": "[encoded data removed]",
      "text/plain": [
       "<Figure size 432x288 with 1 Axes>"
      ]
     },
     "metadata": {
      "needs_background": "light"
     },
     "output_type": "display_data"
    }
   ],
   "source": [
    "plt.scatter(H_Shot_A[1][1:-1], (H_Goal_A[0][1:]/H_Shot_A[0][1:]), s=5)\n",
    "plt.ylabel('Probability shot converted')\n",
    "plt.xlabel('Shot Angle (deg)')"
   ]
  },
  {
   "cell_type": "code",
   "execution_count": 277,
   "metadata": {},
   "outputs": [
    {
     "name": "stderr",
     "output_type": "stream",
     "text": [
      "C:\\Users\\Gerald Lim\\Anaconda3\\envs\\mlpy\\lib\\site-packages\\ipykernel_launcher.py:2: RuntimeWarning: invalid value encountered in true_divide\n",
      "  \n"
     ]
    }
   ],
   "source": [
    "x1 = H_Shot_A[1][1:-1]\n",
    "y1 = H_Goal_A[0][1:]/H_Shot_A[0][1:]  # [1:] to ignore angle of 0 \n",
    "\n",
    "# Set all nan that arise from 0/0 to 0\n",
    "y1_new = [i if np.isnan(i) == False else 0. for i in y1]"
   ]
  },
  {
   "cell_type": "code",
   "execution_count": 276,
   "metadata": {},
   "outputs": [
    {
     "data": {
      "text/plain": [
       "LinregressResult(slope=0.0073224509872822025, intercept=-0.014036835936118375, rvalue=0.9386468824027014, pvalue=8.3051451859316e-38, stderr=0.0003046313559064963)"
      ]
     },
     "execution_count": 276,
     "metadata": {},
     "output_type": "execute_result"
    }
   ],
   "source": [
    "stats.linregress(x1[np.array(y1_new) > 0],np.array(y1_new)[np.array(y1_new) > 0])"
   ]
  },
  {
   "cell_type": "code",
   "execution_count": 556,
   "metadata": {},
   "outputs": [
    {
     "data": {
      "text/plain": [
       "(0.007541232638888889,\n",
       " -0.0642730034722222,\n",
       " 0.006753246753246752,\n",
       " 0.00856851411084665)"
      ]
     },
     "execution_count": 556,
     "metadata": {},
     "output_type": "execute_result"
    }
   ],
   "source": [
    "stats.theilslopes( np.array(y1_new)[np.array(y1_new) > 0], x1[np.array(y1_new) > 0], 0.95)"
   ]
  },
  {
   "cell_type": "code",
   "execution_count": 573,
   "metadata": {},
   "outputs": [
    {
     "name": "stderr",
     "output_type": "stream",
     "text": [
      "C:\\Users\\Gerald Lim\\Anaconda3\\envs\\mlpy\\lib\\site-packages\\ipykernel_launcher.py:1: RuntimeWarning: invalid value encountered in true_divide\n",
      "  \"\"\"Entry point for launching an IPython kernel.\n"
     ]
    },
    {
     "data": {
      "text/plain": [
       "<matplotlib.legend.Legend at 0x23505d4fb38>"
      ]
     },
     "execution_count": 573,
     "metadata": {},
     "output_type": "execute_result"
    },
    {
     "data": {
      "image/png": "[encoded data removed]",
      "text/plain": [
       "<Figure size 432x288 with 1 Axes>"
      ]
     },
     "metadata": {
      "needs_background": "light"
     },
     "output_type": "display_data"
    }
   ],
   "source": [
    "plt.scatter(H_Shot_A[1][1:-1], (H_Goal_A[0][1:]/H_Shot_A[0][1:]), s=5)\n",
    "plt.ylabel('Probability shot converted')\n",
    "plt.xlabel('Shot Angle (deg)')\n",
    "\n",
    "#plt.plot(np.arange(147), [0.0075*x for x in np.arange(147)], 'k', label = 'Random guess coeff=-0.15')\n",
    "plt.plot(np.arange(147), [0.00669*x for x in np.arange(147)], 'r', label = 'Linear Fit')\n",
    "\n",
    "plt.plot(np.arange(147), np.array([np.exp(0.005*x) for x in np.arange(147)])-1, 'g', label = 'Exp Fit')\n",
    "\n",
    "#plt.plot(np.arange(66), [np.exp(-0.1268*x) for x in np.arange(66)], 'r', label = 'Theil-Sen fit')\n",
    "plt.legend()"
   ]
  },
  {
   "cell_type": "markdown",
   "metadata": {},
   "source": [
    "#### 2-D Probability Map of goal probability"
   ]
  },
  {
   "cell_type": "code",
   "execution_count": 69,
   "metadata": {},
   "outputs": [],
   "source": [
    "H_Shots_AD = np.histogram2d(shots_dist, shots_a, bins=[103,147])\n",
    "H_Goals_AD = np.histogram2d(goals_dist, goals_a, bins=[103,147])"
   ]
  },
  {
   "cell_type": "code",
   "execution_count": 81,
   "metadata": {},
   "outputs": [
    {
     "data": {
      "text/plain": [
       "(103, 146)"
      ]
     },
     "execution_count": 81,
     "metadata": {},
     "output_type": "execute_result"
    }
   ],
   "source": [
    "H_Shots_AD[0][:,1:].shape"
   ]
  },
  {
   "cell_type": "code",
   "execution_count": 82,
   "metadata": {},
   "outputs": [
    {
     "name": "stderr",
     "output_type": "stream",
     "text": [
      "C:\\Users\\Gerald Lim\\Anaconda3\\envs\\mlpy\\lib\\site-packages\\ipykernel_launcher.py:3: RuntimeWarning: invalid value encountered in true_divide\n",
      "  This is separate from the ipykernel package so we can avoid doing imports until\n"
     ]
    },
    {
     "data": {
      "text/plain": [
       "Text(0.5, 1.0, 'Probablity of shot converted')"
      ]
     },
     "execution_count": 82,
     "metadata": {},
     "output_type": "execute_result"
    },
    {
     "data": {
      "image/png": "[encoded data removed]",
      "text/plain": [
       "<Figure size 576x360 with 2 Axes>"
      ]
     },
     "metadata": {
      "needs_background": "light"
     },
     "output_type": "display_data"
    }
   ],
   "source": [
    "fig, ax = plt.subplots(figsize=(8,5))\n",
    "# Ignore angle = 0 \n",
    "c = ax.pcolor(H_Goals_AD[0][:,1:]/H_Shots_AD[0][:,1:], cmap = 'plasma', vmin=0, vmax=0.8)\n",
    "\n",
    "ax.set_xlabel('Shot Angle (deg)')\n",
    "ax.set_ylabel('Shot Distance (m)')\n",
    "\n",
    "fig.colorbar(c)\n",
    "\n",
    "ax.set_title('Probablity of shot converted')"
   ]
  },
  {
   "cell_type": "markdown",
   "metadata": {},
   "source": [
    "## 1. Trying to fit with GLM (Easy way out)\n",
    "Credit: Friends for Tracking xG tutorial part 2"
   ]
  },
  {
   "cell_type": "code",
   "execution_count": 253,
   "metadata": {},
   "outputs": [
    {
     "data": {
      "text/html": [
       "<div>\n",
       "<style scoped>\n",
       "    .dataframe tbody tr th:only-of-type {\n",
       "        vertical-align: middle;\n",
       "    }\n",
       "\n",
       "    .dataframe tbody tr th {\n",
       "        vertical-align: top;\n",
       "    }\n",
       "\n",
       "    .dataframe thead th {\n",
       "        text-align: right;\n",
       "    }\n",
       "</style>\n",
       "<table border=\"1\" class=\"dataframe\">\n",
       "  <thead>\n",
       "    <tr style=\"text-align: right;\">\n",
       "      <th></th>\n",
       "      <th>Goal</th>\n",
       "      <th>X</th>\n",
       "      <th>Y</th>\n",
       "      <th>C</th>\n",
       "      <th>Distance</th>\n",
       "      <th>Angle</th>\n",
       "      <th>xG</th>\n",
       "    </tr>\n",
       "  </thead>\n",
       "  <tbody>\n",
       "    <tr>\n",
       "      <th>46</th>\n",
       "      <td>1</td>\n",
       "      <td>12</td>\n",
       "      <td>41</td>\n",
       "      <td>9.0</td>\n",
       "      <td>13.891814</td>\n",
       "      <td>0.474451</td>\n",
       "      <td>0.135073</td>\n",
       "    </tr>\n",
       "    <tr>\n",
       "      <th>62</th>\n",
       "      <td>0</td>\n",
       "      <td>15</td>\n",
       "      <td>52</td>\n",
       "      <td>2.0</td>\n",
       "      <td>15.803560</td>\n",
       "      <td>0.453823</td>\n",
       "      <td>0.108722</td>\n",
       "    </tr>\n",
       "    <tr>\n",
       "      <th>128</th>\n",
       "      <td>0</td>\n",
       "      <td>19</td>\n",
       "      <td>33</td>\n",
       "      <td>17.0</td>\n",
       "      <td>22.805811</td>\n",
       "      <td>0.280597</td>\n",
       "      <td>0.040574</td>\n",
       "    </tr>\n",
       "    <tr>\n",
       "      <th>249</th>\n",
       "      <td>0</td>\n",
       "      <td>25</td>\n",
       "      <td>30</td>\n",
       "      <td>20.0</td>\n",
       "      <td>29.292704</td>\n",
       "      <td>0.223680</td>\n",
       "      <td>0.018330</td>\n",
       "    </tr>\n",
       "    <tr>\n",
       "      <th>394</th>\n",
       "      <td>0</td>\n",
       "      <td>10</td>\n",
       "      <td>39</td>\n",
       "      <td>11.0</td>\n",
       "      <td>12.703248</td>\n",
       "      <td>0.479051</td>\n",
       "      <td>0.152354</td>\n",
       "    </tr>\n",
       "  </tbody>\n",
       "</table>\n",
       "</div>"
      ],
      "text/plain": [
       "    Goal   X   Y     C   Distance     Angle        xG\n",
       "46     1  12  41   9.0  13.891814  0.474451  0.135073\n",
       "62     0  15  52   2.0  15.803560  0.453823  0.108722\n",
       "128    0  19  33  17.0  22.805811  0.280597  0.040574\n",
       "249    0  25  30  20.0  29.292704  0.223680  0.018330\n",
       "394    0  10  39  11.0  12.703248  0.479051  0.152354"
      ]
     },
     "execution_count": 253,
     "metadata": {},
     "output_type": "execute_result"
    }
   ],
   "source": [
    "shots_model.head()"
   ]
  },
  {
   "cell_type": "code",
   "execution_count": 223,
   "metadata": {},
   "outputs": [
    {
     "name": "stdout",
     "output_type": "stream",
     "text": [
      "                   Generalized Linear Model Regression Results                    \n",
      "==================================================================================\n",
      "Dep. Variable:     ['Goal[0]', 'Goal[1]']   No. Observations:                21180\n",
      "Model:                                GLM   Df Residuals:                    21177\n",
      "Model Family:                    Binomial   Df Model:                            2\n",
      "Link Function:                      logit   Scale:                          1.0000\n",
      "Method:                              IRLS   Log-Likelihood:                -5711.6\n",
      "Date:                    Thu, 07 May 2020   Deviance:                       11423.\n",
      "Time:                            23:31:42   Pearson chi2:                 3.18e+05\n",
      "No. Iterations:                         7                                         \n",
      "Covariance Type:                nonrobust                                         \n",
      "==============================================================================\n",
      "                 coef    std err          z      P>|z|      [0.025      0.975]\n",
      "------------------------------------------------------------------------------\n",
      "Intercept      1.0495      0.151      6.946      0.000       0.753       1.346\n",
      "Angle         -1.5820      0.135    -11.730      0.000      -1.846      -1.318\n",
      "Distance       0.1121      0.006     17.973      0.000       0.100       0.124\n",
      "==============================================================================\n"
     ]
    }
   ],
   "source": [
    "# A general model for fitting goal probability\n",
    "# List the model variables you want here\n",
    "model_variables = ['Angle','Distance']\n",
    "model=''\n",
    "for v in model_variables[:-1]:\n",
    "    model = model  + v + ' + '\n",
    "model = model + model_variables[-1]\n",
    "\n",
    "\n",
    "#Fit the model\n",
    "test_model = smf.glm(formula=\"Goal ~ \" + model, data=shots_model, \n",
    "                           family=sm.families.Binomial()).fit()\n",
    "print(test_model.summary())        \n",
    "b=test_model.params"
   ]
  },
  {
   "cell_type": "code",
   "execution_count": 224,
   "metadata": {},
   "outputs": [],
   "source": [
    "#Return xG value for more general model\n",
    "def calculate_xG(sh):    \n",
    "    bsum=b[0]\n",
    "    for i,v in enumerate(model_variables):\n",
    "        bsum=bsum+b[i+1]*sh[v]\n",
    "    xG = 1/(1+np.exp(bsum)) \n",
    "    return xG   \n",
    "\n",
    "#Add an xG to my dataframe\n",
    "xG=shots_model.apply(calculate_xG, axis=1) \n",
    "shots_model = shots_model.assign(xG=xG)"
   ]
  },
  {
   "cell_type": "code",
   "execution_count": 225,
   "metadata": {},
   "outputs": [
    {
     "data": {
      "text/html": [
       "<div>\n",
       "<style scoped>\n",
       "    .dataframe tbody tr th:only-of-type {\n",
       "        vertical-align: middle;\n",
       "    }\n",
       "\n",
       "    .dataframe tbody tr th {\n",
       "        vertical-align: top;\n",
       "    }\n",
       "\n",
       "    .dataframe thead th {\n",
       "        text-align: right;\n",
       "    }\n",
       "</style>\n",
       "<table border=\"1\" class=\"dataframe\">\n",
       "  <thead>\n",
       "    <tr style=\"text-align: right;\">\n",
       "      <th></th>\n",
       "      <th>Goal</th>\n",
       "      <th>X</th>\n",
       "      <th>Y</th>\n",
       "      <th>C</th>\n",
       "      <th>Distance</th>\n",
       "      <th>Angle</th>\n",
       "      <th>xG</th>\n",
       "    </tr>\n",
       "  </thead>\n",
       "  <tbody>\n",
       "    <tr>\n",
       "      <th>46</th>\n",
       "      <td>1</td>\n",
       "      <td>12</td>\n",
       "      <td>41</td>\n",
       "      <td>9.0</td>\n",
       "      <td>13.891814</td>\n",
       "      <td>0.474451</td>\n",
       "      <td>0.135073</td>\n",
       "    </tr>\n",
       "    <tr>\n",
       "      <th>62</th>\n",
       "      <td>0</td>\n",
       "      <td>15</td>\n",
       "      <td>52</td>\n",
       "      <td>2.0</td>\n",
       "      <td>15.803560</td>\n",
       "      <td>0.453823</td>\n",
       "      <td>0.108722</td>\n",
       "    </tr>\n",
       "    <tr>\n",
       "      <th>128</th>\n",
       "      <td>0</td>\n",
       "      <td>19</td>\n",
       "      <td>33</td>\n",
       "      <td>17.0</td>\n",
       "      <td>22.805811</td>\n",
       "      <td>0.280597</td>\n",
       "      <td>0.040574</td>\n",
       "    </tr>\n",
       "    <tr>\n",
       "      <th>249</th>\n",
       "      <td>0</td>\n",
       "      <td>25</td>\n",
       "      <td>30</td>\n",
       "      <td>20.0</td>\n",
       "      <td>29.292704</td>\n",
       "      <td>0.223680</td>\n",
       "      <td>0.018330</td>\n",
       "    </tr>\n",
       "    <tr>\n",
       "      <th>394</th>\n",
       "      <td>0</td>\n",
       "      <td>10</td>\n",
       "      <td>39</td>\n",
       "      <td>11.0</td>\n",
       "      <td>12.703248</td>\n",
       "      <td>0.479051</td>\n",
       "      <td>0.152354</td>\n",
       "    </tr>\n",
       "    <tr>\n",
       "      <th>...</th>\n",
       "      <td>...</td>\n",
       "      <td>...</td>\n",
       "      <td>...</td>\n",
       "      <td>...</td>\n",
       "      <td>...</td>\n",
       "      <td>...</td>\n",
       "      <td>...</td>\n",
       "    </tr>\n",
       "    <tr>\n",
       "      <th>1918679</th>\n",
       "      <td>0</td>\n",
       "      <td>5</td>\n",
       "      <td>45</td>\n",
       "      <td>5.0</td>\n",
       "      <td>6.174545</td>\n",
       "      <td>0.999010</td>\n",
       "      <td>0.459715</td>\n",
       "    </tr>\n",
       "    <tr>\n",
       "      <th>1918713</th>\n",
       "      <td>0</td>\n",
       "      <td>7</td>\n",
       "      <td>38</td>\n",
       "      <td>12.0</td>\n",
       "      <td>10.717392</td>\n",
       "      <td>0.487547</td>\n",
       "      <td>0.185411</td>\n",
       "    </tr>\n",
       "    <tr>\n",
       "      <th>1918978</th>\n",
       "      <td>1</td>\n",
       "      <td>10</td>\n",
       "      <td>46</td>\n",
       "      <td>4.0</td>\n",
       "      <td>10.817116</td>\n",
       "      <td>0.638225</td>\n",
       "      <td>0.222196</td>\n",
       "    </tr>\n",
       "    <tr>\n",
       "      <th>1919027</th>\n",
       "      <td>0</td>\n",
       "      <td>21</td>\n",
       "      <td>32</td>\n",
       "      <td>18.0</td>\n",
       "      <td>24.961821</td>\n",
       "      <td>0.258795</td>\n",
       "      <td>0.031084</td>\n",
       "    </tr>\n",
       "    <tr>\n",
       "      <th>1919095</th>\n",
       "      <td>0</td>\n",
       "      <td>7</td>\n",
       "      <td>43</td>\n",
       "      <td>7.0</td>\n",
       "      <td>8.644362</td>\n",
       "      <td>0.720110</td>\n",
       "      <td>0.293239</td>\n",
       "    </tr>\n",
       "  </tbody>\n",
       "</table>\n",
       "<p>21180 rows × 7 columns</p>\n",
       "</div>"
      ],
      "text/plain": [
       "        Goal   X   Y     C   Distance     Angle        xG\n",
       "46         1  12  41   9.0  13.891814  0.474451  0.135073\n",
       "62         0  15  52   2.0  15.803560  0.453823  0.108722\n",
       "128        0  19  33  17.0  22.805811  0.280597  0.040574\n",
       "249        0  25  30  20.0  29.292704  0.223680  0.018330\n",
       "394        0  10  39  11.0  12.703248  0.479051  0.152354\n",
       "...      ...  ..  ..   ...        ...       ...       ...\n",
       "1918679    0   5  45   5.0   6.174545  0.999010  0.459715\n",
       "1918713    0   7  38  12.0  10.717392  0.487547  0.185411\n",
       "1918978    1  10  46   4.0  10.817116  0.638225  0.222196\n",
       "1919027    0  21  32  18.0  24.961821  0.258795  0.031084\n",
       "1919095    0   7  43   7.0   8.644362  0.720110  0.293239\n",
       "\n",
       "[21180 rows x 7 columns]"
      ]
     },
     "execution_count": 225,
     "metadata": {},
     "output_type": "execute_result"
    }
   ],
   "source": [
    "shots_model"
   ]
  },
  {
   "cell_type": "markdown",
   "metadata": {},
   "source": [
    "#### Spatial Map of xG"
   ]
  },
  {
   "cell_type": "code",
   "execution_count": 285,
   "metadata": {},
   "outputs": [
    {
     "data": {
      "image/png": "[encoded data removed]",
      "text/plain": [
       "<Figure size 432x288 with 2 Axes>"
      ]
     },
     "metadata": {
      "needs_background": "light"
     },
     "output_type": "display_data"
    }
   ],
   "source": [
    "#Create a 2D map of xG\n",
    "pgoal_2d=np.zeros((65,65))\n",
    "for x in range(65):\n",
    "    for y in range(65):\n",
    "        sh=dict()\n",
    "        a = np.arctan(7.32 *x /(x**2 + abs(y-65/2)**2 - (7.32/2)**2))\n",
    "        if a<0:\n",
    "            a = np.pi + a\n",
    "        sh['Angle'] = a\n",
    "        sh['Distance'] = np.sqrt(x**2 + abs(y-65/2)**2)\n",
    "        sh['D2'] = x**2 + abs(y-65/2)**2\n",
    "        sh['X'] = x\n",
    "        sh['AX'] = x*a\n",
    "        sh['X2'] = x**2\n",
    "        sh['C'] = abs(y-65/2)\n",
    "        sh['C2'] = (y-65/2)**2\n",
    "        \n",
    "        pgoal_2d[x,y] =  calculate_xG(sh)\n",
    "\n",
    "fig,ax = createGoalMouth()\n",
    "pos=ax.imshow(pgoal_2d, extent=[-1,65,65,-1], aspect='auto',cmap=plt.cm.Reds,vmin=0, vmax=0.5)\n",
    "fig.colorbar(pos, ax=ax)\n",
    "ax.set_title('Probability of goal')\n",
    "plt.xlim((0,66))\n",
    "plt.ylim((-3,35))\n",
    "plt.gca().set_aspect('equal', adjustable='box')\n",
    "plt.show()\n",
    "fig.savefig('Output/goalprobfor_' + model  + '.pdf', dpi=None, bbox_inches=\"tight\")   "
   ]
  },
  {
   "cell_type": "markdown",
   "metadata": {},
   "source": [
    "### 2. Fit via sklearn multiple regression"
   ]
  },
  {
   "cell_type": "code",
   "execution_count": 290,
   "metadata": {},
   "outputs": [
    {
     "data": {
      "text/plain": [
       "LogisticRegression(C=1.0, class_weight=None, dual=False, fit_intercept=True,\n",
       "                   intercept_scaling=1, l1_ratio=None, max_iter=100,\n",
       "                   multi_class='auto', n_jobs=None, penalty='l2',\n",
       "                   random_state=None, solver='lbfgs', tol=0.0001, verbose=0,\n",
       "                   warm_start=False)"
      ]
     },
     "execution_count": 290,
     "metadata": {},
     "output_type": "execute_result"
    }
   ],
   "source": [
    "from sklearn import linear_model\n",
    "\n",
    "X = shots_model[['Angle','Distance']] # here we have 2 variables for multiple regression. If you just want to use one variable for simple linear regression, then use X = df['Interest_Rate'] for example.Alternatively, you may add additional variables within the brackets\n",
    "Y = shots_model['Goal']\n",
    " \n",
    "# with sklearn\n",
    "regr = linear_model.LogisticRegression()\n",
    "regr.fit(X, list(Y))"
   ]
  },
  {
   "cell_type": "code",
   "execution_count": 292,
   "metadata": {},
   "outputs": [
    {
     "data": {
      "text/plain": [
       "array([[0.85919981, 0.14080019]])"
      ]
     },
     "execution_count": 292,
     "metadata": {},
     "output_type": "execute_result"
    }
   ],
   "source": [
    "regr.predict_proba([[0.470095,13.419803]])"
   ]
  },
  {
   "cell_type": "markdown",
   "metadata": {},
   "source": [
    "### 3. Try a Random Forest?"
   ]
  },
  {
   "cell_type": "code",
   "execution_count": 312,
   "metadata": {},
   "outputs": [],
   "source": [
    "from sklearn import tree\n",
    "\n",
    "clf = tree.DecisionTreeClassifier()\n",
    "clf = clf.fit(X,list(Y))"
   ]
  },
  {
   "cell_type": "code",
   "execution_count": 314,
   "metadata": {},
   "outputs": [
    {
     "data": {
      "text/plain": [
       "array([[0.78, 0.22]])"
      ]
     },
     "execution_count": 314,
     "metadata": {},
     "output_type": "execute_result"
    }
   ],
   "source": [
    "clf.predict_proba([[0.470095,13.419803]])"
   ]
  },
  {
   "cell_type": "code",
   "execution_count": 315,
   "metadata": {},
   "outputs": [
    {
     "data": {
      "text/plain": [
       "array([[0.85185185, 0.14814815]])"
      ]
     },
     "execution_count": 315,
     "metadata": {},
     "output_type": "execute_result"
    }
   ],
   "source": [
    "clf.predict_proba([[0.720110,8.644362]])"
   ]
  },
  {
   "cell_type": "code",
   "execution_count": 316,
   "metadata": {},
   "outputs": [
    {
     "data": {
      "text/plain": [
       "RandomForestClassifier(bootstrap=True, ccp_alpha=0.0, class_weight=None,\n",
       "                       criterion='gini', max_depth=2, max_features='auto',\n",
       "                       max_leaf_nodes=None, max_samples=None,\n",
       "                       min_impurity_decrease=0.0, min_impurity_split=None,\n",
       "                       min_samples_leaf=1, min_samples_split=2,\n",
       "                       min_weight_fraction_leaf=0.0, n_estimators=100,\n",
       "                       n_jobs=None, oob_score=False, random_state=0, verbose=0,\n",
       "                       warm_start=False)"
      ]
     },
     "execution_count": 316,
     "metadata": {},
     "output_type": "execute_result"
    }
   ],
   "source": [
    "from sklearn.ensemble import RandomForestClassifier\n",
    "\n",
    "clf1 = RandomForestClassifier(max_depth=2, random_state=0)\n",
    "clf1.fit(X, list(Y))"
   ]
  },
  {
   "cell_type": "code",
   "execution_count": 319,
   "metadata": {},
   "outputs": [
    {
     "data": {
      "text/plain": [
       "array([[0.72516961, 0.27483039]])"
      ]
     },
     "execution_count": 319,
     "metadata": {},
     "output_type": "execute_result"
    }
   ],
   "source": [
    "clf1.predict_proba([[0.720110,8.644362]])"
   ]
  },
  {
   "cell_type": "code",
   "execution_count": null,
   "metadata": {},
   "outputs": [],
   "source": [
    "classifier = XGBClassifier(objective='binary:logistic', max_depth=5, n_estimators=100)\n",
    "classifier.fit(X_train, y_train)"
   ]
  },
  {
   "cell_type": "code",
   "execution_count": 215,
   "metadata": {},
   "outputs": [
    {
     "ename": "ModuleNotFoundError",
     "evalue": "No module named 'xgboost'",
     "output_type": "error",
     "traceback": [
      "\u001b[1;31m---------------------------------------------------------------------------\u001b[0m",
      "\u001b[1;31mModuleNotFoundError\u001b[0m                       Traceback (most recent call last)",
      "\u001b[1;32m<ipython-input-215-e82a0d09a751>\u001b[0m in \u001b[0;36m<module>\u001b[1;34m\u001b[0m\n\u001b[0;32m      1\u001b[0m \u001b[1;31m# Import XGBoost classifier\u001b[0m\u001b[1;33m\u001b[0m\u001b[1;33m\u001b[0m\u001b[1;33m\u001b[0m\u001b[0m\n\u001b[1;32m----> 2\u001b[1;33m \u001b[1;32mfrom\u001b[0m \u001b[0mxgboost\u001b[0m \u001b[1;32mimport\u001b[0m \u001b[0mXGBClassifier\u001b[0m\u001b[1;33m\u001b[0m\u001b[1;33m\u001b[0m\u001b[0m\n\u001b[0m",
      "\u001b[1;31mModuleNotFoundError\u001b[0m: No module named 'xgboost'"
     ]
    }
   ],
   "source": [
    "# Import XGBoost classifier\n",
    "from xgboost import XGBClassifier"
   ]
  },
  {
   "cell_type": "markdown",
   "metadata": {},
   "source": [
    "## Calculating xG for the 19 goals scored"
   ]
  },
  {
   "cell_type": "markdown",
   "metadata": {},
   "source": [
    "#### Create a usable dataframe of the 19 goals scored (same format as shots_model)"
   ]
  },
  {
   "cell_type": "code",
   "execution_count": 82,
   "metadata": {},
   "outputs": [],
   "source": [
    "def angle(x,y):\n",
    "    '''\n",
    "    where x n y are the actual (in m) coordinate positions, assuming a 105x65 m pitch, y referenced from pitch middle\n",
    "    '''\n",
    "    ang = (np.arctan(7.32 *x /(x**2 + y**2 - (7.32/2)**2)))\n",
    "    if ang < 0:\n",
    "        ang+= np.pi\n",
    "    return ang"
   ]
  },
  {
   "cell_type": "code",
   "execution_count": 298,
   "metadata": {},
   "outputs": [],
   "source": [
    "df_shots_model = df_shots[['Goal','x_ball', 'y_ball']]"
   ]
  },
  {
   "cell_type": "code",
   "execution_count": 299,
   "metadata": {},
   "outputs": [
    {
     "name": "stderr",
     "output_type": "stream",
     "text": [
      "C:\\Users\\Gerald Lim\\Anaconda3\\envs\\mlpy\\lib\\site-packages\\ipykernel_launcher.py:1: SettingWithCopyWarning: \n",
      "A value is trying to be set on a copy of a slice from a DataFrame.\n",
      "Try using .loc[row_indexer,col_indexer] = value instead\n",
      "\n",
      "See the caveats in the documentation: https://pandas.pydata.org/pandas-docs/stable/user_guide/indexing.html#returning-a-view-versus-a-copy\n",
      "  \"\"\"Entry point for launching an IPython kernel.\n"
     ]
    }
   ],
   "source": [
    "df_shots_model['C']=abs(df_shots_model['y_ball']-50)"
   ]
  },
  {
   "cell_type": "code",
   "execution_count": 301,
   "metadata": {},
   "outputs": [
    {
     "name": "stderr",
     "output_type": "stream",
     "text": [
      "C:\\Users\\Gerald Lim\\Anaconda3\\envs\\mlpy\\lib\\site-packages\\ipykernel_launcher.py:3: SettingWithCopyWarning: \n",
      "A value is trying to be set on a copy of a slice from a DataFrame.\n",
      "Try using .loc[row_indexer,col_indexer] = value instead\n",
      "\n",
      "See the caveats in the documentation: https://pandas.pydata.org/pandas-docs/stable/user_guide/indexing.html#returning-a-view-versus-a-copy\n",
      "  This is separate from the ipykernel package so we can avoid doing imports until\n",
      "C:\\Users\\Gerald Lim\\Anaconda3\\envs\\mlpy\\lib\\site-packages\\ipykernel_launcher.py:5: SettingWithCopyWarning: \n",
      "A value is trying to be set on a copy of a slice from a DataFrame.\n",
      "Try using .loc[row_indexer,col_indexer] = value instead\n",
      "\n",
      "See the caveats in the documentation: https://pandas.pydata.org/pandas-docs/stable/user_guide/indexing.html#returning-a-view-versus-a-copy\n",
      "  \"\"\"\n"
     ]
    }
   ],
   "source": [
    "x=(100-df_shots_model['x_ball'])*105/100\n",
    "y=df_shots_model['C']*65/100\n",
    "df_shots_model['Distance']=np.sqrt(x**2 + y**2)\n",
    "\n",
    "df_shots_model['Angle'] = np.arctan(7.32 *x /(x**2 + y**2 - (7.32/2)**2))"
   ]
  },
  {
   "cell_type": "code",
   "execution_count": 302,
   "metadata": {},
   "outputs": [
    {
     "data": {
      "text/html": [
       "<div>\n",
       "<style scoped>\n",
       "    .dataframe tbody tr th:only-of-type {\n",
       "        vertical-align: middle;\n",
       "    }\n",
       "\n",
       "    .dataframe tbody tr th {\n",
       "        vertical-align: top;\n",
       "    }\n",
       "\n",
       "    .dataframe thead th {\n",
       "        text-align: right;\n",
       "    }\n",
       "</style>\n",
       "<table border=\"1\" class=\"dataframe\">\n",
       "  <thead>\n",
       "    <tr style=\"text-align: right;\">\n",
       "      <th></th>\n",
       "      <th>Goal</th>\n",
       "      <th>x_ball</th>\n",
       "      <th>y_ball</th>\n",
       "      <th>C</th>\n",
       "      <th>Distance</th>\n",
       "      <th>Angle</th>\n",
       "    </tr>\n",
       "  </thead>\n",
       "  <tbody>\n",
       "    <tr>\n",
       "      <th>37</th>\n",
       "      <td>Liverpool [3] - 0 Bournemouth</td>\n",
       "      <td>88.980532</td>\n",
       "      <td>39.541178</td>\n",
       "      <td>10.458822</td>\n",
       "      <td>13.419803</td>\n",
       "      <td>0.470095</td>\n",
       "    </tr>\n",
       "    <tr>\n",
       "      <th>4</th>\n",
       "      <td>Bayern 0 - [1] Liverpool</td>\n",
       "      <td>87.053896</td>\n",
       "      <td>68.421886</td>\n",
       "      <td>18.421886</td>\n",
       "      <td>18.115266</td>\n",
       "      <td>0.306178</td>\n",
       "    </tr>\n",
       "    <tr>\n",
       "      <th>93</th>\n",
       "      <td>Fulham 0 - [1] Liverpool</td>\n",
       "      <td>93.173892</td>\n",
       "      <td>55.073791</td>\n",
       "      <td>5.073791</td>\n",
       "      <td>7.889764</td>\n",
       "      <td>0.821040</td>\n",
       "    </tr>\n",
       "    <tr>\n",
       "      <th>147</th>\n",
       "      <td>Southampton 1 - [2] Liverpool</td>\n",
       "      <td>84.060687</td>\n",
       "      <td>53.178407</td>\n",
       "      <td>3.178407</td>\n",
       "      <td>16.863311</td>\n",
       "      <td>0.424603</td>\n",
       "    </tr>\n",
       "    <tr>\n",
       "      <th>107</th>\n",
       "      <td>Liverpool [2] - 0 Porto</td>\n",
       "      <td>97.264316</td>\n",
       "      <td>52.429225</td>\n",
       "      <td>2.429225</td>\n",
       "      <td>3.277850</td>\n",
       "      <td>-1.445365</td>\n",
       "    </tr>\n",
       "  </tbody>\n",
       "</table>\n",
       "</div>"
      ],
      "text/plain": [
       "                              Goal     x_ball     y_ball          C  \\\n",
       "37   Liverpool [3] - 0 Bournemouth  88.980532  39.541178  10.458822   \n",
       "4         Bayern 0 - [1] Liverpool  87.053896  68.421886  18.421886   \n",
       "93        Fulham 0 - [1] Liverpool  93.173892  55.073791   5.073791   \n",
       "147  Southampton 1 - [2] Liverpool  84.060687  53.178407   3.178407   \n",
       "107        Liverpool [2] - 0 Porto  97.264316  52.429225   2.429225   \n",
       "\n",
       "      Distance     Angle  \n",
       "37   13.419803  0.470095  \n",
       "4    18.115266  0.306178  \n",
       "93    7.889764  0.821040  \n",
       "147  16.863311  0.424603  \n",
       "107   3.277850 -1.445365  "
      ]
     },
     "execution_count": 302,
     "metadata": {},
     "output_type": "execute_result"
    }
   ],
   "source": [
    "df_shots_model.head()"
   ]
  },
  {
   "cell_type": "markdown",
   "metadata": {},
   "source": [
    "### 1. Using the FoT xG model from tutorial"
   ]
  },
  {
   "cell_type": "code",
   "execution_count": 303,
   "metadata": {},
   "outputs": [],
   "source": [
    "df_shots_model.insert(5, \"xG\",  df_shots_model.apply(calculate_xG, axis=1) , True) "
   ]
  },
  {
   "cell_type": "code",
   "execution_count": 304,
   "metadata": {},
   "outputs": [
    {
     "data": {
      "text/html": [
       "<div>\n",
       "<style scoped>\n",
       "    .dataframe tbody tr th:only-of-type {\n",
       "        vertical-align: middle;\n",
       "    }\n",
       "\n",
       "    .dataframe tbody tr th {\n",
       "        vertical-align: top;\n",
       "    }\n",
       "\n",
       "    .dataframe thead th {\n",
       "        text-align: right;\n",
       "    }\n",
       "</style>\n",
       "<table border=\"1\" class=\"dataframe\">\n",
       "  <thead>\n",
       "    <tr style=\"text-align: right;\">\n",
       "      <th></th>\n",
       "      <th>Goal</th>\n",
       "      <th>x_ball</th>\n",
       "      <th>y_ball</th>\n",
       "      <th>C</th>\n",
       "      <th>Distance</th>\n",
       "      <th>xG</th>\n",
       "      <th>Angle</th>\n",
       "    </tr>\n",
       "  </thead>\n",
       "  <tbody>\n",
       "    <tr>\n",
       "      <th>107</th>\n",
       "      <td>Liverpool [2] - 0 Porto</td>\n",
       "      <td>97.264316</td>\n",
       "      <td>52.429225</td>\n",
       "      <td>2.429225</td>\n",
       "      <td>3.277850</td>\n",
       "      <td>0.024040</td>\n",
       "      <td>-1.445365</td>\n",
       "    </tr>\n",
       "    <tr>\n",
       "      <th>17</th>\n",
       "      <td>Liverpool [2] - 1 Newcastle</td>\n",
       "      <td>98.023572</td>\n",
       "      <td>47.044499</td>\n",
       "      <td>2.955501</td>\n",
       "      <td>2.827931</td>\n",
       "      <td>0.035179</td>\n",
       "      <td>-1.229343</td>\n",
       "    </tr>\n",
       "    <tr>\n",
       "      <th>4</th>\n",
       "      <td>Bayern 0 - [1] Liverpool</td>\n",
       "      <td>87.053896</td>\n",
       "      <td>68.421886</td>\n",
       "      <td>18.421886</td>\n",
       "      <td>18.115266</td>\n",
       "      <td>0.069351</td>\n",
       "      <td>0.306178</td>\n",
       "    </tr>\n",
       "    <tr>\n",
       "      <th>18</th>\n",
       "      <td>Liverpool [1] - 0 Watford</td>\n",
       "      <td>86.350274</td>\n",
       "      <td>62.332494</td>\n",
       "      <td>12.332494</td>\n",
       "      <td>16.421647</td>\n",
       "      <td>0.093094</td>\n",
       "      <td>0.388560</td>\n",
       "    </tr>\n",
       "    <tr>\n",
       "      <th>147</th>\n",
       "      <td>Southampton 1 - [2] Liverpool</td>\n",
       "      <td>84.060687</td>\n",
       "      <td>53.178407</td>\n",
       "      <td>3.178407</td>\n",
       "      <td>16.863311</td>\n",
       "      <td>0.093728</td>\n",
       "      <td>0.424603</td>\n",
       "    </tr>\n",
       "    <tr>\n",
       "      <th>137</th>\n",
       "      <td>Porto 0 - [2] Liverpool</td>\n",
       "      <td>86.952695</td>\n",
       "      <td>58.714810</td>\n",
       "      <td>8.714810</td>\n",
       "      <td>14.824607</td>\n",
       "      <td>0.119576</td>\n",
       "      <td>0.452323</td>\n",
       "    </tr>\n",
       "    <tr>\n",
       "      <th>73</th>\n",
       "      <td>Liverpool [2] - 1 Chelsea</td>\n",
       "      <td>89.108025</td>\n",
       "      <td>61.642652</td>\n",
       "      <td>11.642652</td>\n",
       "      <td>13.713704</td>\n",
       "      <td>0.132344</td>\n",
       "      <td>0.446934</td>\n",
       "    </tr>\n",
       "    <tr>\n",
       "      <th>37</th>\n",
       "      <td>Liverpool [3] - 0 Bournemouth</td>\n",
       "      <td>88.980532</td>\n",
       "      <td>39.541178</td>\n",
       "      <td>10.458822</td>\n",
       "      <td>13.419803</td>\n",
       "      <td>0.140543</td>\n",
       "      <td>0.470095</td>\n",
       "    </tr>\n",
       "    <tr>\n",
       "      <th>20</th>\n",
       "      <td>Bournemouth 0 - 3 Liverpool</td>\n",
       "      <td>91.388232</td>\n",
       "      <td>62.487592</td>\n",
       "      <td>12.487592</td>\n",
       "      <td>12.151084</td>\n",
       "      <td>0.156097</td>\n",
       "      <td>0.458051</td>\n",
       "    </tr>\n",
       "    <tr>\n",
       "      <th>69</th>\n",
       "      <td>Liverpool [1] - 0 Everton</td>\n",
       "      <td>91.761113</td>\n",
       "      <td>62.403225</td>\n",
       "      <td>12.403225</td>\n",
       "      <td>11.825154</td>\n",
       "      <td>0.162315</td>\n",
       "      <td>0.464310</td>\n",
       "    </tr>\n",
       "    <tr>\n",
       "      <th>62</th>\n",
       "      <td>Genk 0 - [3] Liverpool</td>\n",
       "      <td>91.518198</td>\n",
       "      <td>40.084052</td>\n",
       "      <td>9.915948</td>\n",
       "      <td>10.993528</td>\n",
       "      <td>0.194704</td>\n",
       "      <td>0.545290</td>\n",
       "    </tr>\n",
       "    <tr>\n",
       "      <th>131</th>\n",
       "      <td>Liverpool [2] - 0 Everton</td>\n",
       "      <td>93.189551</td>\n",
       "      <td>61.015889</td>\n",
       "      <td>11.015889</td>\n",
       "      <td>10.119619</td>\n",
       "      <td>0.206956</td>\n",
       "      <td>0.531604</td>\n",
       "    </tr>\n",
       "    <tr>\n",
       "      <th>26</th>\n",
       "      <td>Liverpool [2] - 0 Man City</td>\n",
       "      <td>91.466964</td>\n",
       "      <td>41.899315</td>\n",
       "      <td>8.100685</td>\n",
       "      <td>10.392349</td>\n",
       "      <td>0.221667</td>\n",
       "      <td>0.606180</td>\n",
       "    </tr>\n",
       "    <tr>\n",
       "      <th>54</th>\n",
       "      <td>Liverpool [3] - 0 Norwich</td>\n",
       "      <td>90.595867</td>\n",
       "      <td>53.380081</td>\n",
       "      <td>3.380081</td>\n",
       "      <td>10.115810</td>\n",
       "      <td>0.248938</td>\n",
       "      <td>0.682461</td>\n",
       "    </tr>\n",
       "    <tr>\n",
       "      <th>2</th>\n",
       "      <td>Liverpool [4] - 0 Barcelona</td>\n",
       "      <td>93.586115</td>\n",
       "      <td>43.282858</td>\n",
       "      <td>6.717142</td>\n",
       "      <td>8.026067</td>\n",
       "      <td>0.324257</td>\n",
       "      <td>0.768204</td>\n",
       "    </tr>\n",
       "    <tr>\n",
       "      <th>93</th>\n",
       "      <td>Fulham 0 - [1] Liverpool</td>\n",
       "      <td>93.173892</td>\n",
       "      <td>55.073791</td>\n",
       "      <td>5.073791</td>\n",
       "      <td>7.889764</td>\n",
       "      <td>0.346287</td>\n",
       "      <td>0.821040</td>\n",
       "    </tr>\n",
       "    <tr>\n",
       "      <th>44</th>\n",
       "      <td>Leicester 0 - [3] Liverpool</td>\n",
       "      <td>93.134650</td>\n",
       "      <td>54.246567</td>\n",
       "      <td>4.246567</td>\n",
       "      <td>7.719019</td>\n",
       "      <td>0.361789</td>\n",
       "      <td>0.851790</td>\n",
       "    </tr>\n",
       "    <tr>\n",
       "      <th>37</th>\n",
       "      <td>Liverpool [2] - 0 Salzburg</td>\n",
       "      <td>94.511299</td>\n",
       "      <td>44.541807</td>\n",
       "      <td>5.458193</td>\n",
       "      <td>6.767629</td>\n",
       "      <td>0.411039</td>\n",
       "      <td>0.915781</td>\n",
       "    </tr>\n",
       "    <tr>\n",
       "      <th>4</th>\n",
       "      <td>Liverpool [1] - 0 Wolves</td>\n",
       "      <td>93.884971</td>\n",
       "      <td>51.325748</td>\n",
       "      <td>1.325748</td>\n",
       "      <td>6.478349</td>\n",
       "      <td>0.461291</td>\n",
       "      <td>1.024557</td>\n",
       "    </tr>\n",
       "  </tbody>\n",
       "</table>\n",
       "</div>"
      ],
      "text/plain": [
       "                              Goal     x_ball     y_ball          C  \\\n",
       "107        Liverpool [2] - 0 Porto  97.264316  52.429225   2.429225   \n",
       "17     Liverpool [2] - 1 Newcastle  98.023572  47.044499   2.955501   \n",
       "4         Bayern 0 - [1] Liverpool  87.053896  68.421886  18.421886   \n",
       "18       Liverpool [1] - 0 Watford  86.350274  62.332494  12.332494   \n",
       "147  Southampton 1 - [2] Liverpool  84.060687  53.178407   3.178407   \n",
       "137        Porto 0 - [2] Liverpool  86.952695  58.714810   8.714810   \n",
       "73       Liverpool [2] - 1 Chelsea  89.108025  61.642652  11.642652   \n",
       "37   Liverpool [3] - 0 Bournemouth  88.980532  39.541178  10.458822   \n",
       "20     Bournemouth 0 - 3 Liverpool  91.388232  62.487592  12.487592   \n",
       "69       Liverpool [1] - 0 Everton  91.761113  62.403225  12.403225   \n",
       "62          Genk 0 - [3] Liverpool  91.518198  40.084052   9.915948   \n",
       "131      Liverpool [2] - 0 Everton  93.189551  61.015889  11.015889   \n",
       "26      Liverpool [2] - 0 Man City  91.466964  41.899315   8.100685   \n",
       "54       Liverpool [3] - 0 Norwich  90.595867  53.380081   3.380081   \n",
       "2      Liverpool [4] - 0 Barcelona  93.586115  43.282858   6.717142   \n",
       "93        Fulham 0 - [1] Liverpool  93.173892  55.073791   5.073791   \n",
       "44     Leicester 0 - [3] Liverpool  93.134650  54.246567   4.246567   \n",
       "37      Liverpool [2] - 0 Salzburg  94.511299  44.541807   5.458193   \n",
       "4         Liverpool [1] - 0 Wolves  93.884971  51.325748   1.325748   \n",
       "\n",
       "      Distance        xG     Angle  \n",
       "107   3.277850  0.024040 -1.445365  \n",
       "17    2.827931  0.035179 -1.229343  \n",
       "4    18.115266  0.069351  0.306178  \n",
       "18   16.421647  0.093094  0.388560  \n",
       "147  16.863311  0.093728  0.424603  \n",
       "137  14.824607  0.119576  0.452323  \n",
       "73   13.713704  0.132344  0.446934  \n",
       "37   13.419803  0.140543  0.470095  \n",
       "20   12.151084  0.156097  0.458051  \n",
       "69   11.825154  0.162315  0.464310  \n",
       "62   10.993528  0.194704  0.545290  \n",
       "131  10.119619  0.206956  0.531604  \n",
       "26   10.392349  0.221667  0.606180  \n",
       "54   10.115810  0.248938  0.682461  \n",
       "2     8.026067  0.324257  0.768204  \n",
       "93    7.889764  0.346287  0.821040  \n",
       "44    7.719019  0.361789  0.851790  \n",
       "37    6.767629  0.411039  0.915781  \n",
       "4     6.478349  0.461291  1.024557  "
      ]
     },
     "execution_count": 304,
     "metadata": {},
     "output_type": "execute_result"
    }
   ],
   "source": [
    "df_shots_model.sort_values('xG')"
   ]
  },
  {
   "cell_type": "markdown",
   "metadata": {},
   "source": [
    "### 2. Using the sklearn multiple logistic regression model"
   ]
  },
  {
   "cell_type": "code",
   "execution_count": null,
   "metadata": {},
   "outputs": [],
   "source": []
  },
  {
   "cell_type": "markdown",
   "metadata": {},
   "source": [
    "### 3. Using the sklearn Random Forest xG model"
   ]
  },
  {
   "cell_type": "markdown",
   "metadata": {},
   "source": [
    "# Pitch Control"
   ]
  },
  {
   "cell_type": "markdown",
   "metadata": {},
   "source": [
    "### 1. Data Cleaning"
   ]
  },
  {
   "cell_type": "markdown",
   "metadata": {},
   "source": [
    "#### Reformatting the Liverpool Data csv into the Metrica Format "
   ]
  },
  {
   "cell_type": "markdown",
   "metadata": {},
   "source": [
    "- At the moment there are two games in our standard CSV format, in the coming days we will add the same data in the standar FIFA format.\n",
    "- The data of these two games is anonymized, meaning there are no references to the names of players, teams or competitions.\n",
    "- You'll see the data goes from 0 to 1 on each axis. The coordinate (0,0) is the top left, (1,1) is the bottom right, and (0.5,0.5) is the kick off point.\n",
    "- The dimensions of the field are the same for both games: 105x68 meters.\n",
    "- For the events, in the documentation folder you can find a pdf file with the definition and explanation of all our events types and subtypes.\n",
    "- Tracking and event data are synchronized."
   ]
  },
  {
   "cell_type": "code",
   "execution_count": 94,
   "metadata": {},
   "outputs": [
    {
     "data": {
      "text/html": [
       "<div>\n",
       "<style scoped>\n",
       "    .dataframe tbody tr th:only-of-type {\n",
       "        vertical-align: middle;\n",
       "    }\n",
       "\n",
       "    .dataframe tbody tr th {\n",
       "        vertical-align: top;\n",
       "    }\n",
       "\n",
       "    .dataframe thead th {\n",
       "        text-align: right;\n",
       "    }\n",
       "</style>\n",
       "<table border=\"1\" class=\"dataframe\">\n",
       "  <thead>\n",
       "    <tr style=\"text-align: right;\">\n",
       "      <th></th>\n",
       "      <th>Unnamed: 0</th>\n",
       "      <th>bgcolor</th>\n",
       "      <th>dx</th>\n",
       "      <th>dy</th>\n",
       "      <th>edgecolor</th>\n",
       "      <th>frame</th>\n",
       "      <th>player</th>\n",
       "      <th>player_num</th>\n",
       "      <th>team</th>\n",
       "      <th>x</th>\n",
       "      <th>y</th>\n",
       "      <th>z</th>\n",
       "    </tr>\n",
       "    <tr>\n",
       "      <th>play</th>\n",
       "      <th></th>\n",
       "      <th></th>\n",
       "      <th></th>\n",
       "      <th></th>\n",
       "      <th></th>\n",
       "      <th></th>\n",
       "      <th></th>\n",
       "      <th></th>\n",
       "      <th></th>\n",
       "      <th></th>\n",
       "      <th></th>\n",
       "      <th></th>\n",
       "    </tr>\n",
       "  </thead>\n",
       "  <tbody>\n",
       "    <tr>\n",
       "      <th>Leicester 0 - [3] Liverpool</th>\n",
       "      <td>0</td>\n",
       "      <td>NaN</td>\n",
       "      <td>0.0</td>\n",
       "      <td>0.0</td>\n",
       "      <td>NaN</td>\n",
       "      <td>0</td>\n",
       "      <td>0</td>\n",
       "      <td>NaN</td>\n",
       "      <td>NaN</td>\n",
       "      <td>80.255236</td>\n",
       "      <td>39.047528</td>\n",
       "      <td>0.0</td>\n",
       "    </tr>\n",
       "    <tr>\n",
       "      <th>Leicester 0 - [3] Liverpool</th>\n",
       "      <td>1</td>\n",
       "      <td>NaN</td>\n",
       "      <td>0.0</td>\n",
       "      <td>0.0</td>\n",
       "      <td>NaN</td>\n",
       "      <td>1</td>\n",
       "      <td>0</td>\n",
       "      <td>NaN</td>\n",
       "      <td>NaN</td>\n",
       "      <td>80.255236</td>\n",
       "      <td>39.047528</td>\n",
       "      <td>0.0</td>\n",
       "    </tr>\n",
       "    <tr>\n",
       "      <th>Leicester 0 - [3] Liverpool</th>\n",
       "      <td>2</td>\n",
       "      <td>NaN</td>\n",
       "      <td>0.0</td>\n",
       "      <td>0.0</td>\n",
       "      <td>NaN</td>\n",
       "      <td>2</td>\n",
       "      <td>0</td>\n",
       "      <td>NaN</td>\n",
       "      <td>NaN</td>\n",
       "      <td>80.255236</td>\n",
       "      <td>39.047528</td>\n",
       "      <td>0.0</td>\n",
       "    </tr>\n",
       "    <tr>\n",
       "      <th>Leicester 0 - [3] Liverpool</th>\n",
       "      <td>3</td>\n",
       "      <td>NaN</td>\n",
       "      <td>0.0</td>\n",
       "      <td>0.0</td>\n",
       "      <td>NaN</td>\n",
       "      <td>3</td>\n",
       "      <td>0</td>\n",
       "      <td>NaN</td>\n",
       "      <td>NaN</td>\n",
       "      <td>80.255236</td>\n",
       "      <td>39.047528</td>\n",
       "      <td>0.0</td>\n",
       "    </tr>\n",
       "    <tr>\n",
       "      <th>Leicester 0 - [3] Liverpool</th>\n",
       "      <td>4</td>\n",
       "      <td>NaN</td>\n",
       "      <td>0.0</td>\n",
       "      <td>0.0</td>\n",
       "      <td>NaN</td>\n",
       "      <td>4</td>\n",
       "      <td>0</td>\n",
       "      <td>NaN</td>\n",
       "      <td>NaN</td>\n",
       "      <td>80.255236</td>\n",
       "      <td>39.047528</td>\n",
       "      <td>0.0</td>\n",
       "    </tr>\n",
       "  </tbody>\n",
       "</table>\n",
       "</div>"
      ],
      "text/plain": [
       "                             Unnamed: 0 bgcolor   dx   dy edgecolor  frame  \\\n",
       "play                                                                         \n",
       "Leicester 0 - [3] Liverpool           0     NaN  0.0  0.0       NaN      0   \n",
       "Leicester 0 - [3] Liverpool           1     NaN  0.0  0.0       NaN      1   \n",
       "Leicester 0 - [3] Liverpool           2     NaN  0.0  0.0       NaN      2   \n",
       "Leicester 0 - [3] Liverpool           3     NaN  0.0  0.0       NaN      3   \n",
       "Leicester 0 - [3] Liverpool           4     NaN  0.0  0.0       NaN      4   \n",
       "\n",
       "                             player  player_num team          x          y  \\\n",
       "play                                                                         \n",
       "Leicester 0 - [3] Liverpool       0         NaN  NaN  80.255236  39.047528   \n",
       "Leicester 0 - [3] Liverpool       0         NaN  NaN  80.255236  39.047528   \n",
       "Leicester 0 - [3] Liverpool       0         NaN  NaN  80.255236  39.047528   \n",
       "Leicester 0 - [3] Liverpool       0         NaN  NaN  80.255236  39.047528   \n",
       "Leicester 0 - [3] Liverpool       0         NaN  NaN  80.255236  39.047528   \n",
       "\n",
       "                               z  \n",
       "play                              \n",
       "Leicester 0 - [3] Liverpool  0.0  \n",
       "Leicester 0 - [3] Liverpool  0.0  \n",
       "Leicester 0 - [3] Liverpool  0.0  \n",
       "Leicester 0 - [3] Liverpool  0.0  \n",
       "Leicester 0 - [3] Liverpool  0.0  "
      ]
     },
     "execution_count": 94,
     "metadata": {},
     "output_type": "execute_result"
    }
   ],
   "source": [
    "# Re-using the Leicester 0 - [3] Liverpool dataframe from before\n",
    "data = pd.read_csv('../datasets/positional_data/liverpool_2019.csv', index_col=('play'))\n",
    "\n",
    "play = 'Leicester 0 - [3] Liverpool' \n",
    "\n",
    "# https://www.youtube.com/watch?v=TQjqT17gO9A (highlights)\n",
    "\n",
    "dfo = data.loc[play]\n",
    "dfo.head()"
   ]
  },
  {
   "cell_type": "code",
   "execution_count": 141,
   "metadata": {},
   "outputs": [],
   "source": [
    "atk_opp_split = dfo[['player','team']].groupby('player').sum()"
   ]
  },
  {
   "cell_type": "code",
   "execution_count": 150,
   "metadata": {},
   "outputs": [
    {
     "data": {
      "text/plain": [
       "str"
      ]
     },
     "execution_count": 150,
     "metadata": {},
     "output_type": "execute_result"
    }
   ],
   "source": [
    "type(row[0])"
   ]
  },
  {
   "cell_type": "code",
   "execution_count": 153,
   "metadata": {},
   "outputs": [],
   "source": [
    "liv = [] \n",
    "opp = []\n",
    "\n",
    "for index,row in atk_opp_split.iterrows():\n",
    "    if 'attack' in str(row[0]):\n",
    "        liv.append(index)\n",
    "    elif 'defense' in str(row[0]):\n",
    "        opp.append(index)"
   ]
  },
  {
   "cell_type": "code",
   "execution_count": 90,
   "metadata": {},
   "outputs": [
    {
     "data": {
      "text/html": [
       "<div>\n",
       "<style scoped>\n",
       "    .dataframe tbody tr th:only-of-type {\n",
       "        vertical-align: middle;\n",
       "    }\n",
       "\n",
       "    .dataframe tbody tr th {\n",
       "        vertical-align: top;\n",
       "    }\n",
       "\n",
       "    .dataframe thead th {\n",
       "        text-align: right;\n",
       "    }\n",
       "</style>\n",
       "<table border=\"1\" class=\"dataframe\">\n",
       "  <thead>\n",
       "    <tr style=\"text-align: right;\">\n",
       "      <th></th>\n",
       "      <th>frame</th>\n",
       "      <th>x</th>\n",
       "      <th>y</th>\n",
       "    </tr>\n",
       "    <tr>\n",
       "      <th>player</th>\n",
       "      <th></th>\n",
       "      <th></th>\n",
       "      <th></th>\n",
       "    </tr>\n",
       "  </thead>\n",
       "  <tbody>\n",
       "    <tr>\n",
       "      <th>0</th>\n",
       "      <td>0</td>\n",
       "      <td>80.255236</td>\n",
       "      <td>39.047528</td>\n",
       "    </tr>\n",
       "    <tr>\n",
       "      <th>0</th>\n",
       "      <td>1</td>\n",
       "      <td>80.255236</td>\n",
       "      <td>39.047528</td>\n",
       "    </tr>\n",
       "    <tr>\n",
       "      <th>0</th>\n",
       "      <td>2</td>\n",
       "      <td>80.255236</td>\n",
       "      <td>39.047528</td>\n",
       "    </tr>\n",
       "    <tr>\n",
       "      <th>0</th>\n",
       "      <td>3</td>\n",
       "      <td>80.255236</td>\n",
       "      <td>39.047528</td>\n",
       "    </tr>\n",
       "    <tr>\n",
       "      <th>0</th>\n",
       "      <td>4</td>\n",
       "      <td>80.255236</td>\n",
       "      <td>39.047528</td>\n",
       "    </tr>\n",
       "  </tbody>\n",
       "</table>\n",
       "</div>"
      ],
      "text/plain": [
       "        frame          x          y\n",
       "player                             \n",
       "0           0  80.255236  39.047528\n",
       "0           1  80.255236  39.047528\n",
       "0           2  80.255236  39.047528\n",
       "0           3  80.255236  39.047528\n",
       "0           4  80.255236  39.047528"
      ]
     },
     "execution_count": 90,
     "metadata": {},
     "output_type": "execute_result"
    }
   ],
   "source": [
    "dfo.reset_index(drop=True, inplace=True)\n",
    "\n",
    "df = dfo[['frame','player','x','y']]\n",
    "df = df.set_index('player')\n",
    "\n",
    "df.head()"
   ]
  },
  {
   "cell_type": "code",
   "execution_count": 91,
   "metadata": {},
   "outputs": [
    {
     "data": {
      "text/html": [
       "<div>\n",
       "<style scoped>\n",
       "    .dataframe tbody tr th:only-of-type {\n",
       "        vertical-align: middle;\n",
       "    }\n",
       "\n",
       "    .dataframe tbody tr th {\n",
       "        vertical-align: top;\n",
       "    }\n",
       "\n",
       "    .dataframe thead tr th {\n",
       "        text-align: left;\n",
       "    }\n",
       "</style>\n",
       "<table border=\"1\" class=\"dataframe\">\n",
       "  <thead>\n",
       "    <tr>\n",
       "      <th>player</th>\n",
       "      <th colspan=\"2\" halign=\"left\">0</th>\n",
       "      <th colspan=\"2\" halign=\"left\">13</th>\n",
       "      <th colspan=\"2\" halign=\"left\">65</th>\n",
       "      <th colspan=\"2\" halign=\"left\">379</th>\n",
       "      <th colspan=\"2\" halign=\"left\">380</th>\n",
       "      <th>...</th>\n",
       "      <th colspan=\"2\" halign=\"left\">9624</th>\n",
       "      <th colspan=\"2\" halign=\"left\">9625</th>\n",
       "      <th colspan=\"2\" halign=\"left\">9626</th>\n",
       "      <th colspan=\"2\" halign=\"left\">9627</th>\n",
       "      <th colspan=\"2\" halign=\"left\">10267</th>\n",
       "    </tr>\n",
       "    <tr>\n",
       "      <th></th>\n",
       "      <th>x</th>\n",
       "      <th>y</th>\n",
       "      <th>x</th>\n",
       "      <th>y</th>\n",
       "      <th>x</th>\n",
       "      <th>y</th>\n",
       "      <th>x</th>\n",
       "      <th>y</th>\n",
       "      <th>x</th>\n",
       "      <th>y</th>\n",
       "      <th>...</th>\n",
       "      <th>x</th>\n",
       "      <th>y</th>\n",
       "      <th>x</th>\n",
       "      <th>y</th>\n",
       "      <th>x</th>\n",
       "      <th>y</th>\n",
       "      <th>x</th>\n",
       "      <th>y</th>\n",
       "      <th>x</th>\n",
       "      <th>y</th>\n",
       "    </tr>\n",
       "  </thead>\n",
       "  <tbody>\n",
       "    <tr>\n",
       "      <th>0</th>\n",
       "      <td>80.255236</td>\n",
       "      <td>39.047528</td>\n",
       "      <td>74.863774</td>\n",
       "      <td>38.671849</td>\n",
       "      <td>77.77435</td>\n",
       "      <td>8.867034</td>\n",
       "      <td>83.654734</td>\n",
       "      <td>56.634359</td>\n",
       "      <td>86.010594</td>\n",
       "      <td>49.620907</td>\n",
       "      <td>...</td>\n",
       "      <td>64.897959</td>\n",
       "      <td>68.697479</td>\n",
       "      <td>59.047619</td>\n",
       "      <td>47.89916</td>\n",
       "      <td>53.741497</td>\n",
       "      <td>53.361345</td>\n",
       "      <td>64.489796</td>\n",
       "      <td>82.983193</td>\n",
       "      <td>97.611697</td>\n",
       "      <td>48.67617</td>\n",
       "    </tr>\n",
       "    <tr>\n",
       "      <th>0</th>\n",
       "      <td>80.255236</td>\n",
       "      <td>39.047528</td>\n",
       "      <td>74.863774</td>\n",
       "      <td>38.671849</td>\n",
       "      <td>77.77435</td>\n",
       "      <td>8.867034</td>\n",
       "      <td>83.654734</td>\n",
       "      <td>56.634359</td>\n",
       "      <td>86.010594</td>\n",
       "      <td>49.620907</td>\n",
       "      <td>...</td>\n",
       "      <td>64.897959</td>\n",
       "      <td>68.697479</td>\n",
       "      <td>59.047619</td>\n",
       "      <td>47.89916</td>\n",
       "      <td>53.741497</td>\n",
       "      <td>53.361345</td>\n",
       "      <td>64.489796</td>\n",
       "      <td>82.983193</td>\n",
       "      <td>97.611697</td>\n",
       "      <td>48.67617</td>\n",
       "    </tr>\n",
       "  </tbody>\n",
       "</table>\n",
       "<p>2 rows × 44 columns</p>\n",
       "</div>"
      ],
      "text/plain": [
       "player      0                     13                   65               \\\n",
       "                x          y          x          y         x         y   \n",
       "0       80.255236  39.047528  74.863774  38.671849  77.77435  8.867034   \n",
       "0       80.255236  39.047528  74.863774  38.671849  77.77435  8.867034   \n",
       "\n",
       "player      379                   380               ...      9624              \\\n",
       "                x          y          x          y  ...          x          y   \n",
       "0       83.654734  56.634359  86.010594  49.620907  ...  64.897959  68.697479   \n",
       "0       83.654734  56.634359  86.010594  49.620907  ...  64.897959  68.697479   \n",
       "\n",
       "player      9625                 9626                  9627              \\\n",
       "                x         y          x          y          x          y   \n",
       "0       59.047619  47.89916  53.741497  53.361345  64.489796  82.983193   \n",
       "0       59.047619  47.89916  53.741497  53.361345  64.489796  82.983193   \n",
       "\n",
       "player      10267            \n",
       "                x         y  \n",
       "0       97.611697  48.67617  \n",
       "0       97.611697  48.67617  \n",
       "\n",
       "[2 rows x 44 columns]"
      ]
     },
     "execution_count": 91,
     "metadata": {},
     "output_type": "execute_result"
    }
   ],
   "source": [
    "df_t = pd.DataFrame()\n",
    "\n",
    "df_t = df_t.append(df[df.frame == 0].drop('frame',axis=1).stack().to_frame().T)\n",
    "df_t = df_t.append(df[df.frame == 1].drop('frame',axis=1).stack().to_frame().T)\n",
    "\n",
    "df_t.head()"
   ]
  },
  {
   "cell_type": "code",
   "execution_count": 126,
   "metadata": {},
   "outputs": [
    {
     "data": {
      "text/html": [
       "<div>\n",
       "<style scoped>\n",
       "    .dataframe tbody tr th:only-of-type {\n",
       "        vertical-align: middle;\n",
       "    }\n",
       "\n",
       "    .dataframe tbody tr th {\n",
       "        vertical-align: top;\n",
       "    }\n",
       "\n",
       "    .dataframe thead tr th {\n",
       "        text-align: left;\n",
       "    }\n",
       "</style>\n",
       "<table border=\"1\" class=\"dataframe\">\n",
       "  <thead>\n",
       "    <tr>\n",
       "      <th>player</th>\n",
       "      <th colspan=\"2\" halign=\"left\">0</th>\n",
       "      <th colspan=\"2\" halign=\"left\">13</th>\n",
       "      <th colspan=\"2\" halign=\"left\">65</th>\n",
       "      <th colspan=\"2\" halign=\"left\">379</th>\n",
       "      <th colspan=\"2\" halign=\"left\">380</th>\n",
       "      <th>...</th>\n",
       "      <th>9624</th>\n",
       "      <th colspan=\"2\" halign=\"left\">9625</th>\n",
       "      <th colspan=\"2\" halign=\"left\">9626</th>\n",
       "      <th colspan=\"2\" halign=\"left\">9627</th>\n",
       "      <th colspan=\"2\" halign=\"left\">10267</th>\n",
       "      <th>frame</th>\n",
       "    </tr>\n",
       "    <tr>\n",
       "      <th></th>\n",
       "      <th>x</th>\n",
       "      <th>y</th>\n",
       "      <th>x</th>\n",
       "      <th>y</th>\n",
       "      <th>x</th>\n",
       "      <th>y</th>\n",
       "      <th>x</th>\n",
       "      <th>y</th>\n",
       "      <th>x</th>\n",
       "      <th>y</th>\n",
       "      <th>...</th>\n",
       "      <th>y</th>\n",
       "      <th>x</th>\n",
       "      <th>y</th>\n",
       "      <th>x</th>\n",
       "      <th>y</th>\n",
       "      <th>x</th>\n",
       "      <th>y</th>\n",
       "      <th>x</th>\n",
       "      <th>y</th>\n",
       "      <th></th>\n",
       "    </tr>\n",
       "  </thead>\n",
       "  <tbody>\n",
       "    <tr>\n",
       "      <th>0</th>\n",
       "      <td>80.255236</td>\n",
       "      <td>39.047528</td>\n",
       "      <td>74.863774</td>\n",
       "      <td>38.671849</td>\n",
       "      <td>77.77435</td>\n",
       "      <td>8.867034</td>\n",
       "      <td>83.654734</td>\n",
       "      <td>56.634359</td>\n",
       "      <td>86.010594</td>\n",
       "      <td>49.620907</td>\n",
       "      <td>...</td>\n",
       "      <td>68.697479</td>\n",
       "      <td>59.047619</td>\n",
       "      <td>47.89916</td>\n",
       "      <td>53.741497</td>\n",
       "      <td>53.361345</td>\n",
       "      <td>64.489796</td>\n",
       "      <td>82.983193</td>\n",
       "      <td>97.611697</td>\n",
       "      <td>48.67617</td>\n",
       "      <td>0</td>\n",
       "    </tr>\n",
       "    <tr>\n",
       "      <th>0</th>\n",
       "      <td>80.255236</td>\n",
       "      <td>39.047528</td>\n",
       "      <td>74.863774</td>\n",
       "      <td>38.671849</td>\n",
       "      <td>77.77435</td>\n",
       "      <td>8.867034</td>\n",
       "      <td>83.654734</td>\n",
       "      <td>56.634359</td>\n",
       "      <td>86.010594</td>\n",
       "      <td>49.620907</td>\n",
       "      <td>...</td>\n",
       "      <td>68.697479</td>\n",
       "      <td>59.047619</td>\n",
       "      <td>47.89916</td>\n",
       "      <td>53.741497</td>\n",
       "      <td>53.361345</td>\n",
       "      <td>64.489796</td>\n",
       "      <td>82.983193</td>\n",
       "      <td>97.611697</td>\n",
       "      <td>48.67617</td>\n",
       "      <td>1</td>\n",
       "    </tr>\n",
       "    <tr>\n",
       "      <th>0</th>\n",
       "      <td>80.255236</td>\n",
       "      <td>39.047528</td>\n",
       "      <td>74.863774</td>\n",
       "      <td>38.671849</td>\n",
       "      <td>77.77435</td>\n",
       "      <td>8.867034</td>\n",
       "      <td>83.654734</td>\n",
       "      <td>56.634359</td>\n",
       "      <td>86.010594</td>\n",
       "      <td>49.620907</td>\n",
       "      <td>...</td>\n",
       "      <td>68.697479</td>\n",
       "      <td>59.047619</td>\n",
       "      <td>47.89916</td>\n",
       "      <td>53.741497</td>\n",
       "      <td>53.361345</td>\n",
       "      <td>64.489796</td>\n",
       "      <td>82.983193</td>\n",
       "      <td>97.611697</td>\n",
       "      <td>48.67617</td>\n",
       "      <td>2</td>\n",
       "    </tr>\n",
       "    <tr>\n",
       "      <th>0</th>\n",
       "      <td>80.255236</td>\n",
       "      <td>39.047528</td>\n",
       "      <td>74.863774</td>\n",
       "      <td>38.671849</td>\n",
       "      <td>77.77435</td>\n",
       "      <td>8.867034</td>\n",
       "      <td>83.654734</td>\n",
       "      <td>56.634359</td>\n",
       "      <td>86.010594</td>\n",
       "      <td>49.620907</td>\n",
       "      <td>...</td>\n",
       "      <td>68.697479</td>\n",
       "      <td>59.047619</td>\n",
       "      <td>47.89916</td>\n",
       "      <td>53.741497</td>\n",
       "      <td>53.361345</td>\n",
       "      <td>64.489796</td>\n",
       "      <td>82.983193</td>\n",
       "      <td>97.611697</td>\n",
       "      <td>48.67617</td>\n",
       "      <td>3</td>\n",
       "    </tr>\n",
       "    <tr>\n",
       "      <th>0</th>\n",
       "      <td>80.255236</td>\n",
       "      <td>39.047528</td>\n",
       "      <td>74.863774</td>\n",
       "      <td>38.671849</td>\n",
       "      <td>77.77435</td>\n",
       "      <td>8.867034</td>\n",
       "      <td>83.654734</td>\n",
       "      <td>56.634359</td>\n",
       "      <td>86.010594</td>\n",
       "      <td>49.620907</td>\n",
       "      <td>...</td>\n",
       "      <td>68.697479</td>\n",
       "      <td>59.047619</td>\n",
       "      <td>47.89916</td>\n",
       "      <td>53.741497</td>\n",
       "      <td>53.361345</td>\n",
       "      <td>64.489796</td>\n",
       "      <td>82.983193</td>\n",
       "      <td>97.611697</td>\n",
       "      <td>48.67617</td>\n",
       "      <td>4</td>\n",
       "    </tr>\n",
       "  </tbody>\n",
       "</table>\n",
       "<p>5 rows × 45 columns</p>\n",
       "</div>"
      ],
      "text/plain": [
       "player          0                    13                   65            \\\n",
       "                x          y          x          y         x         y   \n",
       "0       80.255236  39.047528  74.863774  38.671849  77.77435  8.867034   \n",
       "0       80.255236  39.047528  74.863774  38.671849  77.77435  8.867034   \n",
       "0       80.255236  39.047528  74.863774  38.671849  77.77435  8.867034   \n",
       "0       80.255236  39.047528  74.863774  38.671849  77.77435  8.867034   \n",
       "0       80.255236  39.047528  74.863774  38.671849  77.77435  8.867034   \n",
       "\n",
       "player        379                   380             ...       9624       9625  \\\n",
       "                x          y          x          y  ...          y          x   \n",
       "0       83.654734  56.634359  86.010594  49.620907  ...  68.697479  59.047619   \n",
       "0       83.654734  56.634359  86.010594  49.620907  ...  68.697479  59.047619   \n",
       "0       83.654734  56.634359  86.010594  49.620907  ...  68.697479  59.047619   \n",
       "0       83.654734  56.634359  86.010594  49.620907  ...  68.697479  59.047619   \n",
       "0       83.654734  56.634359  86.010594  49.620907  ...  68.697479  59.047619   \n",
       "\n",
       "player                 9626                  9627                 10267  \\\n",
       "               y          x          y          x          y          x   \n",
       "0       47.89916  53.741497  53.361345  64.489796  82.983193  97.611697   \n",
       "0       47.89916  53.741497  53.361345  64.489796  82.983193  97.611697   \n",
       "0       47.89916  53.741497  53.361345  64.489796  82.983193  97.611697   \n",
       "0       47.89916  53.741497  53.361345  64.489796  82.983193  97.611697   \n",
       "0       47.89916  53.741497  53.361345  64.489796  82.983193  97.611697   \n",
       "\n",
       "player           frame  \n",
       "               y        \n",
       "0       48.67617     0  \n",
       "0       48.67617     1  \n",
       "0       48.67617     2  \n",
       "0       48.67617     3  \n",
       "0       48.67617     4  \n",
       "\n",
       "[5 rows x 45 columns]"
      ]
     },
     "execution_count": 126,
     "metadata": {},
     "output_type": "execute_result"
    }
   ],
   "source": [
    "frames = df.frame.unique()\n",
    "df_t = pd.DataFrame()\n",
    "\n",
    "for f in frames:\n",
    "    df_t = df_t.append(df[df.frame == f].drop('frame',axis=1).stack().to_frame().T)\n",
    "    \n",
    "df_t['frame']=frames\n",
    "\n",
    "\n",
    "df_t.head()"
   ]
  },
  {
   "cell_type": "markdown",
   "metadata": {},
   "source": [
    "Transform (x,y) such that (0,0) is the center circle, for feeding into mvel.calc_player_velocities. Original Last Row data uses a (100,100) grid, with origin at bottom left of pitch. "
   ]
  },
  {
   "cell_type": "code",
   "execution_count": 127,
   "metadata": {},
   "outputs": [],
   "source": [
    "field_dimen=(1.05,0.68)\n",
    "\n",
    "# Convert to metres n place origin at centre circle \n",
    "x_columns = [c for c in df_t.columns if c[-1].lower()=='x']\n",
    "y_columns = [c for c in df_t.columns if c[-1].lower()=='y']\n",
    "df_t[x_columns] = ( df_t[x_columns]-50 ) * field_dimen[0]\n",
    "df_t[y_columns] = ( df_t[y_columns]-50 ) * field_dimen[1]"
   ]
  },
  {
   "cell_type": "code",
   "execution_count": 128,
   "metadata": {},
   "outputs": [
    {
     "data": {
      "text/html": [
       "<div>\n",
       "<style scoped>\n",
       "    .dataframe tbody tr th:only-of-type {\n",
       "        vertical-align: middle;\n",
       "    }\n",
       "\n",
       "    .dataframe tbody tr th {\n",
       "        vertical-align: top;\n",
       "    }\n",
       "\n",
       "    .dataframe thead tr th {\n",
       "        text-align: left;\n",
       "    }\n",
       "</style>\n",
       "<table border=\"1\" class=\"dataframe\">\n",
       "  <thead>\n",
       "    <tr>\n",
       "      <th>player</th>\n",
       "      <th colspan=\"2\" halign=\"left\">0</th>\n",
       "      <th colspan=\"2\" halign=\"left\">13</th>\n",
       "      <th colspan=\"2\" halign=\"left\">65</th>\n",
       "      <th colspan=\"2\" halign=\"left\">379</th>\n",
       "      <th colspan=\"2\" halign=\"left\">380</th>\n",
       "      <th>...</th>\n",
       "      <th>9624</th>\n",
       "      <th colspan=\"2\" halign=\"left\">9625</th>\n",
       "      <th colspan=\"2\" halign=\"left\">9626</th>\n",
       "      <th colspan=\"2\" halign=\"left\">9627</th>\n",
       "      <th colspan=\"2\" halign=\"left\">10267</th>\n",
       "      <th>frame</th>\n",
       "    </tr>\n",
       "    <tr>\n",
       "      <th></th>\n",
       "      <th>x</th>\n",
       "      <th>y</th>\n",
       "      <th>x</th>\n",
       "      <th>y</th>\n",
       "      <th>x</th>\n",
       "      <th>y</th>\n",
       "      <th>x</th>\n",
       "      <th>y</th>\n",
       "      <th>x</th>\n",
       "      <th>y</th>\n",
       "      <th>...</th>\n",
       "      <th>y</th>\n",
       "      <th>x</th>\n",
       "      <th>y</th>\n",
       "      <th>x</th>\n",
       "      <th>y</th>\n",
       "      <th>x</th>\n",
       "      <th>y</th>\n",
       "      <th>x</th>\n",
       "      <th>y</th>\n",
       "      <th></th>\n",
       "    </tr>\n",
       "  </thead>\n",
       "  <tbody>\n",
       "    <tr>\n",
       "      <th>0</th>\n",
       "      <td>31.767998</td>\n",
       "      <td>-7.447681</td>\n",
       "      <td>26.106963</td>\n",
       "      <td>-7.703142</td>\n",
       "      <td>29.163067</td>\n",
       "      <td>-27.970417</td>\n",
       "      <td>35.337470</td>\n",
       "      <td>4.511364</td>\n",
       "      <td>37.811124</td>\n",
       "      <td>-0.257783</td>\n",
       "      <td>...</td>\n",
       "      <td>12.714286</td>\n",
       "      <td>9.5</td>\n",
       "      <td>-1.428571</td>\n",
       "      <td>3.928571</td>\n",
       "      <td>2.285714</td>\n",
       "      <td>15.214286</td>\n",
       "      <td>22.428571</td>\n",
       "      <td>49.992282</td>\n",
       "      <td>-0.900204</td>\n",
       "      <td>0</td>\n",
       "    </tr>\n",
       "    <tr>\n",
       "      <th>0</th>\n",
       "      <td>31.767998</td>\n",
       "      <td>-7.447681</td>\n",
       "      <td>26.106963</td>\n",
       "      <td>-7.703142</td>\n",
       "      <td>29.163067</td>\n",
       "      <td>-27.970417</td>\n",
       "      <td>35.337470</td>\n",
       "      <td>4.511364</td>\n",
       "      <td>37.811124</td>\n",
       "      <td>-0.257783</td>\n",
       "      <td>...</td>\n",
       "      <td>12.714286</td>\n",
       "      <td>9.5</td>\n",
       "      <td>-1.428571</td>\n",
       "      <td>3.928571</td>\n",
       "      <td>2.285714</td>\n",
       "      <td>15.214286</td>\n",
       "      <td>22.428571</td>\n",
       "      <td>49.992282</td>\n",
       "      <td>-0.900204</td>\n",
       "      <td>1</td>\n",
       "    </tr>\n",
       "    <tr>\n",
       "      <th>0</th>\n",
       "      <td>31.767998</td>\n",
       "      <td>-7.447681</td>\n",
       "      <td>26.106963</td>\n",
       "      <td>-7.703142</td>\n",
       "      <td>29.163067</td>\n",
       "      <td>-27.970417</td>\n",
       "      <td>35.337470</td>\n",
       "      <td>4.511364</td>\n",
       "      <td>37.811124</td>\n",
       "      <td>-0.257783</td>\n",
       "      <td>...</td>\n",
       "      <td>12.714286</td>\n",
       "      <td>9.5</td>\n",
       "      <td>-1.428571</td>\n",
       "      <td>3.928571</td>\n",
       "      <td>2.285714</td>\n",
       "      <td>15.214286</td>\n",
       "      <td>22.428571</td>\n",
       "      <td>49.992282</td>\n",
       "      <td>-0.900204</td>\n",
       "      <td>2</td>\n",
       "    </tr>\n",
       "    <tr>\n",
       "      <th>0</th>\n",
       "      <td>31.767998</td>\n",
       "      <td>-7.447681</td>\n",
       "      <td>26.106963</td>\n",
       "      <td>-7.703142</td>\n",
       "      <td>29.163067</td>\n",
       "      <td>-27.970417</td>\n",
       "      <td>35.337470</td>\n",
       "      <td>4.511364</td>\n",
       "      <td>37.811124</td>\n",
       "      <td>-0.257783</td>\n",
       "      <td>...</td>\n",
       "      <td>12.714286</td>\n",
       "      <td>9.5</td>\n",
       "      <td>-1.428571</td>\n",
       "      <td>3.928571</td>\n",
       "      <td>2.285714</td>\n",
       "      <td>15.214286</td>\n",
       "      <td>22.428571</td>\n",
       "      <td>49.992282</td>\n",
       "      <td>-0.900204</td>\n",
       "      <td>3</td>\n",
       "    </tr>\n",
       "    <tr>\n",
       "      <th>0</th>\n",
       "      <td>31.767998</td>\n",
       "      <td>-7.447681</td>\n",
       "      <td>26.106963</td>\n",
       "      <td>-7.703142</td>\n",
       "      <td>29.163067</td>\n",
       "      <td>-27.970417</td>\n",
       "      <td>35.337470</td>\n",
       "      <td>4.511364</td>\n",
       "      <td>37.811124</td>\n",
       "      <td>-0.257783</td>\n",
       "      <td>...</td>\n",
       "      <td>12.714286</td>\n",
       "      <td>9.5</td>\n",
       "      <td>-1.428571</td>\n",
       "      <td>3.928571</td>\n",
       "      <td>2.285714</td>\n",
       "      <td>15.214286</td>\n",
       "      <td>22.428571</td>\n",
       "      <td>49.992282</td>\n",
       "      <td>-0.900204</td>\n",
       "      <td>4</td>\n",
       "    </tr>\n",
       "    <tr>\n",
       "      <th>...</th>\n",
       "      <td>...</td>\n",
       "      <td>...</td>\n",
       "      <td>...</td>\n",
       "      <td>...</td>\n",
       "      <td>...</td>\n",
       "      <td>...</td>\n",
       "      <td>...</td>\n",
       "      <td>...</td>\n",
       "      <td>...</td>\n",
       "      <td>...</td>\n",
       "      <td>...</td>\n",
       "      <td>...</td>\n",
       "      <td>...</td>\n",
       "      <td>...</td>\n",
       "      <td>...</td>\n",
       "      <td>...</td>\n",
       "      <td>...</td>\n",
       "      <td>...</td>\n",
       "      <td>...</td>\n",
       "      <td>...</td>\n",
       "      <td>...</td>\n",
       "    </tr>\n",
       "    <tr>\n",
       "      <th>0</th>\n",
       "      <td>53.214286</td>\n",
       "      <td>-3.428571</td>\n",
       "      <td>45.127348</td>\n",
       "      <td>4.577747</td>\n",
       "      <td>50.357143</td>\n",
       "      <td>-17.000000</td>\n",
       "      <td>47.554557</td>\n",
       "      <td>3.198064</td>\n",
       "      <td>47.788231</td>\n",
       "      <td>-1.280889</td>\n",
       "      <td>...</td>\n",
       "      <td>7.142857</td>\n",
       "      <td>9.5</td>\n",
       "      <td>-1.428571</td>\n",
       "      <td>3.928571</td>\n",
       "      <td>2.285714</td>\n",
       "      <td>25.357143</td>\n",
       "      <td>19.000000</td>\n",
       "      <td>51.161067</td>\n",
       "      <td>2.529840</td>\n",
       "      <td>120</td>\n",
       "    </tr>\n",
       "    <tr>\n",
       "      <th>0</th>\n",
       "      <td>53.214286</td>\n",
       "      <td>-3.428571</td>\n",
       "      <td>45.127348</td>\n",
       "      <td>4.577747</td>\n",
       "      <td>50.357143</td>\n",
       "      <td>-17.000000</td>\n",
       "      <td>47.554557</td>\n",
       "      <td>3.198064</td>\n",
       "      <td>47.788231</td>\n",
       "      <td>-1.280889</td>\n",
       "      <td>...</td>\n",
       "      <td>7.142857</td>\n",
       "      <td>9.5</td>\n",
       "      <td>-1.428571</td>\n",
       "      <td>3.928571</td>\n",
       "      <td>2.285714</td>\n",
       "      <td>25.357143</td>\n",
       "      <td>19.000000</td>\n",
       "      <td>51.161067</td>\n",
       "      <td>2.529840</td>\n",
       "      <td>121</td>\n",
       "    </tr>\n",
       "    <tr>\n",
       "      <th>0</th>\n",
       "      <td>53.214286</td>\n",
       "      <td>-3.428571</td>\n",
       "      <td>45.127348</td>\n",
       "      <td>4.577747</td>\n",
       "      <td>50.357143</td>\n",
       "      <td>-17.000000</td>\n",
       "      <td>47.554557</td>\n",
       "      <td>3.198064</td>\n",
       "      <td>47.788231</td>\n",
       "      <td>-1.280889</td>\n",
       "      <td>...</td>\n",
       "      <td>7.142857</td>\n",
       "      <td>9.5</td>\n",
       "      <td>-1.428571</td>\n",
       "      <td>3.928571</td>\n",
       "      <td>2.285714</td>\n",
       "      <td>25.357143</td>\n",
       "      <td>19.000000</td>\n",
       "      <td>51.161067</td>\n",
       "      <td>2.529840</td>\n",
       "      <td>122</td>\n",
       "    </tr>\n",
       "    <tr>\n",
       "      <th>0</th>\n",
       "      <td>53.214286</td>\n",
       "      <td>-3.428571</td>\n",
       "      <td>45.127348</td>\n",
       "      <td>4.577747</td>\n",
       "      <td>50.357143</td>\n",
       "      <td>-17.000000</td>\n",
       "      <td>47.554557</td>\n",
       "      <td>3.198064</td>\n",
       "      <td>47.788231</td>\n",
       "      <td>-1.280889</td>\n",
       "      <td>...</td>\n",
       "      <td>7.142857</td>\n",
       "      <td>9.5</td>\n",
       "      <td>-1.428571</td>\n",
       "      <td>3.928571</td>\n",
       "      <td>2.285714</td>\n",
       "      <td>25.357143</td>\n",
       "      <td>19.000000</td>\n",
       "      <td>51.161067</td>\n",
       "      <td>2.529840</td>\n",
       "      <td>123</td>\n",
       "    </tr>\n",
       "    <tr>\n",
       "      <th>0</th>\n",
       "      <td>53.214286</td>\n",
       "      <td>-3.428571</td>\n",
       "      <td>45.127348</td>\n",
       "      <td>4.577747</td>\n",
       "      <td>50.357143</td>\n",
       "      <td>-17.000000</td>\n",
       "      <td>47.554557</td>\n",
       "      <td>3.198064</td>\n",
       "      <td>47.788231</td>\n",
       "      <td>-1.280889</td>\n",
       "      <td>...</td>\n",
       "      <td>7.142857</td>\n",
       "      <td>9.5</td>\n",
       "      <td>-1.428571</td>\n",
       "      <td>3.928571</td>\n",
       "      <td>2.285714</td>\n",
       "      <td>25.357143</td>\n",
       "      <td>19.000000</td>\n",
       "      <td>51.161067</td>\n",
       "      <td>2.529840</td>\n",
       "      <td>124</td>\n",
       "    </tr>\n",
       "  </tbody>\n",
       "</table>\n",
       "<p>125 rows × 45 columns</p>\n",
       "</div>"
      ],
      "text/plain": [
       "player          0                   13                   65             \\\n",
       "                x         y          x         y          x          y   \n",
       "0       31.767998 -7.447681  26.106963 -7.703142  29.163067 -27.970417   \n",
       "0       31.767998 -7.447681  26.106963 -7.703142  29.163067 -27.970417   \n",
       "0       31.767998 -7.447681  26.106963 -7.703142  29.163067 -27.970417   \n",
       "0       31.767998 -7.447681  26.106963 -7.703142  29.163067 -27.970417   \n",
       "0       31.767998 -7.447681  26.106963 -7.703142  29.163067 -27.970417   \n",
       "..            ...       ...        ...       ...        ...        ...   \n",
       "0       53.214286 -3.428571  45.127348  4.577747  50.357143 -17.000000   \n",
       "0       53.214286 -3.428571  45.127348  4.577747  50.357143 -17.000000   \n",
       "0       53.214286 -3.428571  45.127348  4.577747  50.357143 -17.000000   \n",
       "0       53.214286 -3.428571  45.127348  4.577747  50.357143 -17.000000   \n",
       "0       53.214286 -3.428571  45.127348  4.577747  50.357143 -17.000000   \n",
       "\n",
       "player        379                  380            ...       9624 9625  \\\n",
       "                x         y          x         y  ...          y    x   \n",
       "0       35.337470  4.511364  37.811124 -0.257783  ...  12.714286  9.5   \n",
       "0       35.337470  4.511364  37.811124 -0.257783  ...  12.714286  9.5   \n",
       "0       35.337470  4.511364  37.811124 -0.257783  ...  12.714286  9.5   \n",
       "0       35.337470  4.511364  37.811124 -0.257783  ...  12.714286  9.5   \n",
       "0       35.337470  4.511364  37.811124 -0.257783  ...  12.714286  9.5   \n",
       "..            ...       ...        ...       ...  ...        ...  ...   \n",
       "0       47.554557  3.198064  47.788231 -1.280889  ...   7.142857  9.5   \n",
       "0       47.554557  3.198064  47.788231 -1.280889  ...   7.142857  9.5   \n",
       "0       47.554557  3.198064  47.788231 -1.280889  ...   7.142857  9.5   \n",
       "0       47.554557  3.198064  47.788231 -1.280889  ...   7.142857  9.5   \n",
       "0       47.554557  3.198064  47.788231 -1.280889  ...   7.142857  9.5   \n",
       "\n",
       "player                9626                 9627                 10267  \\\n",
       "               y         x         y          x          y          x   \n",
       "0      -1.428571  3.928571  2.285714  15.214286  22.428571  49.992282   \n",
       "0      -1.428571  3.928571  2.285714  15.214286  22.428571  49.992282   \n",
       "0      -1.428571  3.928571  2.285714  15.214286  22.428571  49.992282   \n",
       "0      -1.428571  3.928571  2.285714  15.214286  22.428571  49.992282   \n",
       "0      -1.428571  3.928571  2.285714  15.214286  22.428571  49.992282   \n",
       "..           ...       ...       ...        ...        ...        ...   \n",
       "0      -1.428571  3.928571  2.285714  25.357143  19.000000  51.161067   \n",
       "0      -1.428571  3.928571  2.285714  25.357143  19.000000  51.161067   \n",
       "0      -1.428571  3.928571  2.285714  25.357143  19.000000  51.161067   \n",
       "0      -1.428571  3.928571  2.285714  25.357143  19.000000  51.161067   \n",
       "0      -1.428571  3.928571  2.285714  25.357143  19.000000  51.161067   \n",
       "\n",
       "player           frame  \n",
       "               y        \n",
       "0      -0.900204     0  \n",
       "0      -0.900204     1  \n",
       "0      -0.900204     2  \n",
       "0      -0.900204     3  \n",
       "0      -0.900204     4  \n",
       "..           ...   ...  \n",
       "0       2.529840   120  \n",
       "0       2.529840   121  \n",
       "0       2.529840   122  \n",
       "0       2.529840   123  \n",
       "0       2.529840   124  \n",
       "\n",
       "[125 rows x 45 columns]"
      ]
     },
     "execution_count": 128,
     "metadata": {},
     "output_type": "execute_result"
    }
   ],
   "source": [
    "df_t"
   ]
  },
  {
   "cell_type": "code",
   "execution_count": 166,
   "metadata": {},
   "outputs": [
    {
     "data": {
      "text/html": [
       "<div>\n",
       "<style scoped>\n",
       "    .dataframe tbody tr th:only-of-type {\n",
       "        vertical-align: middle;\n",
       "    }\n",
       "\n",
       "    .dataframe tbody tr th {\n",
       "        vertical-align: top;\n",
       "    }\n",
       "\n",
       "    .dataframe thead tr th {\n",
       "        text-align: left;\n",
       "    }\n",
       "</style>\n",
       "<table border=\"1\" class=\"dataframe\">\n",
       "  <thead>\n",
       "    <tr>\n",
       "      <th>player</th>\n",
       "      <th colspan=\"2\" halign=\"left\">13</th>\n",
       "      <th colspan=\"2\" halign=\"left\">65</th>\n",
       "      <th colspan=\"2\" halign=\"left\">1848</th>\n",
       "      <th colspan=\"2\" halign=\"left\">2067</th>\n",
       "      <th colspan=\"2\" halign=\"left\">2937</th>\n",
       "      <th colspan=\"2\" halign=\"left\">5326</th>\n",
       "      <th colspan=\"2\" halign=\"left\">8101</th>\n",
       "      <th colspan=\"2\" halign=\"left\">9623</th>\n",
       "      <th colspan=\"2\" halign=\"left\">9626</th>\n",
       "      <th colspan=\"2\" halign=\"left\">9627</th>\n",
       "    </tr>\n",
       "    <tr>\n",
       "      <th></th>\n",
       "      <th>x</th>\n",
       "      <th>y</th>\n",
       "      <th>x</th>\n",
       "      <th>y</th>\n",
       "      <th>x</th>\n",
       "      <th>y</th>\n",
       "      <th>x</th>\n",
       "      <th>y</th>\n",
       "      <th>x</th>\n",
       "      <th>y</th>\n",
       "      <th>x</th>\n",
       "      <th>y</th>\n",
       "      <th>x</th>\n",
       "      <th>y</th>\n",
       "      <th>x</th>\n",
       "      <th>y</th>\n",
       "      <th>x</th>\n",
       "      <th>y</th>\n",
       "      <th>x</th>\n",
       "      <th>y</th>\n",
       "    </tr>\n",
       "  </thead>\n",
       "  <tbody>\n",
       "    <tr>\n",
       "      <th>0</th>\n",
       "      <td>26.106963</td>\n",
       "      <td>-7.703142</td>\n",
       "      <td>29.163067</td>\n",
       "      <td>-27.970417</td>\n",
       "      <td>28.789455</td>\n",
       "      <td>1.652604</td>\n",
       "      <td>33.265306</td>\n",
       "      <td>17.063947</td>\n",
       "      <td>31.767998</td>\n",
       "      <td>-7.447681</td>\n",
       "      <td>34.644466</td>\n",
       "      <td>-4.675265</td>\n",
       "      <td>6.071429</td>\n",
       "      <td>-8.857143</td>\n",
       "      <td>11.928571</td>\n",
       "      <td>12.714286</td>\n",
       "      <td>3.928571</td>\n",
       "      <td>2.285714</td>\n",
       "      <td>15.214286</td>\n",
       "      <td>22.428571</td>\n",
       "    </tr>\n",
       "    <tr>\n",
       "      <th>0</th>\n",
       "      <td>26.106963</td>\n",
       "      <td>-7.703142</td>\n",
       "      <td>29.163067</td>\n",
       "      <td>-27.970417</td>\n",
       "      <td>28.789455</td>\n",
       "      <td>1.652604</td>\n",
       "      <td>33.265306</td>\n",
       "      <td>17.063947</td>\n",
       "      <td>31.767998</td>\n",
       "      <td>-7.447681</td>\n",
       "      <td>34.644466</td>\n",
       "      <td>-4.675265</td>\n",
       "      <td>6.071429</td>\n",
       "      <td>-8.857143</td>\n",
       "      <td>11.928571</td>\n",
       "      <td>12.714286</td>\n",
       "      <td>3.928571</td>\n",
       "      <td>2.285714</td>\n",
       "      <td>15.214286</td>\n",
       "      <td>22.428571</td>\n",
       "    </tr>\n",
       "    <tr>\n",
       "      <th>0</th>\n",
       "      <td>26.106963</td>\n",
       "      <td>-7.703142</td>\n",
       "      <td>29.163067</td>\n",
       "      <td>-27.970417</td>\n",
       "      <td>28.789455</td>\n",
       "      <td>1.652604</td>\n",
       "      <td>33.265306</td>\n",
       "      <td>17.063947</td>\n",
       "      <td>31.767998</td>\n",
       "      <td>-7.447681</td>\n",
       "      <td>34.644466</td>\n",
       "      <td>-4.675265</td>\n",
       "      <td>6.071429</td>\n",
       "      <td>-8.857143</td>\n",
       "      <td>11.928571</td>\n",
       "      <td>12.714286</td>\n",
       "      <td>3.928571</td>\n",
       "      <td>2.285714</td>\n",
       "      <td>15.214286</td>\n",
       "      <td>22.428571</td>\n",
       "    </tr>\n",
       "    <tr>\n",
       "      <th>0</th>\n",
       "      <td>26.106963</td>\n",
       "      <td>-7.703142</td>\n",
       "      <td>29.163067</td>\n",
       "      <td>-27.970417</td>\n",
       "      <td>28.789455</td>\n",
       "      <td>1.652604</td>\n",
       "      <td>33.265306</td>\n",
       "      <td>17.063947</td>\n",
       "      <td>31.767998</td>\n",
       "      <td>-7.447681</td>\n",
       "      <td>34.644466</td>\n",
       "      <td>-4.675265</td>\n",
       "      <td>6.071429</td>\n",
       "      <td>-8.857143</td>\n",
       "      <td>11.928571</td>\n",
       "      <td>12.714286</td>\n",
       "      <td>3.928571</td>\n",
       "      <td>2.285714</td>\n",
       "      <td>15.214286</td>\n",
       "      <td>22.428571</td>\n",
       "    </tr>\n",
       "    <tr>\n",
       "      <th>0</th>\n",
       "      <td>26.106963</td>\n",
       "      <td>-7.703142</td>\n",
       "      <td>29.163067</td>\n",
       "      <td>-27.970417</td>\n",
       "      <td>28.789455</td>\n",
       "      <td>1.652604</td>\n",
       "      <td>33.265306</td>\n",
       "      <td>17.063947</td>\n",
       "      <td>31.767998</td>\n",
       "      <td>-7.447681</td>\n",
       "      <td>34.644466</td>\n",
       "      <td>-4.675265</td>\n",
       "      <td>6.071429</td>\n",
       "      <td>-8.857143</td>\n",
       "      <td>11.928571</td>\n",
       "      <td>12.714286</td>\n",
       "      <td>3.928571</td>\n",
       "      <td>2.285714</td>\n",
       "      <td>15.214286</td>\n",
       "      <td>22.428571</td>\n",
       "    </tr>\n",
       "  </tbody>\n",
       "</table>\n",
       "</div>"
      ],
      "text/plain": [
       "player       13                   65                    1848            \\\n",
       "                x         y          x          y          x         y   \n",
       "0       26.106963 -7.703142  29.163067 -27.970417  28.789455  1.652604   \n",
       "0       26.106963 -7.703142  29.163067 -27.970417  28.789455  1.652604   \n",
       "0       26.106963 -7.703142  29.163067 -27.970417  28.789455  1.652604   \n",
       "0       26.106963 -7.703142  29.163067 -27.970417  28.789455  1.652604   \n",
       "0       26.106963 -7.703142  29.163067 -27.970417  28.789455  1.652604   \n",
       "\n",
       "player       2067                  2937                 5326            \\\n",
       "                x          y          x         y          x         y   \n",
       "0       33.265306  17.063947  31.767998 -7.447681  34.644466 -4.675265   \n",
       "0       33.265306  17.063947  31.767998 -7.447681  34.644466 -4.675265   \n",
       "0       33.265306  17.063947  31.767998 -7.447681  34.644466 -4.675265   \n",
       "0       33.265306  17.063947  31.767998 -7.447681  34.644466 -4.675265   \n",
       "0       33.265306  17.063947  31.767998 -7.447681  34.644466 -4.675265   \n",
       "\n",
       "player      8101                 9623                 9626            \\\n",
       "               x         y          x          y         x         y   \n",
       "0       6.071429 -8.857143  11.928571  12.714286  3.928571  2.285714   \n",
       "0       6.071429 -8.857143  11.928571  12.714286  3.928571  2.285714   \n",
       "0       6.071429 -8.857143  11.928571  12.714286  3.928571  2.285714   \n",
       "0       6.071429 -8.857143  11.928571  12.714286  3.928571  2.285714   \n",
       "0       6.071429 -8.857143  11.928571  12.714286  3.928571  2.285714   \n",
       "\n",
       "player       9627             \n",
       "                x          y  \n",
       "0       15.214286  22.428571  \n",
       "0       15.214286  22.428571  \n",
       "0       15.214286  22.428571  \n",
       "0       15.214286  22.428571  \n",
       "0       15.214286  22.428571  "
      ]
     },
     "execution_count": 166,
     "metadata": {},
     "output_type": "execute_result"
    }
   ],
   "source": [
    "# Segregate\n",
    "liv_columns = [c for c in df_t.columns if c[0] in liv]\n",
    "opp_columns = [c for c in df_t.columns if c[0] in opp]\n",
    "\n",
    "df_t[liv_columns].head()"
   ]
  },
  {
   "cell_type": "code",
   "execution_count": 174,
   "metadata": {},
   "outputs": [],
   "source": [
    "ball_col = [c for c in df_t.columns if c[0] == 0]"
   ]
  },
  {
   "cell_type": "code",
   "execution_count": 308,
   "metadata": {},
   "outputs": [],
   "source": [
    "liv_track = pd.concat([df_t[liv_columns], df_t[ball_col]],axis=1)\n",
    "opp_track = pd.concat([df_t[opp_columns], df_t[ball_col]],axis=1)"
   ]
  },
  {
   "cell_type": "code",
   "execution_count": 309,
   "metadata": {},
   "outputs": [],
   "source": [
    "newlivcolum = ['Away_'+str(x[0])+'_'+x[1] for x in liv_columns] + ['ball_x', 'ball_y']"
   ]
  },
  {
   "cell_type": "code",
   "execution_count": 279,
   "metadata": {},
   "outputs": [],
   "source": [
    "newoppcolum = ['Home_'+str(x[0])+'_'+x[1] for x in opp_columns] + ['ball_x', 'ball_y']"
   ]
  },
  {
   "cell_type": "code",
   "execution_count": 182,
   "metadata": {},
   "outputs": [],
   "source": [
    "liv_track.to_csv('Leicester 0 - [3] Liverpool_LIV.csv')"
   ]
  },
  {
   "cell_type": "markdown",
   "metadata": {},
   "source": [
    "Renaming the columns"
   ]
  },
  {
   "cell_type": "code",
   "execution_count": 310,
   "metadata": {},
   "outputs": [],
   "source": [
    "liv_track.columns = newlivcolum"
   ]
  },
  {
   "cell_type": "code",
   "execution_count": 311,
   "metadata": {},
   "outputs": [],
   "source": [
    "liv_track = liv_track.reset_index()"
   ]
  },
  {
   "cell_type": "code",
   "execution_count": 312,
   "metadata": {},
   "outputs": [],
   "source": [
    "liv_track1 = liv_track.drop('index',axis=1)"
   ]
  },
  {
   "cell_type": "code",
   "execution_count": 314,
   "metadata": {},
   "outputs": [],
   "source": [
    "liv_track1.insert(0, \"Period\", [1]*len(liv_track1), True) \n",
    "liv_track1.insert(1, \"Time [s]\",np.array(liv_track1.index)/20, True) "
   ]
  },
  {
   "cell_type": "code",
   "execution_count": 315,
   "metadata": {},
   "outputs": [],
   "source": [
    "liv_track1.index.name = 'Frame'"
   ]
  },
  {
   "cell_type": "code",
   "execution_count": 316,
   "metadata": {},
   "outputs": [
    {
     "data": {
      "text/html": [
       "<div>\n",
       "<style scoped>\n",
       "    .dataframe tbody tr th:only-of-type {\n",
       "        vertical-align: middle;\n",
       "    }\n",
       "\n",
       "    .dataframe tbody tr th {\n",
       "        vertical-align: top;\n",
       "    }\n",
       "\n",
       "    .dataframe thead th {\n",
       "        text-align: right;\n",
       "    }\n",
       "</style>\n",
       "<table border=\"1\" class=\"dataframe\">\n",
       "  <thead>\n",
       "    <tr style=\"text-align: right;\">\n",
       "      <th></th>\n",
       "      <th>Period</th>\n",
       "      <th>Time [s]</th>\n",
       "      <th>Away_13_x</th>\n",
       "      <th>Away_13_y</th>\n",
       "      <th>Away_65_x</th>\n",
       "      <th>Away_65_y</th>\n",
       "      <th>Away_1848_x</th>\n",
       "      <th>Away_1848_y</th>\n",
       "      <th>Away_2067_x</th>\n",
       "      <th>Away_2067_y</th>\n",
       "      <th>...</th>\n",
       "      <th>Away_8101_x</th>\n",
       "      <th>Away_8101_y</th>\n",
       "      <th>Away_9623_x</th>\n",
       "      <th>Away_9623_y</th>\n",
       "      <th>Away_9626_x</th>\n",
       "      <th>Away_9626_y</th>\n",
       "      <th>Away_9627_x</th>\n",
       "      <th>Away_9627_y</th>\n",
       "      <th>ball_x</th>\n",
       "      <th>ball_y</th>\n",
       "    </tr>\n",
       "    <tr>\n",
       "      <th>Frame</th>\n",
       "      <th></th>\n",
       "      <th></th>\n",
       "      <th></th>\n",
       "      <th></th>\n",
       "      <th></th>\n",
       "      <th></th>\n",
       "      <th></th>\n",
       "      <th></th>\n",
       "      <th></th>\n",
       "      <th></th>\n",
       "      <th></th>\n",
       "      <th></th>\n",
       "      <th></th>\n",
       "      <th></th>\n",
       "      <th></th>\n",
       "      <th></th>\n",
       "      <th></th>\n",
       "      <th></th>\n",
       "      <th></th>\n",
       "      <th></th>\n",
       "      <th></th>\n",
       "    </tr>\n",
       "  </thead>\n",
       "  <tbody>\n",
       "    <tr>\n",
       "      <th>0</th>\n",
       "      <td>1</td>\n",
       "      <td>0.00</td>\n",
       "      <td>26.106963</td>\n",
       "      <td>-7.703142</td>\n",
       "      <td>29.163067</td>\n",
       "      <td>-27.970417</td>\n",
       "      <td>28.789455</td>\n",
       "      <td>1.652604</td>\n",
       "      <td>33.265306</td>\n",
       "      <td>17.063947</td>\n",
       "      <td>...</td>\n",
       "      <td>6.071429</td>\n",
       "      <td>-8.857143</td>\n",
       "      <td>11.928571</td>\n",
       "      <td>12.714286</td>\n",
       "      <td>3.928571</td>\n",
       "      <td>2.285714</td>\n",
       "      <td>15.214286</td>\n",
       "      <td>22.428571</td>\n",
       "      <td>31.767998</td>\n",
       "      <td>-7.447681</td>\n",
       "    </tr>\n",
       "    <tr>\n",
       "      <th>1</th>\n",
       "      <td>1</td>\n",
       "      <td>0.05</td>\n",
       "      <td>26.106963</td>\n",
       "      <td>-7.703142</td>\n",
       "      <td>29.163067</td>\n",
       "      <td>-27.970417</td>\n",
       "      <td>28.789455</td>\n",
       "      <td>1.652604</td>\n",
       "      <td>33.265306</td>\n",
       "      <td>17.063947</td>\n",
       "      <td>...</td>\n",
       "      <td>6.071429</td>\n",
       "      <td>-8.857143</td>\n",
       "      <td>11.928571</td>\n",
       "      <td>12.714286</td>\n",
       "      <td>3.928571</td>\n",
       "      <td>2.285714</td>\n",
       "      <td>15.214286</td>\n",
       "      <td>22.428571</td>\n",
       "      <td>31.767998</td>\n",
       "      <td>-7.447681</td>\n",
       "    </tr>\n",
       "    <tr>\n",
       "      <th>2</th>\n",
       "      <td>1</td>\n",
       "      <td>0.10</td>\n",
       "      <td>26.106963</td>\n",
       "      <td>-7.703142</td>\n",
       "      <td>29.163067</td>\n",
       "      <td>-27.970417</td>\n",
       "      <td>28.789455</td>\n",
       "      <td>1.652604</td>\n",
       "      <td>33.265306</td>\n",
       "      <td>17.063947</td>\n",
       "      <td>...</td>\n",
       "      <td>6.071429</td>\n",
       "      <td>-8.857143</td>\n",
       "      <td>11.928571</td>\n",
       "      <td>12.714286</td>\n",
       "      <td>3.928571</td>\n",
       "      <td>2.285714</td>\n",
       "      <td>15.214286</td>\n",
       "      <td>22.428571</td>\n",
       "      <td>31.767998</td>\n",
       "      <td>-7.447681</td>\n",
       "    </tr>\n",
       "    <tr>\n",
       "      <th>3</th>\n",
       "      <td>1</td>\n",
       "      <td>0.15</td>\n",
       "      <td>26.106963</td>\n",
       "      <td>-7.703142</td>\n",
       "      <td>29.163067</td>\n",
       "      <td>-27.970417</td>\n",
       "      <td>28.789455</td>\n",
       "      <td>1.652604</td>\n",
       "      <td>33.265306</td>\n",
       "      <td>17.063947</td>\n",
       "      <td>...</td>\n",
       "      <td>6.071429</td>\n",
       "      <td>-8.857143</td>\n",
       "      <td>11.928571</td>\n",
       "      <td>12.714286</td>\n",
       "      <td>3.928571</td>\n",
       "      <td>2.285714</td>\n",
       "      <td>15.214286</td>\n",
       "      <td>22.428571</td>\n",
       "      <td>31.767998</td>\n",
       "      <td>-7.447681</td>\n",
       "    </tr>\n",
       "    <tr>\n",
       "      <th>4</th>\n",
       "      <td>1</td>\n",
       "      <td>0.20</td>\n",
       "      <td>26.106963</td>\n",
       "      <td>-7.703142</td>\n",
       "      <td>29.163067</td>\n",
       "      <td>-27.970417</td>\n",
       "      <td>28.789455</td>\n",
       "      <td>1.652604</td>\n",
       "      <td>33.265306</td>\n",
       "      <td>17.063947</td>\n",
       "      <td>...</td>\n",
       "      <td>6.071429</td>\n",
       "      <td>-8.857143</td>\n",
       "      <td>11.928571</td>\n",
       "      <td>12.714286</td>\n",
       "      <td>3.928571</td>\n",
       "      <td>2.285714</td>\n",
       "      <td>15.214286</td>\n",
       "      <td>22.428571</td>\n",
       "      <td>31.767998</td>\n",
       "      <td>-7.447681</td>\n",
       "    </tr>\n",
       "    <tr>\n",
       "      <th>...</th>\n",
       "      <td>...</td>\n",
       "      <td>...</td>\n",
       "      <td>...</td>\n",
       "      <td>...</td>\n",
       "      <td>...</td>\n",
       "      <td>...</td>\n",
       "      <td>...</td>\n",
       "      <td>...</td>\n",
       "      <td>...</td>\n",
       "      <td>...</td>\n",
       "      <td>...</td>\n",
       "      <td>...</td>\n",
       "      <td>...</td>\n",
       "      <td>...</td>\n",
       "      <td>...</td>\n",
       "      <td>...</td>\n",
       "      <td>...</td>\n",
       "      <td>...</td>\n",
       "      <td>...</td>\n",
       "      <td>...</td>\n",
       "      <td>...</td>\n",
       "    </tr>\n",
       "    <tr>\n",
       "      <th>120</th>\n",
       "      <td>1</td>\n",
       "      <td>6.00</td>\n",
       "      <td>45.127348</td>\n",
       "      <td>4.577747</td>\n",
       "      <td>50.357143</td>\n",
       "      <td>-17.000000</td>\n",
       "      <td>47.578327</td>\n",
       "      <td>-0.420661</td>\n",
       "      <td>46.445945</td>\n",
       "      <td>8.325092</td>\n",
       "      <td>...</td>\n",
       "      <td>6.071429</td>\n",
       "      <td>-8.857143</td>\n",
       "      <td>18.214286</td>\n",
       "      <td>8.285714</td>\n",
       "      <td>3.928571</td>\n",
       "      <td>2.285714</td>\n",
       "      <td>25.357143</td>\n",
       "      <td>19.000000</td>\n",
       "      <td>53.214286</td>\n",
       "      <td>-3.428571</td>\n",
       "    </tr>\n",
       "    <tr>\n",
       "      <th>121</th>\n",
       "      <td>1</td>\n",
       "      <td>6.05</td>\n",
       "      <td>45.127348</td>\n",
       "      <td>4.577747</td>\n",
       "      <td>50.357143</td>\n",
       "      <td>-17.000000</td>\n",
       "      <td>47.578327</td>\n",
       "      <td>-0.420661</td>\n",
       "      <td>46.445945</td>\n",
       "      <td>8.325092</td>\n",
       "      <td>...</td>\n",
       "      <td>6.071429</td>\n",
       "      <td>-8.857143</td>\n",
       "      <td>18.214286</td>\n",
       "      <td>8.285714</td>\n",
       "      <td>3.928571</td>\n",
       "      <td>2.285714</td>\n",
       "      <td>25.357143</td>\n",
       "      <td>19.000000</td>\n",
       "      <td>53.214286</td>\n",
       "      <td>-3.428571</td>\n",
       "    </tr>\n",
       "    <tr>\n",
       "      <th>122</th>\n",
       "      <td>1</td>\n",
       "      <td>6.10</td>\n",
       "      <td>45.127348</td>\n",
       "      <td>4.577747</td>\n",
       "      <td>50.357143</td>\n",
       "      <td>-17.000000</td>\n",
       "      <td>47.578327</td>\n",
       "      <td>-0.420661</td>\n",
       "      <td>46.445945</td>\n",
       "      <td>8.325092</td>\n",
       "      <td>...</td>\n",
       "      <td>6.071429</td>\n",
       "      <td>-8.857143</td>\n",
       "      <td>18.214286</td>\n",
       "      <td>8.285714</td>\n",
       "      <td>3.928571</td>\n",
       "      <td>2.285714</td>\n",
       "      <td>25.357143</td>\n",
       "      <td>19.000000</td>\n",
       "      <td>53.214286</td>\n",
       "      <td>-3.428571</td>\n",
       "    </tr>\n",
       "    <tr>\n",
       "      <th>123</th>\n",
       "      <td>1</td>\n",
       "      <td>6.15</td>\n",
       "      <td>45.127348</td>\n",
       "      <td>4.577747</td>\n",
       "      <td>50.357143</td>\n",
       "      <td>-17.000000</td>\n",
       "      <td>47.578327</td>\n",
       "      <td>-0.420661</td>\n",
       "      <td>46.445945</td>\n",
       "      <td>8.325092</td>\n",
       "      <td>...</td>\n",
       "      <td>6.071429</td>\n",
       "      <td>-8.857143</td>\n",
       "      <td>18.214286</td>\n",
       "      <td>8.285714</td>\n",
       "      <td>3.928571</td>\n",
       "      <td>2.285714</td>\n",
       "      <td>25.357143</td>\n",
       "      <td>19.000000</td>\n",
       "      <td>53.214286</td>\n",
       "      <td>-3.428571</td>\n",
       "    </tr>\n",
       "    <tr>\n",
       "      <th>124</th>\n",
       "      <td>1</td>\n",
       "      <td>6.20</td>\n",
       "      <td>45.127348</td>\n",
       "      <td>4.577747</td>\n",
       "      <td>50.357143</td>\n",
       "      <td>-17.000000</td>\n",
       "      <td>47.578327</td>\n",
       "      <td>-0.420661</td>\n",
       "      <td>46.445945</td>\n",
       "      <td>8.325092</td>\n",
       "      <td>...</td>\n",
       "      <td>6.071429</td>\n",
       "      <td>-8.857143</td>\n",
       "      <td>18.214286</td>\n",
       "      <td>8.285714</td>\n",
       "      <td>3.928571</td>\n",
       "      <td>2.285714</td>\n",
       "      <td>25.357143</td>\n",
       "      <td>19.000000</td>\n",
       "      <td>53.214286</td>\n",
       "      <td>-3.428571</td>\n",
       "    </tr>\n",
       "  </tbody>\n",
       "</table>\n",
       "<p>125 rows × 24 columns</p>\n",
       "</div>"
      ],
      "text/plain": [
       "       Period  Time [s]  Away_13_x  Away_13_y  Away_65_x  Away_65_y  \\\n",
       "Frame                                                                 \n",
       "0           1      0.00  26.106963  -7.703142  29.163067 -27.970417   \n",
       "1           1      0.05  26.106963  -7.703142  29.163067 -27.970417   \n",
       "2           1      0.10  26.106963  -7.703142  29.163067 -27.970417   \n",
       "3           1      0.15  26.106963  -7.703142  29.163067 -27.970417   \n",
       "4           1      0.20  26.106963  -7.703142  29.163067 -27.970417   \n",
       "...       ...       ...        ...        ...        ...        ...   \n",
       "120         1      6.00  45.127348   4.577747  50.357143 -17.000000   \n",
       "121         1      6.05  45.127348   4.577747  50.357143 -17.000000   \n",
       "122         1      6.10  45.127348   4.577747  50.357143 -17.000000   \n",
       "123         1      6.15  45.127348   4.577747  50.357143 -17.000000   \n",
       "124         1      6.20  45.127348   4.577747  50.357143 -17.000000   \n",
       "\n",
       "       Away_1848_x  Away_1848_y  Away_2067_x  Away_2067_y  ...  Away_8101_x  \\\n",
       "Frame                                                      ...                \n",
       "0        28.789455     1.652604    33.265306    17.063947  ...     6.071429   \n",
       "1        28.789455     1.652604    33.265306    17.063947  ...     6.071429   \n",
       "2        28.789455     1.652604    33.265306    17.063947  ...     6.071429   \n",
       "3        28.789455     1.652604    33.265306    17.063947  ...     6.071429   \n",
       "4        28.789455     1.652604    33.265306    17.063947  ...     6.071429   \n",
       "...            ...          ...          ...          ...  ...          ...   \n",
       "120      47.578327    -0.420661    46.445945     8.325092  ...     6.071429   \n",
       "121      47.578327    -0.420661    46.445945     8.325092  ...     6.071429   \n",
       "122      47.578327    -0.420661    46.445945     8.325092  ...     6.071429   \n",
       "123      47.578327    -0.420661    46.445945     8.325092  ...     6.071429   \n",
       "124      47.578327    -0.420661    46.445945     8.325092  ...     6.071429   \n",
       "\n",
       "       Away_8101_y  Away_9623_x  Away_9623_y  Away_9626_x  Away_9626_y  \\\n",
       "Frame                                                                    \n",
       "0        -8.857143    11.928571    12.714286     3.928571     2.285714   \n",
       "1        -8.857143    11.928571    12.714286     3.928571     2.285714   \n",
       "2        -8.857143    11.928571    12.714286     3.928571     2.285714   \n",
       "3        -8.857143    11.928571    12.714286     3.928571     2.285714   \n",
       "4        -8.857143    11.928571    12.714286     3.928571     2.285714   \n",
       "...            ...          ...          ...          ...          ...   \n",
       "120      -8.857143    18.214286     8.285714     3.928571     2.285714   \n",
       "121      -8.857143    18.214286     8.285714     3.928571     2.285714   \n",
       "122      -8.857143    18.214286     8.285714     3.928571     2.285714   \n",
       "123      -8.857143    18.214286     8.285714     3.928571     2.285714   \n",
       "124      -8.857143    18.214286     8.285714     3.928571     2.285714   \n",
       "\n",
       "       Away_9627_x  Away_9627_y     ball_x    ball_y  \n",
       "Frame                                                 \n",
       "0        15.214286    22.428571  31.767998 -7.447681  \n",
       "1        15.214286    22.428571  31.767998 -7.447681  \n",
       "2        15.214286    22.428571  31.767998 -7.447681  \n",
       "3        15.214286    22.428571  31.767998 -7.447681  \n",
       "4        15.214286    22.428571  31.767998 -7.447681  \n",
       "...            ...          ...        ...       ...  \n",
       "120      25.357143    19.000000  53.214286 -3.428571  \n",
       "121      25.357143    19.000000  53.214286 -3.428571  \n",
       "122      25.357143    19.000000  53.214286 -3.428571  \n",
       "123      25.357143    19.000000  53.214286 -3.428571  \n",
       "124      25.357143    19.000000  53.214286 -3.428571  \n",
       "\n",
       "[125 rows x 24 columns]"
      ]
     },
     "execution_count": 316,
     "metadata": {},
     "output_type": "execute_result"
    }
   ],
   "source": [
    "liv_track1"
   ]
  },
  {
   "cell_type": "markdown",
   "metadata": {},
   "source": [
    "Period\tTime [s]\tHome_11_x\tHome_11_y\tHome_1_x\tHome_1_y\tHome_2_x\tHome_2_y\tHome_3_x\tHome_3_y\t...\tHome_10_x\tHome_10_y\tHome_12_x\tHome_12_y\tHome_13_x\tHome_13_y\tHome_14_x\tHome_14_y\tball_x\tball_y"
   ]
  },
  {
   "cell_type": "code",
   "execution_count": 317,
   "metadata": {},
   "outputs": [],
   "source": [
    "# Repeat for Opponent \n",
    "\n",
    "opp_track.columns = newoppcolum\n",
    "opp_track = opp_track.reset_index()\n",
    "opp_track1 = opp_track.drop('index',axis=1)\n",
    "opp_track1.insert(0, \"Period\", [1]*len(opp_track1), True) \n",
    "opp_track1.insert(1, \"Time [s]\",np.array(opp_track1.index)/20, True) \n",
    "opp_track1.index.name = 'Frame'"
   ]
  },
  {
   "cell_type": "code",
   "execution_count": 318,
   "metadata": {},
   "outputs": [
    {
     "data": {
      "text/html": [
       "<div>\n",
       "<style scoped>\n",
       "    .dataframe tbody tr th:only-of-type {\n",
       "        vertical-align: middle;\n",
       "    }\n",
       "\n",
       "    .dataframe tbody tr th {\n",
       "        vertical-align: top;\n",
       "    }\n",
       "\n",
       "    .dataframe thead th {\n",
       "        text-align: right;\n",
       "    }\n",
       "</style>\n",
       "<table border=\"1\" class=\"dataframe\">\n",
       "  <thead>\n",
       "    <tr style=\"text-align: right;\">\n",
       "      <th></th>\n",
       "      <th>Period</th>\n",
       "      <th>Time [s]</th>\n",
       "      <th>Home_379_x</th>\n",
       "      <th>Home_379_y</th>\n",
       "      <th>Home_380_x</th>\n",
       "      <th>Home_380_y</th>\n",
       "      <th>Home_381_x</th>\n",
       "      <th>Home_381_y</th>\n",
       "      <th>Home_382_x</th>\n",
       "      <th>Home_382_y</th>\n",
       "      <th>...</th>\n",
       "      <th>Home_9233_x</th>\n",
       "      <th>Home_9233_y</th>\n",
       "      <th>Home_9624_x</th>\n",
       "      <th>Home_9624_y</th>\n",
       "      <th>Home_9625_x</th>\n",
       "      <th>Home_9625_y</th>\n",
       "      <th>Home_10267_x</th>\n",
       "      <th>Home_10267_y</th>\n",
       "      <th>ball_x</th>\n",
       "      <th>ball_y</th>\n",
       "    </tr>\n",
       "    <tr>\n",
       "      <th>Frame</th>\n",
       "      <th></th>\n",
       "      <th></th>\n",
       "      <th></th>\n",
       "      <th></th>\n",
       "      <th></th>\n",
       "      <th></th>\n",
       "      <th></th>\n",
       "      <th></th>\n",
       "      <th></th>\n",
       "      <th></th>\n",
       "      <th></th>\n",
       "      <th></th>\n",
       "      <th></th>\n",
       "      <th></th>\n",
       "      <th></th>\n",
       "      <th></th>\n",
       "      <th></th>\n",
       "      <th></th>\n",
       "      <th></th>\n",
       "      <th></th>\n",
       "      <th></th>\n",
       "    </tr>\n",
       "  </thead>\n",
       "  <tbody>\n",
       "    <tr>\n",
       "      <th>0</th>\n",
       "      <td>1</td>\n",
       "      <td>0.00</td>\n",
       "      <td>35.33747</td>\n",
       "      <td>4.511364</td>\n",
       "      <td>37.811124</td>\n",
       "      <td>-0.257783</td>\n",
       "      <td>36.132087</td>\n",
       "      <td>-6.008809</td>\n",
       "      <td>35.787459</td>\n",
       "      <td>-14.69522</td>\n",
       "      <td>...</td>\n",
       "      <td>22.177383</td>\n",
       "      <td>18.708156</td>\n",
       "      <td>15.642857</td>\n",
       "      <td>12.714286</td>\n",
       "      <td>9.5</td>\n",
       "      <td>-1.428571</td>\n",
       "      <td>49.992282</td>\n",
       "      <td>-0.900204</td>\n",
       "      <td>31.767998</td>\n",
       "      <td>-7.447681</td>\n",
       "    </tr>\n",
       "    <tr>\n",
       "      <th>1</th>\n",
       "      <td>1</td>\n",
       "      <td>0.05</td>\n",
       "      <td>35.33747</td>\n",
       "      <td>4.511364</td>\n",
       "      <td>37.811124</td>\n",
       "      <td>-0.257783</td>\n",
       "      <td>36.132087</td>\n",
       "      <td>-6.008809</td>\n",
       "      <td>35.787459</td>\n",
       "      <td>-14.69522</td>\n",
       "      <td>...</td>\n",
       "      <td>22.177383</td>\n",
       "      <td>18.708156</td>\n",
       "      <td>15.642857</td>\n",
       "      <td>12.714286</td>\n",
       "      <td>9.5</td>\n",
       "      <td>-1.428571</td>\n",
       "      <td>49.992282</td>\n",
       "      <td>-0.900204</td>\n",
       "      <td>31.767998</td>\n",
       "      <td>-7.447681</td>\n",
       "    </tr>\n",
       "    <tr>\n",
       "      <th>2</th>\n",
       "      <td>1</td>\n",
       "      <td>0.10</td>\n",
       "      <td>35.33747</td>\n",
       "      <td>4.511364</td>\n",
       "      <td>37.811124</td>\n",
       "      <td>-0.257783</td>\n",
       "      <td>36.132087</td>\n",
       "      <td>-6.008809</td>\n",
       "      <td>35.787459</td>\n",
       "      <td>-14.69522</td>\n",
       "      <td>...</td>\n",
       "      <td>22.177383</td>\n",
       "      <td>18.708156</td>\n",
       "      <td>15.642857</td>\n",
       "      <td>12.714286</td>\n",
       "      <td>9.5</td>\n",
       "      <td>-1.428571</td>\n",
       "      <td>49.992282</td>\n",
       "      <td>-0.900204</td>\n",
       "      <td>31.767998</td>\n",
       "      <td>-7.447681</td>\n",
       "    </tr>\n",
       "    <tr>\n",
       "      <th>3</th>\n",
       "      <td>1</td>\n",
       "      <td>0.15</td>\n",
       "      <td>35.33747</td>\n",
       "      <td>4.511364</td>\n",
       "      <td>37.811124</td>\n",
       "      <td>-0.257783</td>\n",
       "      <td>36.132087</td>\n",
       "      <td>-6.008809</td>\n",
       "      <td>35.787459</td>\n",
       "      <td>-14.69522</td>\n",
       "      <td>...</td>\n",
       "      <td>22.177383</td>\n",
       "      <td>18.708156</td>\n",
       "      <td>15.642857</td>\n",
       "      <td>12.714286</td>\n",
       "      <td>9.5</td>\n",
       "      <td>-1.428571</td>\n",
       "      <td>49.992282</td>\n",
       "      <td>-0.900204</td>\n",
       "      <td>31.767998</td>\n",
       "      <td>-7.447681</td>\n",
       "    </tr>\n",
       "    <tr>\n",
       "      <th>4</th>\n",
       "      <td>1</td>\n",
       "      <td>0.20</td>\n",
       "      <td>35.33747</td>\n",
       "      <td>4.511364</td>\n",
       "      <td>37.811124</td>\n",
       "      <td>-0.257783</td>\n",
       "      <td>36.132087</td>\n",
       "      <td>-6.008809</td>\n",
       "      <td>35.787459</td>\n",
       "      <td>-14.69522</td>\n",
       "      <td>...</td>\n",
       "      <td>22.177383</td>\n",
       "      <td>18.708156</td>\n",
       "      <td>15.642857</td>\n",
       "      <td>12.714286</td>\n",
       "      <td>9.5</td>\n",
       "      <td>-1.428571</td>\n",
       "      <td>49.992282</td>\n",
       "      <td>-0.900204</td>\n",
       "      <td>31.767998</td>\n",
       "      <td>-7.447681</td>\n",
       "    </tr>\n",
       "  </tbody>\n",
       "</table>\n",
       "<p>5 rows × 26 columns</p>\n",
       "</div>"
      ],
      "text/plain": [
       "       Period  Time [s]  Home_379_x  Home_379_y  Home_380_x  Home_380_y  \\\n",
       "Frame                                                                     \n",
       "0           1      0.00    35.33747    4.511364   37.811124   -0.257783   \n",
       "1           1      0.05    35.33747    4.511364   37.811124   -0.257783   \n",
       "2           1      0.10    35.33747    4.511364   37.811124   -0.257783   \n",
       "3           1      0.15    35.33747    4.511364   37.811124   -0.257783   \n",
       "4           1      0.20    35.33747    4.511364   37.811124   -0.257783   \n",
       "\n",
       "       Home_381_x  Home_381_y  Home_382_x  Home_382_y  ...  Home_9233_x  \\\n",
       "Frame                                                  ...                \n",
       "0       36.132087   -6.008809   35.787459   -14.69522  ...    22.177383   \n",
       "1       36.132087   -6.008809   35.787459   -14.69522  ...    22.177383   \n",
       "2       36.132087   -6.008809   35.787459   -14.69522  ...    22.177383   \n",
       "3       36.132087   -6.008809   35.787459   -14.69522  ...    22.177383   \n",
       "4       36.132087   -6.008809   35.787459   -14.69522  ...    22.177383   \n",
       "\n",
       "       Home_9233_y  Home_9624_x  Home_9624_y  Home_9625_x  Home_9625_y  \\\n",
       "Frame                                                                    \n",
       "0        18.708156    15.642857    12.714286          9.5    -1.428571   \n",
       "1        18.708156    15.642857    12.714286          9.5    -1.428571   \n",
       "2        18.708156    15.642857    12.714286          9.5    -1.428571   \n",
       "3        18.708156    15.642857    12.714286          9.5    -1.428571   \n",
       "4        18.708156    15.642857    12.714286          9.5    -1.428571   \n",
       "\n",
       "       Home_10267_x  Home_10267_y     ball_x    ball_y  \n",
       "Frame                                                   \n",
       "0         49.992282     -0.900204  31.767998 -7.447681  \n",
       "1         49.992282     -0.900204  31.767998 -7.447681  \n",
       "2         49.992282     -0.900204  31.767998 -7.447681  \n",
       "3         49.992282     -0.900204  31.767998 -7.447681  \n",
       "4         49.992282     -0.900204  31.767998 -7.447681  \n",
       "\n",
       "[5 rows x 26 columns]"
      ]
     },
     "execution_count": 318,
     "metadata": {},
     "output_type": "execute_result"
    }
   ],
   "source": [
    "opp_track1.head()"
   ]
  },
  {
   "cell_type": "markdown",
   "metadata": {},
   "source": [
    "### Reformatting the Events Data from the starter notebook into the Metrica Format "
   ]
  },
  {
   "cell_type": "markdown",
   "metadata": {},
   "source": [
    "Assume the only events in the Last Row dataset are passes n shots. We already computed this from before. "
   ]
  },
  {
   "cell_type": "code",
   "execution_count": 402,
   "metadata": {},
   "outputs": [
    {
     "data": {
      "text/plain": [
       "Index(['Leicester 0 - [3] Liverpool'], dtype='object', name='play')"
      ]
     },
     "execution_count": 402,
     "metadata": {},
     "output_type": "execute_result"
    }
   ],
   "source": [
    "# Slight changes in read_csv arg for now so read data again \n",
    "data = pd.read_csv('../datasets/positional_data/liverpool_2019.csv', index_col=('play', 'frame'))\n",
    "\n",
    "play = 'Leicester 0 - [3] Liverpool' \n",
    "df = data.loc[play]\n",
    "\n",
    "dfo.index.get_level_values('play').unique()"
   ]
  },
  {
   "cell_type": "code",
   "execution_count": 512,
   "metadata": {},
   "outputs": [
    {
     "name": "stderr",
     "output_type": "stream",
     "text": [
      "C:\\Users\\Gerald Lim\\Anaconda3\\envs\\mlpy\\lib\\site-packages\\ipykernel_launcher.py:19: SettingWithCopyWarning: \n",
      "A value is trying to be set on a copy of a slice from a DataFrame\n",
      "\n",
      "See the caveats in the documentation: https://pandas.pydata.org/pandas-docs/stable/user_guide/indexing.html#returning-a-view-versus-a-copy\n",
      "C:\\Users\\Gerald Lim\\Anaconda3\\envs\\mlpy\\lib\\site-packages\\pandas\\core\\indexing.py:671: SettingWithCopyWarning: \n",
      "A value is trying to be set on a copy of a slice from a DataFrame\n",
      "\n",
      "See the caveats in the documentation: https://pandas.pydata.org/pandas-docs/stable/user_guide/indexing.html#returning-a-view-versus-a-copy\n",
      "  self._setitem_with_indexer(indexer, value)\n",
      "C:\\Users\\Gerald Lim\\Anaconda3\\envs\\mlpy\\lib\\site-packages\\ipykernel_launcher.py:20: SettingWithCopyWarning: \n",
      "A value is trying to be set on a copy of a slice from a DataFrame\n",
      "\n",
      "See the caveats in the documentation: https://pandas.pydata.org/pandas-docs/stable/user_guide/indexing.html#returning-a-view-versus-a-copy\n",
      "C:\\Users\\Gerald Lim\\Anaconda3\\envs\\mlpy\\lib\\site-packages\\ipykernel_launcher.py:22: SettingWithCopyWarning: \n",
      "A value is trying to be set on a copy of a slice from a DataFrame\n",
      "\n",
      "See the caveats in the documentation: https://pandas.pydata.org/pandas-docs/stable/user_guide/indexing.html#returning-a-view-versus-a-copy\n"
     ]
    }
   ],
   "source": [
    "dfo_goals = dfo.index.get_level_values('play').unique()\n",
    "dfo_shots = get_shots(dfo_goals, invert = False)\n",
    "\n",
    "dfoPossession = get_possession_df(dfo)\n",
    "dfoPasses = get_passes_df(dfoPossession)"
   ]
  },
  {
   "cell_type": "code",
   "execution_count": 513,
   "metadata": {},
   "outputs": [
    {
     "data": {
      "text/html": [
       "<div>\n",
       "<style scoped>\n",
       "    .dataframe tbody tr th:only-of-type {\n",
       "        vertical-align: middle;\n",
       "    }\n",
       "\n",
       "    .dataframe tbody tr th {\n",
       "        vertical-align: top;\n",
       "    }\n",
       "\n",
       "    .dataframe thead th {\n",
       "        text-align: right;\n",
       "    }\n",
       "</style>\n",
       "<table border=\"1\" class=\"dataframe\">\n",
       "  <thead>\n",
       "    <tr style=\"text-align: right;\">\n",
       "      <th></th>\n",
       "      <th>Unnamed: 0</th>\n",
       "      <th>bgcolor</th>\n",
       "      <th>dif_x</th>\n",
       "      <th>dif_y</th>\n",
       "      <th>dx</th>\n",
       "      <th>dy</th>\n",
       "      <th>edgecolor</th>\n",
       "      <th>frame</th>\n",
       "      <th>frame_end</th>\n",
       "      <th>player</th>\n",
       "      <th>player_num</th>\n",
       "      <th>team</th>\n",
       "      <th>x</th>\n",
       "      <th>x_ball</th>\n",
       "      <th>x_end</th>\n",
       "      <th>y</th>\n",
       "      <th>y_ball</th>\n",
       "      <th>y_end</th>\n",
       "      <th>z</th>\n",
       "      <th>Goal</th>\n",
       "    </tr>\n",
       "  </thead>\n",
       "  <tbody>\n",
       "    <tr>\n",
       "      <th>44</th>\n",
       "      <td>221.0</td>\n",
       "      <td>red</td>\n",
       "      <td>0.0</td>\n",
       "      <td>0.0</td>\n",
       "      <td>0.017511</td>\n",
       "      <td>0.064723</td>\n",
       "      <td>white</td>\n",
       "      <td>96.0</td>\n",
       "      <td>124.0</td>\n",
       "      <td>13.0</td>\n",
       "      <td>9.0</td>\n",
       "      <td>attack</td>\n",
       "      <td>93.13465</td>\n",
       "      <td>93.13465</td>\n",
       "      <td>100.680272</td>\n",
       "      <td>54.246567</td>\n",
       "      <td>54.246567</td>\n",
       "      <td>44.957983</td>\n",
       "      <td>0.0</td>\n",
       "      <td>Leicester 0 - [3] Liverpool</td>\n",
       "    </tr>\n",
       "  </tbody>\n",
       "</table>\n",
       "</div>"
      ],
      "text/plain": [
       "    Unnamed: 0 bgcolor  dif_x  dif_y        dx        dy edgecolor  frame  \\\n",
       "44       221.0     red    0.0    0.0  0.017511  0.064723     white   96.0   \n",
       "\n",
       "    frame_end  player  player_num    team         x    x_ball       x_end  \\\n",
       "44      124.0    13.0         9.0  attack  93.13465  93.13465  100.680272   \n",
       "\n",
       "            y     y_ball      y_end    z                         Goal  \n",
       "44  54.246567  54.246567  44.957983  0.0  Leicester 0 - [3] Liverpool  "
      ]
     },
     "execution_count": 513,
     "metadata": {},
     "output_type": "execute_result"
    }
   ],
   "source": [
    "dfo_shots"
   ]
  },
  {
   "cell_type": "code",
   "execution_count": 514,
   "metadata": {},
   "outputs": [],
   "source": [
    "dfo_shots_form = dfo_shots[['team','frame','frame_end', 'player','x','y','x_end','y_end']]\n",
    "dfo_shots_form.insert(4, \"to_player\", np.nan, True) "
   ]
  },
  {
   "cell_type": "code",
   "execution_count": 515,
   "metadata": {},
   "outputs": [],
   "source": [
    "dfo_shots_form = dfo_shots_form.rename(columns={\"team\": \"Team\", \"frame\": \"Start Frame\", \"frame_end\": \"End Frame\", \"player\": \"From\", \"to_player\": \"To\", \"x\": \"Start X\", \"y\": \"Start Y\", \"x_end\": \"End X\", \"y_end\": \"End Y\"})"
   ]
  },
  {
   "cell_type": "code",
   "execution_count": 516,
   "metadata": {},
   "outputs": [
    {
     "data": {
      "text/html": [
       "<div>\n",
       "<style scoped>\n",
       "    .dataframe tbody tr th:only-of-type {\n",
       "        vertical-align: middle;\n",
       "    }\n",
       "\n",
       "    .dataframe tbody tr th {\n",
       "        vertical-align: top;\n",
       "    }\n",
       "\n",
       "    .dataframe thead th {\n",
       "        text-align: right;\n",
       "    }\n",
       "</style>\n",
       "<table border=\"1\" class=\"dataframe\">\n",
       "  <thead>\n",
       "    <tr style=\"text-align: right;\">\n",
       "      <th></th>\n",
       "      <th>Team</th>\n",
       "      <th>Start Frame</th>\n",
       "      <th>End Frame</th>\n",
       "      <th>From</th>\n",
       "      <th>To</th>\n",
       "      <th>Start X</th>\n",
       "      <th>Start Y</th>\n",
       "      <th>End X</th>\n",
       "      <th>End Y</th>\n",
       "    </tr>\n",
       "  </thead>\n",
       "  <tbody>\n",
       "    <tr>\n",
       "      <th>44</th>\n",
       "      <td>attack</td>\n",
       "      <td>96.0</td>\n",
       "      <td>124.0</td>\n",
       "      <td>13.0</td>\n",
       "      <td>NaN</td>\n",
       "      <td>93.13465</td>\n",
       "      <td>54.246567</td>\n",
       "      <td>100.680272</td>\n",
       "      <td>44.957983</td>\n",
       "    </tr>\n",
       "  </tbody>\n",
       "</table>\n",
       "</div>"
      ],
      "text/plain": [
       "      Team  Start Frame  End Frame  From  To   Start X    Start Y       End X  \\\n",
       "44  attack         96.0      124.0  13.0 NaN  93.13465  54.246567  100.680272   \n",
       "\n",
       "        End Y  \n",
       "44  44.957983  "
      ]
     },
     "execution_count": 516,
     "metadata": {},
     "output_type": "execute_result"
    }
   ],
   "source": [
    "dfo_shots_form "
   ]
  },
  {
   "cell_type": "code",
   "execution_count": 517,
   "metadata": {},
   "outputs": [],
   "source": [
    "dfo_shots_form.insert(1, \"Type\", ['SHOT'], True)\n",
    "dfo_shots_form.insert(2, \"Subtype\", ['ON TARGET-GOAL'], True)\n",
    "dfo_shots_form.insert(3, \"Period\", [1], True)\n",
    "dfo_shots_form.insert(5, \"Start Time [s]\", np.array(dfo_shots_form['Start Frame'])/20 , True)\n",
    "dfo_shots_form.insert(7, \"End Time [s]\", np.array(dfo_shots_form['End Frame'])/20, True)\n",
    "dfo_shots_form.Team = 'Away'"
   ]
  },
  {
   "cell_type": "code",
   "execution_count": 518,
   "metadata": {},
   "outputs": [
    {
     "data": {
      "text/html": [
       "<div>\n",
       "<style scoped>\n",
       "    .dataframe tbody tr th:only-of-type {\n",
       "        vertical-align: middle;\n",
       "    }\n",
       "\n",
       "    .dataframe tbody tr th {\n",
       "        vertical-align: top;\n",
       "    }\n",
       "\n",
       "    .dataframe thead th {\n",
       "        text-align: right;\n",
       "    }\n",
       "</style>\n",
       "<table border=\"1\" class=\"dataframe\">\n",
       "  <thead>\n",
       "    <tr style=\"text-align: right;\">\n",
       "      <th></th>\n",
       "      <th>Team</th>\n",
       "      <th>Type</th>\n",
       "      <th>Subtype</th>\n",
       "      <th>Period</th>\n",
       "      <th>Start Frame</th>\n",
       "      <th>Start Time [s]</th>\n",
       "      <th>End Frame</th>\n",
       "      <th>End Time [s]</th>\n",
       "      <th>From</th>\n",
       "      <th>To</th>\n",
       "      <th>Start X</th>\n",
       "      <th>Start Y</th>\n",
       "      <th>End X</th>\n",
       "      <th>End Y</th>\n",
       "    </tr>\n",
       "  </thead>\n",
       "  <tbody>\n",
       "    <tr>\n",
       "      <th>44</th>\n",
       "      <td>Away</td>\n",
       "      <td>SHOT</td>\n",
       "      <td>ON TARGET-GOAL</td>\n",
       "      <td>1</td>\n",
       "      <td>96.0</td>\n",
       "      <td>4.8</td>\n",
       "      <td>124.0</td>\n",
       "      <td>6.2</td>\n",
       "      <td>13.0</td>\n",
       "      <td>NaN</td>\n",
       "      <td>93.13465</td>\n",
       "      <td>54.246567</td>\n",
       "      <td>100.680272</td>\n",
       "      <td>44.957983</td>\n",
       "    </tr>\n",
       "  </tbody>\n",
       "</table>\n",
       "</div>"
      ],
      "text/plain": [
       "    Team  Type         Subtype  Period  Start Frame  Start Time [s]  \\\n",
       "44  Away  SHOT  ON TARGET-GOAL       1         96.0             4.8   \n",
       "\n",
       "    End Frame  End Time [s]  From  To   Start X    Start Y       End X  \\\n",
       "44      124.0           6.2  13.0 NaN  93.13465  54.246567  100.680272   \n",
       "\n",
       "        End Y  \n",
       "44  44.957983  "
      ]
     },
     "execution_count": 518,
     "metadata": {},
     "output_type": "execute_result"
    }
   ],
   "source": [
    "dfo_shots_form"
   ]
  },
  {
   "cell_type": "markdown",
   "metadata": {},
   "source": [
    "**Passes**"
   ]
  },
  {
   "cell_type": "code",
   "execution_count": 519,
   "metadata": {},
   "outputs": [
    {
     "data": {
      "text/html": [
       "<div>\n",
       "<style scoped>\n",
       "    .dataframe tbody tr th:only-of-type {\n",
       "        vertical-align: middle;\n",
       "    }\n",
       "\n",
       "    .dataframe tbody tr th {\n",
       "        vertical-align: top;\n",
       "    }\n",
       "\n",
       "    .dataframe thead th {\n",
       "        text-align: right;\n",
       "    }\n",
       "</style>\n",
       "<table border=\"1\" class=\"dataframe\">\n",
       "  <thead>\n",
       "    <tr style=\"text-align: right;\">\n",
       "      <th></th>\n",
       "      <th>from_team</th>\n",
       "      <th>from_frame</th>\n",
       "      <th>to_frame</th>\n",
       "      <th>from_player</th>\n",
       "      <th>to_player</th>\n",
       "      <th>from_x</th>\n",
       "      <th>from_y</th>\n",
       "      <th>to_x</th>\n",
       "      <th>to_y</th>\n",
       "    </tr>\n",
       "  </thead>\n",
       "  <tbody>\n",
       "    <tr>\n",
       "      <th>0</th>\n",
       "      <td>attack</td>\n",
       "      <td>24</td>\n",
       "      <td>60.0</td>\n",
       "      <td>2937</td>\n",
       "      <td>65.0</td>\n",
       "      <td>83.3973</td>\n",
       "      <td>36.103011</td>\n",
       "      <td>92.139400</td>\n",
       "      <td>16.669171</td>\n",
       "    </tr>\n",
       "    <tr>\n",
       "      <th>1</th>\n",
       "      <td>attack</td>\n",
       "      <td>60</td>\n",
       "      <td>78.0</td>\n",
       "      <td>65</td>\n",
       "      <td>13.0</td>\n",
       "      <td>92.1394</td>\n",
       "      <td>16.669171</td>\n",
       "      <td>91.973975</td>\n",
       "      <td>52.775476</td>\n",
       "    </tr>\n",
       "  </tbody>\n",
       "</table>\n",
       "</div>"
      ],
      "text/plain": [
       "  from_team  from_frame  to_frame  from_player  to_player   from_x     from_y  \\\n",
       "0    attack          24      60.0         2937       65.0  83.3973  36.103011   \n",
       "1    attack          60      78.0           65       13.0  92.1394  16.669171   \n",
       "\n",
       "        to_x       to_y  \n",
       "0  92.139400  16.669171  \n",
       "1  91.973975  52.775476  "
      ]
     },
     "execution_count": 519,
     "metadata": {},
     "output_type": "execute_result"
    }
   ],
   "source": [
    "dfoPasses_form = dfoPasses[['from_team','from_frame','to_frame','from_player','to_player','from_x','from_y','to_x','to_y']]\n",
    "dfoPasses_form"
   ]
  },
  {
   "cell_type": "code",
   "execution_count": 520,
   "metadata": {},
   "outputs": [],
   "source": [
    "dfoPasses_form = dfoPasses_form.rename(columns={\"from_team\": \"Team\", \"from_frame\": \"Start Frame\", \"to_frame\": \"End Frame\", \"from_player\": \"From\", \"to_player\": \"To\", \"from_x\": \"Start X\", \"from_y\": \"Start Y\", \"to_x\": \"End X\", \"to_y\": \"End Y\"})"
   ]
  },
  {
   "cell_type": "markdown",
   "metadata": {},
   "source": [
    "Metrica <br>\n",
    "Team\tType\tSubtype\tPeriod\tStart Frame\tStart Time [s]\tEnd Frame\tEnd Time [s]\tFrom\tTo\tStart X\tStart Y\tEnd X\tEnd Y"
   ]
  },
  {
   "cell_type": "code",
   "execution_count": 521,
   "metadata": {},
   "outputs": [],
   "source": [
    "dfoPasses_form.insert(1, \"Type\", ['PASS']*len(dfoPasses_form), True)\n",
    "dfoPasses_form.insert(2, \"Subtype\", [np.nan]*len(dfoPasses_form), True)\n",
    "dfoPasses_form.insert(3, \"Period\", [1]*len(dfoPasses_form), True)\n",
    "dfoPasses_form.insert(5, \"Start Time [s]\", np.array(dfoPasses_form['Start Frame'])/20 , True)\n",
    "dfoPasses_form.insert(7, \"End Time [s]\", np.array(dfoPasses_form['End Frame'])/20, True)\n",
    "dfoPasses_form.Team = 'Away'"
   ]
  },
  {
   "cell_type": "code",
   "execution_count": 522,
   "metadata": {},
   "outputs": [
    {
     "data": {
      "text/html": [
       "<div>\n",
       "<style scoped>\n",
       "    .dataframe tbody tr th:only-of-type {\n",
       "        vertical-align: middle;\n",
       "    }\n",
       "\n",
       "    .dataframe tbody tr th {\n",
       "        vertical-align: top;\n",
       "    }\n",
       "\n",
       "    .dataframe thead th {\n",
       "        text-align: right;\n",
       "    }\n",
       "</style>\n",
       "<table border=\"1\" class=\"dataframe\">\n",
       "  <thead>\n",
       "    <tr style=\"text-align: right;\">\n",
       "      <th></th>\n",
       "      <th>Team</th>\n",
       "      <th>Type</th>\n",
       "      <th>Subtype</th>\n",
       "      <th>Period</th>\n",
       "      <th>Start Frame</th>\n",
       "      <th>Start Time [s]</th>\n",
       "      <th>End Frame</th>\n",
       "      <th>End Time [s]</th>\n",
       "      <th>From</th>\n",
       "      <th>To</th>\n",
       "      <th>Start X</th>\n",
       "      <th>Start Y</th>\n",
       "      <th>End X</th>\n",
       "      <th>End Y</th>\n",
       "    </tr>\n",
       "  </thead>\n",
       "  <tbody>\n",
       "    <tr>\n",
       "      <th>0</th>\n",
       "      <td>Away</td>\n",
       "      <td>PASS</td>\n",
       "      <td>NaN</td>\n",
       "      <td>1</td>\n",
       "      <td>24</td>\n",
       "      <td>1.2</td>\n",
       "      <td>60.0</td>\n",
       "      <td>3.0</td>\n",
       "      <td>2937</td>\n",
       "      <td>65.0</td>\n",
       "      <td>83.3973</td>\n",
       "      <td>36.103011</td>\n",
       "      <td>92.139400</td>\n",
       "      <td>16.669171</td>\n",
       "    </tr>\n",
       "    <tr>\n",
       "      <th>1</th>\n",
       "      <td>Away</td>\n",
       "      <td>PASS</td>\n",
       "      <td>NaN</td>\n",
       "      <td>1</td>\n",
       "      <td>60</td>\n",
       "      <td>3.0</td>\n",
       "      <td>78.0</td>\n",
       "      <td>3.9</td>\n",
       "      <td>65</td>\n",
       "      <td>13.0</td>\n",
       "      <td>92.1394</td>\n",
       "      <td>16.669171</td>\n",
       "      <td>91.973975</td>\n",
       "      <td>52.775476</td>\n",
       "    </tr>\n",
       "  </tbody>\n",
       "</table>\n",
       "</div>"
      ],
      "text/plain": [
       "   Team  Type  Subtype  Period  Start Frame  Start Time [s]  End Frame  \\\n",
       "0  Away  PASS      NaN       1           24             1.2       60.0   \n",
       "1  Away  PASS      NaN       1           60             3.0       78.0   \n",
       "\n",
       "   End Time [s]  From    To  Start X    Start Y      End X      End Y  \n",
       "0           3.0  2937  65.0  83.3973  36.103011  92.139400  16.669171  \n",
       "1           3.9    65  13.0  92.1394  16.669171  91.973975  52.775476  "
      ]
     },
     "execution_count": 522,
     "metadata": {},
     "output_type": "execute_result"
    }
   ],
   "source": [
    "dfoPasses_form"
   ]
  },
  {
   "cell_type": "code",
   "execution_count": 523,
   "metadata": {},
   "outputs": [],
   "source": [
    "dfoEvents = dfoPasses_form.append(dfo_shots_form)"
   ]
  },
  {
   "cell_type": "markdown",
   "metadata": {},
   "source": [
    "Transform the data such that (0,0) is centre circle"
   ]
  },
  {
   "cell_type": "code",
   "execution_count": 524,
   "metadata": {},
   "outputs": [],
   "source": [
    "dfoEvents['Start X'] -= 50\n",
    "dfoEvents['End X'] -= 50\n",
    "dfoEvents['Start Y'] -= 50\n",
    "dfoEvents['End Y'] -= 50"
   ]
  },
  {
   "cell_type": "markdown",
   "metadata": {},
   "source": [
    "Scale the Data to Pitch dimensions 105 x 68"
   ]
  },
  {
   "cell_type": "code",
   "execution_count": 525,
   "metadata": {},
   "outputs": [],
   "source": [
    "dfoEvents['Start X'] *= field_dimen[0]\n",
    "dfoEvents['End X'] *= field_dimen[0]\n",
    "dfoEvents['Start Y'] *= field_dimen[1]\n",
    "dfoEvents['End Y'] *= field_dimen[1]"
   ]
  },
  {
   "cell_type": "code",
   "execution_count": 526,
   "metadata": {},
   "outputs": [
    {
     "data": {
      "text/html": [
       "<div>\n",
       "<style scoped>\n",
       "    .dataframe tbody tr th:only-of-type {\n",
       "        vertical-align: middle;\n",
       "    }\n",
       "\n",
       "    .dataframe tbody tr th {\n",
       "        vertical-align: top;\n",
       "    }\n",
       "\n",
       "    .dataframe thead th {\n",
       "        text-align: right;\n",
       "    }\n",
       "</style>\n",
       "<table border=\"1\" class=\"dataframe\">\n",
       "  <thead>\n",
       "    <tr style=\"text-align: right;\">\n",
       "      <th></th>\n",
       "      <th>Team</th>\n",
       "      <th>Type</th>\n",
       "      <th>Subtype</th>\n",
       "      <th>Period</th>\n",
       "      <th>Start Frame</th>\n",
       "      <th>Start Time [s]</th>\n",
       "      <th>End Frame</th>\n",
       "      <th>End Time [s]</th>\n",
       "      <th>From</th>\n",
       "      <th>To</th>\n",
       "      <th>Start X</th>\n",
       "      <th>Start Y</th>\n",
       "      <th>End X</th>\n",
       "      <th>End Y</th>\n",
       "    </tr>\n",
       "  </thead>\n",
       "  <tbody>\n",
       "    <tr>\n",
       "      <th>0</th>\n",
       "      <td>Away</td>\n",
       "      <td>PASS</td>\n",
       "      <td>NaN</td>\n",
       "      <td>1</td>\n",
       "      <td>24.0</td>\n",
       "      <td>1.2</td>\n",
       "      <td>60.0</td>\n",
       "      <td>3.0</td>\n",
       "      <td>2937.0</td>\n",
       "      <td>65.0</td>\n",
       "      <td>35.067165</td>\n",
       "      <td>-9.449953</td>\n",
       "      <td>44.246370</td>\n",
       "      <td>-22.664964</td>\n",
       "    </tr>\n",
       "    <tr>\n",
       "      <th>1</th>\n",
       "      <td>Away</td>\n",
       "      <td>PASS</td>\n",
       "      <td>NaN</td>\n",
       "      <td>1</td>\n",
       "      <td>60.0</td>\n",
       "      <td>3.0</td>\n",
       "      <td>78.0</td>\n",
       "      <td>3.9</td>\n",
       "      <td>65.0</td>\n",
       "      <td>13.0</td>\n",
       "      <td>44.246370</td>\n",
       "      <td>-22.664964</td>\n",
       "      <td>44.072673</td>\n",
       "      <td>1.887324</td>\n",
       "    </tr>\n",
       "    <tr>\n",
       "      <th>44</th>\n",
       "      <td>Away</td>\n",
       "      <td>SHOT</td>\n",
       "      <td>ON TARGET-GOAL</td>\n",
       "      <td>1</td>\n",
       "      <td>96.0</td>\n",
       "      <td>4.8</td>\n",
       "      <td>124.0</td>\n",
       "      <td>6.2</td>\n",
       "      <td>13.0</td>\n",
       "      <td>NaN</td>\n",
       "      <td>45.291382</td>\n",
       "      <td>2.887665</td>\n",
       "      <td>53.214286</td>\n",
       "      <td>-3.428571</td>\n",
       "    </tr>\n",
       "  </tbody>\n",
       "</table>\n",
       "</div>"
      ],
      "text/plain": [
       "    Team  Type         Subtype  Period  Start Frame  Start Time [s]  \\\n",
       "0   Away  PASS             NaN       1         24.0             1.2   \n",
       "1   Away  PASS             NaN       1         60.0             3.0   \n",
       "44  Away  SHOT  ON TARGET-GOAL       1         96.0             4.8   \n",
       "\n",
       "    End Frame  End Time [s]    From    To    Start X    Start Y      End X  \\\n",
       "0        60.0           3.0  2937.0  65.0  35.067165  -9.449953  44.246370   \n",
       "1        78.0           3.9    65.0  13.0  44.246370 -22.664964  44.072673   \n",
       "44      124.0           6.2    13.0   NaN  45.291382   2.887665  53.214286   \n",
       "\n",
       "        End Y  \n",
       "0  -22.664964  \n",
       "1    1.887324  \n",
       "44  -3.428571  "
      ]
     },
     "execution_count": 526,
     "metadata": {},
     "output_type": "execute_result"
    }
   ],
   "source": [
    "dfoEvents"
   ]
  },
  {
   "cell_type": "code",
   "execution_count": 527,
   "metadata": {},
   "outputs": [],
   "source": [
    "dfoEvents['From'] = ['Player'+str(x)[:-2] if x != np.nan else x for x in dfoEvents['From']]\n",
    "dfoEvents['To'] = ['Player'+str(x)[:-2] if np.isnan(x) != True else x for x in dfoEvents['To']] "
   ]
  },
  {
   "cell_type": "code",
   "execution_count": 528,
   "metadata": {},
   "outputs": [
    {
     "data": {
      "text/html": [
       "<div>\n",
       "<style scoped>\n",
       "    .dataframe tbody tr th:only-of-type {\n",
       "        vertical-align: middle;\n",
       "    }\n",
       "\n",
       "    .dataframe tbody tr th {\n",
       "        vertical-align: top;\n",
       "    }\n",
       "\n",
       "    .dataframe thead th {\n",
       "        text-align: right;\n",
       "    }\n",
       "</style>\n",
       "<table border=\"1\" class=\"dataframe\">\n",
       "  <thead>\n",
       "    <tr style=\"text-align: right;\">\n",
       "      <th></th>\n",
       "      <th>Team</th>\n",
       "      <th>Type</th>\n",
       "      <th>Subtype</th>\n",
       "      <th>Period</th>\n",
       "      <th>Start Frame</th>\n",
       "      <th>Start Time [s]</th>\n",
       "      <th>End Frame</th>\n",
       "      <th>End Time [s]</th>\n",
       "      <th>From</th>\n",
       "      <th>To</th>\n",
       "      <th>Start X</th>\n",
       "      <th>Start Y</th>\n",
       "      <th>End X</th>\n",
       "      <th>End Y</th>\n",
       "    </tr>\n",
       "  </thead>\n",
       "  <tbody>\n",
       "    <tr>\n",
       "      <th>0</th>\n",
       "      <td>Away</td>\n",
       "      <td>PASS</td>\n",
       "      <td>NaN</td>\n",
       "      <td>1</td>\n",
       "      <td>24.0</td>\n",
       "      <td>1.2</td>\n",
       "      <td>60.0</td>\n",
       "      <td>3.0</td>\n",
       "      <td>Player2937</td>\n",
       "      <td>Player65</td>\n",
       "      <td>35.067165</td>\n",
       "      <td>-9.449953</td>\n",
       "      <td>44.246370</td>\n",
       "      <td>-22.664964</td>\n",
       "    </tr>\n",
       "    <tr>\n",
       "      <th>1</th>\n",
       "      <td>Away</td>\n",
       "      <td>PASS</td>\n",
       "      <td>NaN</td>\n",
       "      <td>1</td>\n",
       "      <td>60.0</td>\n",
       "      <td>3.0</td>\n",
       "      <td>78.0</td>\n",
       "      <td>3.9</td>\n",
       "      <td>Player65</td>\n",
       "      <td>Player13</td>\n",
       "      <td>44.246370</td>\n",
       "      <td>-22.664964</td>\n",
       "      <td>44.072673</td>\n",
       "      <td>1.887324</td>\n",
       "    </tr>\n",
       "    <tr>\n",
       "      <th>44</th>\n",
       "      <td>Away</td>\n",
       "      <td>SHOT</td>\n",
       "      <td>ON TARGET-GOAL</td>\n",
       "      <td>1</td>\n",
       "      <td>96.0</td>\n",
       "      <td>4.8</td>\n",
       "      <td>124.0</td>\n",
       "      <td>6.2</td>\n",
       "      <td>Player13</td>\n",
       "      <td>NaN</td>\n",
       "      <td>45.291382</td>\n",
       "      <td>2.887665</td>\n",
       "      <td>53.214286</td>\n",
       "      <td>-3.428571</td>\n",
       "    </tr>\n",
       "  </tbody>\n",
       "</table>\n",
       "</div>"
      ],
      "text/plain": [
       "    Team  Type         Subtype  Period  Start Frame  Start Time [s]  \\\n",
       "0   Away  PASS             NaN       1         24.0             1.2   \n",
       "1   Away  PASS             NaN       1         60.0             3.0   \n",
       "44  Away  SHOT  ON TARGET-GOAL       1         96.0             4.8   \n",
       "\n",
       "    End Frame  End Time [s]        From        To    Start X    Start Y  \\\n",
       "0        60.0           3.0  Player2937  Player65  35.067165  -9.449953   \n",
       "1        78.0           3.9    Player65  Player13  44.246370 -22.664964   \n",
       "44      124.0           6.2    Player13       NaN  45.291382   2.887665   \n",
       "\n",
       "        End X      End Y  \n",
       "0   44.246370 -22.664964  \n",
       "1   44.072673   1.887324  \n",
       "44  53.214286  -3.428571  "
      ]
     },
     "execution_count": 528,
     "metadata": {},
     "output_type": "execute_result"
    }
   ],
   "source": [
    "dfoEvents"
   ]
  },
  {
   "cell_type": "code",
   "execution_count": 569,
   "metadata": {},
   "outputs": [],
   "source": [
    "# Save the Metrica Formatted DFs\n",
    "dfoEvents.to_pickle('Leceister 0 - [3] Liverpool_Events')\n",
    "opp_track1.to_pickle('Leceister 0 - [3] Liverpool_Home')\n",
    "liv_track1.to_pickle('Leceister 0 - [3] Liverpool_Away')"
   ]
  },
  {
   "cell_type": "code",
   "execution_count": null,
   "metadata": {},
   "outputs": [],
   "source": [
    "def format_data(play):\n",
    "    # Re-using the Leicester 0 - [3] Liverpool dataframe from before\n",
    "    data = pd.read_csv('../datasets/positional_data/liverpool_2019.csv', index_col=('play'))\n",
    "\n",
    "    dfo = data.loc[play]\n",
    "    \n",
    "    \n",
    "    # Segment DF into Home and Away Teams (+ball)\n",
    "    atk_opp_split = dfo[['player','team']].groupby('player').sum()\n",
    "\n",
    "    liv = [] \n",
    "    opp = []\n",
    "    for index,row in atk_opp_split.iterrows():\n",
    "        if 'attack' in str(row[0]):\n",
    "            liv.append(index)\n",
    "        elif 'defense' in str(row[0]):\n",
    "            opp.append(index)\n",
    "            \n",
    "    # DF shape reformatting         \n",
    "    dfo.reset_index(drop=True, inplace=True)\n",
    "\n",
    "    df = dfo[['frame','player','x','y']]\n",
    "    df = df.set_index('player')\n",
    "\n",
    "    df_t = pd.DataFrame()\n",
    "    df_t = df_t.append(df[df.frame == 0].drop('frame',axis=1).stack().to_frame().T)\n",
    "    df_t = df_t.append(df[df.frame == 1].drop('frame',axis=1).stack().to_frame().T)\n",
    "    frames = df.frame.unique()\n",
    "    df_t = pd.DataFrame()\n",
    "\n",
    "    for f in frames:\n",
    "        df_t = df_t.append(df[df.frame == f].drop('frame',axis=1).stack().to_frame().T)\n",
    "\n",
    "    df_t['frame']=frames\n",
    "    \n",
    "    \n",
    "    # Scale and transform the (x,y) to actual size in metres \n",
    "    field_dimen=(1.05,0.68)\n",
    "    # Convert to metres n place origin at centre circle \n",
    "    x_columns = [c for c in df_t.columns if c[-1].lower()=='x']\n",
    "    y_columns = [c for c in df_t.columns if c[-1].lower()=='y']\n",
    "    df_t[x_columns] = ( df_t[x_columns]-50 ) * field_dimen[0]\n",
    "    df_t[y_columns] = ( df_t[y_columns]-50 ) * field_dimen[1]\n",
    "    \n",
    "    # Get the columns for liv and opp players \n",
    "    liv_columns = [c for c in df_t.columns if c[0] in liv]\n",
    "    opp_columns = [c for c in df_t.columns if c[0] in opp]\n",
    "    # get the ball_x ball_y columns\n",
    "    ball_col = [c for c in df_t.columns if c[0] == 0]\n",
    "    # Segregate\n",
    "    liv_track = pd.concat([df_t[liv_columns], df_t[ball_col]],axis=1)\n",
    "    opp_track = pd.concat([df_t[opp_columns], df_t[ball_col]],axis=1)\n",
    "\n",
    "    newlivcolum = ['Away_'+str(x[0])+'_'+x[1] for x in liv_columns] + ['ball_x', 'ball_y']\n",
    "    newoppcolum = ['Home_'+str(x[0])+'_'+x[1] for x in opp_columns] + ['ball_x', 'ball_y']\n",
    "\n",
    "     # Reformatting for Liverpool DF\n",
    "    liv_track.columns = newoppcolum\n",
    "    liv_track = liv_track.reset_index()\n",
    "    liv_track1 = liv_track.drop('index',axis=1)\n",
    "    liv_track1.insert(0, \"Period\", [1]*len(liv_track1), True) \n",
    "    liv_track1.insert(1, \"Time [s]\",np.array(liv_track1.index)/20, True) \n",
    "    liv_track1.index.name = 'Frame'\n",
    "    \n",
    "    # Repeat for Opponent DF\n",
    "    opp_track.columns = newoppcolum\n",
    "    opp_track = opp_track.reset_index()\n",
    "    opp_track1 = opp_track.drop('index',axis=1)\n",
    "    opp_track1.insert(0, \"Period\", [1]*len(opp_track1), True) \n",
    "    opp_track1.insert(1, \"Time [s]\",np.array(opp_track1.index)/20, True) \n",
    "    opp_track1.index.name = 'Frame'\n"
   ]
  },
  {
   "cell_type": "markdown",
   "metadata": {},
   "source": [
    "### Testing Time! "
   ]
  },
  {
   "cell_type": "code",
   "execution_count": 396,
   "metadata": {},
   "outputs": [],
   "source": [
    "# Import the Metrica Packages\n",
    "\n",
    "sys.path.insert(0, os.path.abspath('../scripts/'))\n",
    "import Metrica_IO as mio\n",
    "import Metrica_Viz as mviz\n",
    "import Metrica_Velocities as mvel\n",
    "import Metrica_PitchControl as mpc"
   ]
  },
  {
   "cell_type": "code",
   "execution_count": 397,
   "metadata": {},
   "outputs": [],
   "source": [
    "# Calculate player velocities\n",
    "tracking_home = mvel.calc_player_velocities(opp_track1,smoothing=True,filter_='moving_average')\n",
    "tracking_away = mvel.calc_player_velocities(liv_track1,smoothing=True,filter_='moving_average')"
   ]
  },
  {
   "cell_type": "code",
   "execution_count": 489,
   "metadata": {},
   "outputs": [
    {
     "data": {
      "text/html": [
       "<div>\n",
       "<style scoped>\n",
       "    .dataframe tbody tr th:only-of-type {\n",
       "        vertical-align: middle;\n",
       "    }\n",
       "\n",
       "    .dataframe tbody tr th {\n",
       "        vertical-align: top;\n",
       "    }\n",
       "\n",
       "    .dataframe thead th {\n",
       "        text-align: right;\n",
       "    }\n",
       "</style>\n",
       "<table border=\"1\" class=\"dataframe\">\n",
       "  <thead>\n",
       "    <tr style=\"text-align: right;\">\n",
       "      <th></th>\n",
       "      <th>Team</th>\n",
       "      <th>Type</th>\n",
       "      <th>Subtype</th>\n",
       "      <th>Period</th>\n",
       "      <th>Start Frame</th>\n",
       "      <th>Start Time [s]</th>\n",
       "      <th>End Frame</th>\n",
       "      <th>End Time [s]</th>\n",
       "      <th>From</th>\n",
       "      <th>To</th>\n",
       "      <th>Start X</th>\n",
       "      <th>Start Y</th>\n",
       "      <th>End X</th>\n",
       "      <th>End Y</th>\n",
       "    </tr>\n",
       "  </thead>\n",
       "  <tbody>\n",
       "    <tr>\n",
       "      <th>44</th>\n",
       "      <td>Away</td>\n",
       "      <td>SHOT</td>\n",
       "      <td>ON TARGET-GOAL</td>\n",
       "      <td>1</td>\n",
       "      <td>96.0</td>\n",
       "      <td>4.8</td>\n",
       "      <td>124.0</td>\n",
       "      <td>6.2</td>\n",
       "      <td>Player13</td>\n",
       "      <td>NaN</td>\n",
       "      <td>43.13465</td>\n",
       "      <td>4.246567</td>\n",
       "      <td>50.680272</td>\n",
       "      <td>-5.042017</td>\n",
       "    </tr>\n",
       "  </tbody>\n",
       "</table>\n",
       "</div>"
      ],
      "text/plain": [
       "    Team  Type         Subtype  Period  Start Frame  Start Time [s]  \\\n",
       "44  Away  SHOT  ON TARGET-GOAL       1         96.0             4.8   \n",
       "\n",
       "    End Frame  End Time [s]      From   To   Start X   Start Y      End X  \\\n",
       "44      124.0           6.2  Player13  NaN  43.13465  4.246567  50.680272   \n",
       "\n",
       "       End Y  \n",
       "44 -5.042017  "
      ]
     },
     "execution_count": 489,
     "metadata": {},
     "output_type": "execute_result"
    }
   ],
   "source": [
    "\"\"\" **** pitch control for passes leading up to goal vs Leicester **** \"\"\"\n",
    "\n",
    "# get all shots and goals in the match\n",
    "shots = dfoEvents[dfoEvents['Type']=='SHOT']\n",
    "goals = shots[shots['Subtype'].str.contains('-GOAL')].copy()\n",
    "\n",
    "goals"
   ]
  },
  {
   "cell_type": "code",
   "execution_count": 529,
   "metadata": {},
   "outputs": [
    {
     "data": {
      "text/plain": [
       "(<Figure size 864x576 with 1 Axes>,\n",
       " <matplotlib.axes._subplots.AxesSubplot at 0x28b136d0c88>)"
      ]
     },
     "execution_count": 529,
     "metadata": {},
     "output_type": "execute_result"
    },
    {
     "data": {
      "image/png": "[encoded data removed]",
      "text/plain": [
       "<Figure size 864x576 with 1 Axes>"
      ]
     },
     "metadata": {},
     "output_type": "display_data"
    }
   ],
   "source": [
    "# plot the 3 events leading up to the second goal\n",
    "mviz.plot_events( dfoEvents.loc[:], color='k', indicators = ['Marker','Arrow'], annotate=True )\n"
   ]
  },
  {
   "cell_type": "code",
   "execution_count": 491,
   "metadata": {},
   "outputs": [],
   "source": [
    "# first get model parameters\n",
    "params = mpc.default_model_params(3)\n",
    "\n",
    "# evaluated pitch control surface for first pass\n",
    "PPCF,xgrid,ygrid = mpc.generate_pitch_control_for_event(0, dfoEvents, tracking_home, tracking_away, params, field_dimen = (106.,68.,), n_grid_cells_x = 50)"
   ]
  },
  {
   "cell_type": "code",
   "execution_count": 530,
   "metadata": {},
   "outputs": [
    {
     "data": {
      "text/plain": [
       "(<Figure size 864x576 with 1 Axes>,\n",
       " <matplotlib.axes._subplots.AxesSubplot at 0x28b15bed358>)"
      ]
     },
     "execution_count": 530,
     "metadata": {},
     "output_type": "execute_result"
    },
    {
     "data": {
      "image/png": "[encoded data removed]",
      "text/plain": [
       "<Figure size 864x576 with 1 Axes>"
      ]
     },
     "metadata": {},
     "output_type": "display_data"
    }
   ],
   "source": [
    "mviz.plot_pitchcontrol_for_event(0, dfoEvents,  tracking_home, tracking_away, PPCF, xgrid, ygrid, annotate=True )"
   ]
  },
  {
   "cell_type": "code",
   "execution_count": 533,
   "metadata": {},
   "outputs": [
    {
     "data": {
      "text/plain": [
       "(<Figure size 864x576 with 1 Axes>,\n",
       " <matplotlib.axes._subplots.AxesSubplot at 0x28b165c7208>)"
      ]
     },
     "execution_count": 533,
     "metadata": {},
     "output_type": "execute_result"
    },
    {
     "data": {
      "image/png": "[encoded data removed]",
      "text/plain": [
       "<Figure size 864x576 with 1 Axes>"
      ]
     },
     "metadata": {},
     "output_type": "display_data"
    }
   ],
   "source": [
    "mviz.plot_pitchcontrol_for_event(1, dfoEvents,  tracking_home, tracking_away, PPCF, xgrid, ygrid, annotate=True )"
   ]
  },
  {
   "cell_type": "code",
   "execution_count": 538,
   "metadata": {},
   "outputs": [
    {
     "data": {
      "text/plain": [
       "array([0.9701158 , 0.97059749, 0.97102934, 0.97141269, 0.96909763,\n",
       "       0.96955242, 0.96995023, 0.97029157, 0.97057653, 0.97080472,\n",
       "       0.96848426, 0.96873444, 0.96891101, 0.96901045, 0.96902733,\n",
       "       0.96895235, 0.96876608, 0.96603195, 0.96542787, 0.96631312,\n",
       "       0.96252117, 0.95419945, 0.93170744, 0.88307193, 0.79432934,\n",
       "       0.68725049, 0.6014096 , 0.55273777, 0.509099  , 0.39302225,\n",
       "       0.19331829, 0.10882502, 0.12295844, 0.15242849, 0.16218133,\n",
       "       0.22348787, 0.36527346, 0.4466574 , 0.51056856, 0.60199478,\n",
       "       0.70346735, 0.70320886, 0.54582272, 0.41656803, 0.38057839,\n",
       "       0.31527532, 0.16241895, 0.05464806, 0.02039368, 0.00862659])"
      ]
     },
     "execution_count": 538,
     "metadata": {},
     "output_type": "execute_result"
    }
   ],
   "source": [
    "PPCF[16]"
   ]
  },
  {
   "cell_type": "markdown",
   "metadata": {},
   "source": [
    "## Need to modify the module function so that I can compute the pitch control at any frame rather than just event frames "
   ]
  },
  {
   "cell_type": "code",
   "execution_count": 542,
   "metadata": {},
   "outputs": [
    {
     "data": {
      "text/plain": [
       "Index(['Period', 'Time [s]', 'Home_379_x', 'Home_379_y', 'Home_380_x',\n",
       "       'Home_380_y', 'Home_381_x', 'Home_381_y', 'Home_382_x', 'Home_382_y',\n",
       "       'Home_1330_x', 'Home_1330_y', 'Home_7027_x', 'Home_7027_y',\n",
       "       'Home_8231_x', 'Home_8231_y', 'Home_9233_x', 'Home_9233_y',\n",
       "       'Home_9624_x', 'Home_9624_y', 'Home_9625_x', 'Home_9625_y',\n",
       "       'Home_10267_x', 'Home_10267_y', 'ball_x', 'ball_y', 'Home_10267_vx',\n",
       "       'Home_10267_vy', 'Home_10267_speed', 'Home_1330_vx', 'Home_1330_vy',\n",
       "       'Home_1330_speed', 'Home_379_vx', 'Home_379_vy', 'Home_379_speed',\n",
       "       'Home_380_vx', 'Home_380_vy', 'Home_380_speed', 'Home_381_vx',\n",
       "       'Home_381_vy', 'Home_381_speed', 'Home_382_vx', 'Home_382_vy',\n",
       "       'Home_382_speed', 'Home_7027_vx', 'Home_7027_vy', 'Home_7027_speed',\n",
       "       'Home_8231_vx', 'Home_8231_vy', 'Home_8231_speed', 'Home_9233_vx',\n",
       "       'Home_9233_vy', 'Home_9233_speed', 'Home_9624_vx', 'Home_9624_vy',\n",
       "       'Home_9624_speed', 'Home_9625_vx', 'Home_9625_vy', 'Home_9625_speed'],\n",
       "      dtype='object')"
      ]
     },
     "execution_count": 542,
     "metadata": {},
     "output_type": "execute_result"
    }
   ],
   "source": [
    "tracking_home.columns"
   ]
  },
  {
   "cell_type": "code",
   "execution_count": 548,
   "metadata": {},
   "outputs": [],
   "source": [
    "def generate_pitch_control_for_frame(frame, home_team, tracking_home, tracking_away, params, field_dimen = (106.,68.,), n_grid_cells_x = 50):\n",
    "    \"\"\" generate_pitch_control_for_frame\n",
    "    \n",
    "    Evaluates pitch control surface over the entire field at the moment of the given event (determined by the index of the event passed as an input)\n",
    "    \n",
    "    Parameters\n",
    "    -----------\n",
    "        event_id: Index (not row) of the event that describes the instant at which the pitch control surface should be calculated\n",
    "        events: Dataframe containing the event data\n",
    "        tracking_home: tracking DataFrame for the Home team\n",
    "        tracking_away: tracking DataFrame for the Away team\n",
    "        params: Dictionary of model parameters (default model parameters can be generated using default_model_params() )\n",
    "        field_dimen: tuple containing the length and width of the pitch in meters. Default is (106,68)\n",
    "        n_grid_cells_x: Number of pixels in the grid (in the x-direction) that covers the surface. Default is 50.\n",
    "                        n_grid_cells_y will be calculated based on n_grid_cells_x and the field dimensions\n",
    "        \n",
    "    Returrns\n",
    "    -----------\n",
    "        PPCFa: Pitch control surface (dimen (n_grid_cells_x,n_grid_cells_y) ) containing pitch control probability for the attcking team.\n",
    "               Surface for the defending team is just 1-PPCFa.\n",
    "        xgrid: Positions of the pixels in the x-direction (field length)\n",
    "        ygrid: Positions of the pixels in the y-direction (field width)\n",
    "\n",
    "    \"\"\"\n",
    "    # get the details of the event (frame, team in possession, ball_start_position)\n",
    "    ball_start_pos = np.array([tracking_home.loc[frame]['ball_x'],tracking_home.loc[frame]['ball_y']])\n",
    "    # break the pitch down into a grid\n",
    "    n_grid_cells_y = int(n_grid_cells_x*field_dimen[1]/field_dimen[0])\n",
    "    xgrid = np.linspace( -field_dimen[0]/2., field_dimen[0]/2., n_grid_cells_x)\n",
    "    ygrid = np.linspace( -field_dimen[1]/2., field_dimen[1]/2., n_grid_cells_y )\n",
    "    # initialise pitch control grids for attacking and defending teams \n",
    "    PPCFa = np.zeros( shape = (len(ygrid), len(xgrid)) )\n",
    "    PPCFd = np.zeros( shape = (len(ygrid), len(xgrid)) )\n",
    "    # initialise player positions and velocities for pitch control calc (so that we're not repeating this at each grid cell position)\n",
    "    if home_team=='Liverpool':\n",
    "        attacking_players = mpc.initialise_players(tracking_home.loc[frame],'Home',params)\n",
    "        defending_players = mpc.initialise_players(tracking_away.loc[frame],'Away',params)\n",
    "    elif home_team=='Opp':\n",
    "        defending_players = mpc.initialise_players(tracking_home.loc[frame],'Home',params)\n",
    "        attacking_players = mpc.initialise_players(tracking_away.loc[frame],'Away',params)\n",
    "    else:\n",
    "        assert False, \"Team in possession must be either home or away\"\n",
    "    # calculate pitch pitch control model at each location on the pitch\n",
    "    for i in range( len(ygrid) ):\n",
    "        for j in range( len(xgrid) ):\n",
    "            target_position = np.array( [xgrid[j], ygrid[i]] )\n",
    "            PPCFa[i,j],PPCFd[i,j] = mpc.calculate_pitch_control_at_target(target_position, attacking_players, defending_players, ball_start_pos, params)\n",
    "    # check probabilitiy sums within convergence\n",
    "    checksum = np.sum( PPCFa + PPCFd ) / float(n_grid_cells_y*n_grid_cells_x ) \n",
    "    assert 1-checksum < params['model_converge_tol'], \"Checksum failed: %1.3f\" % (1-checksum)\n",
    "    return PPCFa,xgrid,ygrid"
   ]
  },
  {
   "cell_type": "code",
   "execution_count": 549,
   "metadata": {},
   "outputs": [],
   "source": [
    "PPCF,xgrid,ygrid = generate_pitch_control_for_frame(0, \"Opp\", tracking_home, tracking_away, params, field_dimen = (106.,68.,), n_grid_cells_x = 50)"
   ]
  },
  {
   "cell_type": "code",
   "execution_count": 557,
   "metadata": {},
   "outputs": [
    {
     "data": {
      "text/plain": [
       "<matplotlib.collections.PolyCollection at 0x28b19beac18>"
      ]
     },
     "execution_count": 557,
     "metadata": {},
     "output_type": "execute_result"
    },
    {
     "data": {
      "image/png": "[encoded data removed]",
      "text/plain": [
       "<Figure size 432x288 with 1 Axes>"
      ]
     },
     "metadata": {
      "needs_background": "light"
     },
     "output_type": "display_data"
    }
   ],
   "source": [
    "plt.pcolor(xgrid,ygrid,PPCF, cmap='RdBu')"
   ]
  },
  {
   "cell_type": "code",
   "execution_count": 558,
   "metadata": {},
   "outputs": [],
   "source": [
    "PPCF1,xgrid1,ygrid1 = generate_pitch_control_for_frame(124, \"Opp\", tracking_home, tracking_away, params, field_dimen = (106.,68.,), n_grid_cells_x = 50)"
   ]
  },
  {
   "cell_type": "code",
   "execution_count": 559,
   "metadata": {},
   "outputs": [
    {
     "data": {
      "text/plain": [
       "<matplotlib.collections.PolyCollection at 0x28b1c7e8e48>"
      ]
     },
     "execution_count": 559,
     "metadata": {},
     "output_type": "execute_result"
    },
    {
     "data": {
      "image/png": "[encoded data removed]",
      "text/plain": [
       "<Figure size 432x288 with 1 Axes>"
      ]
     },
     "metadata": {
      "needs_background": "light"
     },
     "output_type": "display_data"
    }
   ],
   "source": [
    "plt.pcolor(xgrid,ygrid,PPCF1, cmap='RdBu')"
   ]
  },
  {
   "cell_type": "code",
   "execution_count": 568,
   "metadata": {},
   "outputs": [
    {
     "data": {
      "text/plain": [
       "Text(0.5, 1.0, 'Liverpool vs Leicester Pitch Control Gain (after-before 0-[3] goal)')"
      ]
     },
     "execution_count": 568,
     "metadata": {},
     "output_type": "execute_result"
    },
    {
     "data": {
      "image/png": "[encoded data removed]",
      "text/plain": [
       "<Figure size 432x288 with 2 Axes>"
      ]
     },
     "metadata": {
      "needs_background": "light"
     },
     "output_type": "display_data"
    }
   ],
   "source": [
    "plt.pcolor(xgrid,ygrid,PPCF1-PPCF, cmap='RdBu')\n",
    "plt.colorbar()\n",
    "plt.title('Liverpool vs Leicester Pitch Control Gain (after-before 0-[3] goal)')"
   ]
  },
  {
   "cell_type": "code",
   "execution_count": null,
   "metadata": {},
   "outputs": [],
   "source": [
    "# IDEA plot gradient of pitch control variation per grid box...\n",
    "# Along with the change from last frame to first "
   ]
  },
  {
   "cell_type": "code",
   "execution_count": 567,
   "metadata": {},
   "outputs": [
    {
     "data": {
      "text/plain": [
       "array([[48.31888124, 47.61076686, 46.52498386, 44.93125107, 42.66130061,\n",
       "        39.10980619, 34.30033976, 32.24334912, 32.34040398, 32.9968782 ,\n",
       "        34.60487897, 36.2222796 , 35.42579299, 32.95869059, 31.42993785,\n",
       "        31.31351985, 32.34802999, 33.18101981, 33.8013885 , 33.60080402,\n",
       "        33.78281377, 36.39640889, 38.66852262, 40.42376182, 41.93525917,\n",
       "        42.99494712, 43.66009458, 44.1762012 , 44.69726168, 45.23174325,\n",
       "        45.66547168, 45.9187118 ],\n",
       "       [41.43185864, 41.34079429, 41.25906027, 41.20062741, 41.16097085,\n",
       "        41.13287829, 41.05602867, 40.81096303, 40.11207303, 38.85958978,\n",
       "        38.05518961, 38.37208505, 38.2272794 , 36.71572444, 35.15179429,\n",
       "        34.53335562, 33.52244761, 33.3130161 , 34.18876121, 35.07535704,\n",
       "        35.64325398, 37.15054274, 39.12217285, 40.60003818, 41.608974  ,\n",
       "        42.28486455, 42.79244406, 43.19159233, 43.56921515, 43.91596446,\n",
       "        44.25704084, 44.60101004]])"
      ]
     },
     "execution_count": 567,
     "metadata": {},
     "output_type": "execute_result"
    }
   ],
   "source": [
    "np.array([np.sum(PPCF,axis=1)]+[np.sum(PPCF1,axis=1)])"
   ]
  },
  {
   "cell_type": "code",
   "execution_count": 555,
   "metadata": {},
   "outputs": [],
   "source": [
    "# Defensive Shape + Synergy? Speed vectors/quivers # Take after their pitch control methodology"
   ]
  },
  {
   "cell_type": "code",
   "execution_count": null,
   "metadata": {},
   "outputs": [],
   "source": [
    "# Erm some sort of MJO phase diagram thingy w fading colours to show movement btn frames as a single frame "
   ]
  }
 ],
 "metadata": {
  "kernelspec": {
   "display_name": "Python 3",
   "language": "python",
   "name": "python3"
  },
  "language_info": {
   "codemirror_mode": {
    "name": "ipython",
    "version": 3
   },
   "file_extension": ".py",
   "mimetype": "text/x-python",
   "name": "python",
   "nbconvert_exporter": "python",
   "pygments_lexer": "ipython3",
   "version": "3.6.10"
  }
 },
 "nbformat": 4,
 "nbformat_minor": 4
}
